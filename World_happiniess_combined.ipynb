{
 "cells": [
  {
   "cell_type": "markdown",
   "metadata": {
    "id": "Jsq3YPNo_v4c"
   },
   "source": [
    "# **WORLD'S HAPPINESS REPORT**\n",
    "\n",
    "\n",
    "---\n",
    "\n",
    "\n"
   ]
  },
  {
   "cell_type": "markdown",
   "metadata": {
    "id": "v8vetx2wn_U1"
   },
   "source": [
    "## **Problem Description**\n",
    "In real data science work, We rarely have clean datasets to work on. We might need to gather the datasets from different sources and then select, transform data to answer further analytical questions. \n",
    "\n",
    "However, this data cleaning or data wrangling process is time consuming. Some time it might cause more than 80% of our time and only leave 20% of time to do data analysis.  So, does is the data cleaning worth our time and effort?\n",
    "\n",
    "Data cleaning does consume so much time and so little to show for our hard work. However, is like the foundation of a building. Without the solid foundation, our further analysis will not be reliable. Oppositely, after the data wrangling work done, we can deliver analysis result more quickly and accurately.\n",
    "\n",
    "In this project, we are going to use World Happiness Report datasets and 3 supplement datasets to do the data wrangling and data analysis. In this project, you will see more than 80% of our work is data wrangling. However, it builds a solid foundation of our project so that we are more confident about the results and conclusion we made in the end. \n",
    "\n",
    "Our project has two main parts. \n",
    "\n",
    "\n",
    "**Part 1:Happiness Score Over Years.** \n",
    "\n",
    "\n",
    "We use 6 annual world happiness report datasets to analyze the trend of happiness score changing from 2015 to 2020\n",
    "\n",
    "**Part 2:What factors contribute to happiness score?.** \n",
    "\n",
    "We use the 2020 world happiness report dataset, 2020 world population dataset, 2020 world alcohol consumption dataset, and 2020 world fertility dataset to analyze what factors contribute to or influence our happiness \n"
   ]
  },
  {
   "cell_type": "code",
   "execution_count": null,
   "metadata": {
    "id": "3XGNOWIUnAM5"
   },
   "outputs": [],
   "source": [
    "import pandas as pd\n",
    "import numpy as np\n",
    "import matplotlib.pyplot as plt\n",
    "import seaborn as sns\n",
    "import plotly.express as px\n",
    "%matplotlib inline"
   ]
  },
  {
   "cell_type": "code",
   "execution_count": null,
   "metadata": {
    "colab": {
     "base_uri": "https://localhost:8080/"
    },
    "id": "6-JOaLn4q7fq",
    "outputId": "7648048d-3583-4b3a-d1c1-cdac94c2505b"
   },
   "outputs": [
    {
     "name": "stdout",
     "output_type": "stream",
     "text": [
      "Mounted at /content/drive\n"
     ]
    }
   ],
   "source": [
    "from google.colab import drive\n",
    "drive.mount('/content/drive')"
   ]
  },
  {
   "cell_type": "code",
   "execution_count": null,
   "metadata": {
    "colab": {
     "base_uri": "https://localhost:8080/"
    },
    "id": "TB_0PrXTp5vS",
    "outputId": "b89893bd-1260-4d39-f27b-b5fbb0ddb2b3"
   },
   "outputs": [
    {
     "name": "stdout",
     "output_type": "stream",
     "text": [
      "drive  sample_data\n",
      "/content\n"
     ]
    }
   ],
   "source": [
    "!ls\n",
    "!pwd\n",
    "path = '/content/drive/MyDrive/ColabNotebooks/project/data/'"
   ]
  },
  {
   "cell_type": "markdown",
   "metadata": {
    "id": "0hu1PqJUieJv"
   },
   "source": [
    "\n",
    "\n",
    "---\n",
    "\n",
    "\n",
    "\n",
    "---\n",
    "\n",
    "\n",
    "\n",
    "\n",
    "# ***Part 1: Happiness Score Over Years***\n",
    "\n",
    "In this report, we will first look at the *'Happiness Score'* over 2015 to 2020 to see if the score has increase or decrease. We, then, will observe datasets from different sources to see which factor has the most impact on the *'Happiness Score'* that may lead to the change."
   ]
  },
  {
   "cell_type": "markdown",
   "metadata": {
    "id": "AY82Fhk4jlzR"
   },
   "source": [
    "## **Data Description**\n",
    "\n"
   ]
  },
  {
   "cell_type": "markdown",
   "metadata": {
    "id": "v3-76oa1f5gY"
   },
   "source": [
    "In this section, we will be observing how the global happiness score change between 2015 and 2020.\n",
    "\n",
    "**Variable Name & Description of Indicator:** \n",
    "1. Country name : We show the names of the countries.\n",
    "2. Regional : Shows which region the country is in.\n",
    "3. Standard error of Happiness score : Showing the error rate in the ladder score.\n",
    "4. upperwhisker : upper limit of score.\n",
    "5. lowerwhisker : lowe limti of score.\n",
    "6. Logged GDP per capita : is the total monetary or market value of all the finished goods and services produced within a country's borders in a specific time period.\n",
    "7. Social support : social support scores of countries.\n",
    "8. Healthy life expectancy : healthy life expectancy of countries.\n",
    "9. Freedom to make life choices : the freedom of people in that country to choose life.\n",
    "10. Generosity : Generosity rate of the country.\n",
    "11. Perceptions of corruption : corruption perceptions in the country..\n",
    "12. Ladder score in Dystopia : Ladder score in Dystopia of the coutry (Dystopia: alternatively cacotopia or simply anti-utopia) is a community or society that is undesirable or frightening) .\n",
    "13. Explained by: Log GDP per capita : Explained Log GDP per capita ratio.\n",
    "14. Explained by: Social support : Explained social support rate.\n",
    "15. Explained by: Healthy life expectancy : Explained Healthy life expectancy\n",
    "16. Explained by: Freedom to make life choices : Explained Freedom to make life choices\n",
    "17. Explained by: Generosity : Explained Generosity\n",
    "18. Explained by: Perceptions of corruption : Explained Perceptions of corruption.\n",
    "19. Dystopia + residual : Dystopia + residual total rate."
   ]
  },
  {
   "cell_type": "code",
   "execution_count": null,
   "metadata": {
    "id": "3Ir2mCfMmPzQ"
   },
   "outputs": [],
   "source": [
    "df_2015 = pd.read_csv(path+\"2015.csv\")\n",
    "df_2016 = pd.read_csv(path+\"2016.csv\")\n",
    "df_2017 = pd.read_csv(path+\"2017.csv\")\n",
    "df_2018 = pd.read_csv(path+\"2018.csv\")\n",
    "df_2019 = pd.read_csv(path+\"2019.csv\")\n",
    "df_2020 = pd.read_csv(path+\"2020.csv\")"
   ]
  },
  {
   "cell_type": "markdown",
   "metadata": {
    "id": "1rCce7yb_92j"
   },
   "source": [
    "\n",
    "\n",
    "---\n",
    "\n",
    "\n",
    "\n",
    "---\n",
    "\n"
   ]
  },
  {
   "cell_type": "markdown",
   "metadata": {
    "id": "sEHovFJmA_cq"
   },
   "source": [
    "## **Data Preparation**\n",
    "\n",
    "We will be adding a column 'year' for each dataset to distinguish the year of the dataset after combining the data."
   ]
  },
  {
   "cell_type": "code",
   "execution_count": null,
   "metadata": {
    "id": "nsUD5R53oO0B"
   },
   "outputs": [],
   "source": [
    "df_2015['Year'] = 2015\n",
    "df_2016['Year'] = 2016\n",
    "df_2017['Year'] = 2017\n",
    "df_2018['Year'] = 2018\n",
    "df_2019['Year'] = 2019\n",
    "df_2020['Year'] = 2020"
   ]
  },
  {
   "cell_type": "code",
   "execution_count": null,
   "metadata": {
    "colab": {
     "base_uri": "https://localhost:8080/"
    },
    "id": "oMCIZWSDoomW",
    "outputId": "4f2141ad-dc65-4829-a542-774db7129f65"
   },
   "outputs": [
    {
     "name": "stdout",
     "output_type": "stream",
     "text": [
      "Year : 2015\n",
      "Year : 2016\n",
      "Year : 2017\n",
      "Year : 2018\n",
      "Year : 2019\n",
      "Year : 2020\n"
     ]
    }
   ],
   "source": [
    "# to show the last column 'Year' was successfully added to all datasets\n",
    "data_year = [df_2015,df_2016,df_2017,df_2018,df_2019,df_2020]\n",
    "for data in data_year:\n",
    "  print(data.columns[-1],':', data['Year'][1])"
   ]
  },
  {
   "cell_type": "code",
   "execution_count": null,
   "metadata": {
    "colab": {
     "base_uri": "https://localhost:8080/"
    },
    "id": "UVL0FdPWsYuW",
    "outputId": "7e27cf11-e807-4e6c-be95-c050a89073b1"
   },
   "outputs": [
    {
     "name": "stdout",
     "output_type": "stream",
     "text": [
      "2015 : ['Country', 'Region', 'Happiness Rank', 'Happiness Score', 'Standard Error', 'Economy (GDP per Capita)', 'Family', 'Health (Life Expectancy)', 'Freedom', 'Trust (Government Corruption)', 'Generosity', 'Dystopia Residual', 'Year']\n",
      "2016 : ['Country', 'Region', 'Happiness Rank', 'Happiness Score', 'Lower Confidence Interval', 'Upper Confidence Interval', 'Economy (GDP per Capita)', 'Family', 'Health (Life Expectancy)', 'Freedom', 'Trust (Government Corruption)', 'Generosity', 'Dystopia Residual', 'Year']\n",
      "2017 : ['Country', 'Happiness.Rank', 'Happiness.Score', 'Whisker.high', 'Whisker.low', 'Economy..GDP.per.Capita.', 'Family', 'Health..Life.Expectancy.', 'Freedom', 'Generosity', 'Trust..Government.Corruption.', 'Dystopia.Residual', 'Year']\n",
      "2018 : ['Overall rank', 'Country or region', 'Score', 'GDP per capita', 'Social support', 'Healthy life expectancy', 'Freedom to make life choices', 'Generosity', 'Perceptions of corruption', 'Year']\n",
      "2019 : ['Overall rank', 'Country or region', 'Score', 'GDP per capita', 'Social support', 'Healthy life expectancy', 'Freedom to make life choices', 'Generosity', 'Perceptions of corruption', 'Year']\n",
      "2020 : ['Country name', 'Regional indicator', 'Ladder score', 'Standard error of ladder score', 'upperwhisker', 'lowerwhisker', 'Logged GDP per capita', 'Social support', 'Healthy life expectancy', 'Freedom to make life choices', 'Generosity', 'Perceptions of corruption', 'Ladder score in Dystopia', 'Explained by: Log GDP per capita', 'Explained by: Social support', 'Explained by: Healthy life expectancy', 'Explained by: Freedom to make life choices', 'Explained by: Generosity', 'Explained by: Perceptions of corruption', 'Dystopia + residual', 'Year']\n"
     ]
    }
   ],
   "source": [
    "# list of column names\n",
    "for data in data_year:\n",
    "  print(data['Year'][1],':',list(data.columns))"
   ]
  },
  {
   "cell_type": "markdown",
   "metadata": {
    "id": "BTQ5EAUBrpw1"
   },
   "source": [
    "We will be renaming some of the columns in each datasets to synchronize the data names."
   ]
  },
  {
   "cell_type": "code",
   "execution_count": null,
   "metadata": {
    "id": "RCPyxjCpr2M7"
   },
   "outputs": [],
   "source": [
    "df_2017.rename(columns = {'Happiness.Rank':'Happiness Rank',\n",
    "                          'Happiness.Score':'Happiness Score',\n",
    "                          'Economy..GDP.per.Capita.' : 'Economy (GDP per Capita)',\n",
    "                          'Health..Life.Expectancy.' : 'Health (Life Expectancy)',\n",
    "                          'Trust..Government.Corruption.' : 'Trust (Government Corruption)',\n",
    "                           }, inplace = True)\n",
    "df_2018.rename(columns = {'Overall rank' : 'Happiness Rank',\n",
    "                          'Country or region' : 'Country',\n",
    "                          'Score' : 'Happiness Score',\n",
    "                          'Social support' : 'Family',\n",
    "                          'GDP per capita' : 'Economy (GDP per Capita)',\n",
    "                          'Healthy life expectancy' : 'Health (Life Expectancy)',\n",
    "                          'Freedom to make life choices' :'Freedom',\n",
    "                          'Perceptions of corruption' : 'Trust (Government Corruption)'\n",
    "                          }, inplace = True)\n",
    "df_2019.rename(columns = {'Overall rank' : 'Happiness Rank',\n",
    "                          'Country or region' : 'Country',\n",
    "                          'Score' : 'Happiness Score',\n",
    "                          'Social support' : 'Family',\n",
    "                          'GDP per capita' : 'Economy (GDP per Capita)',\n",
    "                          'Healthy life expectancy' : 'Health (Life Expectancy)',\n",
    "                          'Freedom to make life choices' :'Freedom',\n",
    "                          'Perceptions of corruption' : 'Trust (Government Corruption)'\n",
    "                          }, inplace = True)\n",
    "df_2020.rename(columns ={'Explained by: Log GDP per capita' : 'Economy (GDP per Capita)',\n",
    "                         'Country name':'Country', \n",
    "                         'Regional indicator':'Region',\n",
    "                         'Standard error of ladder score':'Standard Error', \n",
    "                         'Logged GDP per capita':'Logged GDPPC',\n",
    "                         'Social support':'Family', \n",
    "                         'Healthy life expectancy':'Health (Life Expectancy)',\n",
    "                         'Freedom to make life choices':'Freedom', 'Perceptions of corruption': 'Trust (Government Corruption)','Ladder score' : 'Happiness Score'\n",
    "                          },inplace=True)"
   ]
  },
  {
   "cell_type": "markdown",
   "metadata": {
    "id": "Duy1-R7rioCv"
   },
   "source": [
    "### ***World Happiness Report 2015***"
   ]
  },
  {
   "cell_type": "code",
   "execution_count": null,
   "metadata": {
    "colab": {
     "base_uri": "https://localhost:8080/",
     "height": 1000
    },
    "id": "D_h7PKfudmqF",
    "outputId": "2e019302-8e17-47f1-bfd0-e7775b93f298"
   },
   "outputs": [
    {
     "name": "stdout",
     "output_type": "stream",
     "text": [
      "<class 'pandas.core.frame.DataFrame'>\n",
      "RangeIndex: 158 entries, 0 to 157\n",
      "Data columns (total 13 columns):\n",
      " #   Column                         Non-Null Count  Dtype  \n",
      "---  ------                         --------------  -----  \n",
      " 0   Country                        158 non-null    object \n",
      " 1   Region                         158 non-null    object \n",
      " 2   Happiness Rank                 158 non-null    int64  \n",
      " 3   Happiness Score                158 non-null    float64\n",
      " 4   Standard Error                 158 non-null    float64\n",
      " 5   Economy (GDP per Capita)       158 non-null    float64\n",
      " 6   Family                         158 non-null    float64\n",
      " 7   Health (Life Expectancy)       158 non-null    float64\n",
      " 8   Freedom                        158 non-null    float64\n",
      " 9   Trust (Government Corruption)  158 non-null    float64\n",
      " 10  Generosity                     158 non-null    float64\n",
      " 11  Dystopia Residual              158 non-null    float64\n",
      " 12  Year                           158 non-null    int64  \n",
      "dtypes: float64(9), int64(2), object(2)\n",
      "memory usage: 16.2+ KB\n"
     ]
    },
    {
     "data": {
      "text/html": [
       "<div>\n",
       "<style scoped>\n",
       "    .dataframe tbody tr th:only-of-type {\n",
       "        vertical-align: middle;\n",
       "    }\n",
       "\n",
       "    .dataframe tbody tr th {\n",
       "        vertical-align: top;\n",
       "    }\n",
       "\n",
       "    .dataframe thead th {\n",
       "        text-align: right;\n",
       "    }\n",
       "</style>\n",
       "<table border=\"1\" class=\"dataframe\">\n",
       "  <thead>\n",
       "    <tr style=\"text-align: right;\">\n",
       "      <th></th>\n",
       "      <th>Country</th>\n",
       "      <th>Region</th>\n",
       "      <th>Happiness Rank</th>\n",
       "      <th>Happiness Score</th>\n",
       "      <th>Standard Error</th>\n",
       "      <th>Economy (GDP per Capita)</th>\n",
       "      <th>Family</th>\n",
       "      <th>Health (Life Expectancy)</th>\n",
       "      <th>Freedom</th>\n",
       "      <th>Trust (Government Corruption)</th>\n",
       "      <th>Generosity</th>\n",
       "      <th>Dystopia Residual</th>\n",
       "      <th>Year</th>\n",
       "    </tr>\n",
       "  </thead>\n",
       "  <tbody>\n",
       "    <tr>\n",
       "      <th>0</th>\n",
       "      <td>Switzerland</td>\n",
       "      <td>Western Europe</td>\n",
       "      <td>1</td>\n",
       "      <td>7.587</td>\n",
       "      <td>0.03411</td>\n",
       "      <td>1.39651</td>\n",
       "      <td>1.34951</td>\n",
       "      <td>0.94143</td>\n",
       "      <td>0.66557</td>\n",
       "      <td>0.41978</td>\n",
       "      <td>0.29678</td>\n",
       "      <td>2.51738</td>\n",
       "      <td>2015</td>\n",
       "    </tr>\n",
       "    <tr>\n",
       "      <th>1</th>\n",
       "      <td>Iceland</td>\n",
       "      <td>Western Europe</td>\n",
       "      <td>2</td>\n",
       "      <td>7.561</td>\n",
       "      <td>0.04884</td>\n",
       "      <td>1.30232</td>\n",
       "      <td>1.40223</td>\n",
       "      <td>0.94784</td>\n",
       "      <td>0.62877</td>\n",
       "      <td>0.14145</td>\n",
       "      <td>0.43630</td>\n",
       "      <td>2.70201</td>\n",
       "      <td>2015</td>\n",
       "    </tr>\n",
       "    <tr>\n",
       "      <th>2</th>\n",
       "      <td>Denmark</td>\n",
       "      <td>Western Europe</td>\n",
       "      <td>3</td>\n",
       "      <td>7.527</td>\n",
       "      <td>0.03328</td>\n",
       "      <td>1.32548</td>\n",
       "      <td>1.36058</td>\n",
       "      <td>0.87464</td>\n",
       "      <td>0.64938</td>\n",
       "      <td>0.48357</td>\n",
       "      <td>0.34139</td>\n",
       "      <td>2.49204</td>\n",
       "      <td>2015</td>\n",
       "    </tr>\n",
       "    <tr>\n",
       "      <th>3</th>\n",
       "      <td>Norway</td>\n",
       "      <td>Western Europe</td>\n",
       "      <td>4</td>\n",
       "      <td>7.522</td>\n",
       "      <td>0.03880</td>\n",
       "      <td>1.45900</td>\n",
       "      <td>1.33095</td>\n",
       "      <td>0.88521</td>\n",
       "      <td>0.66973</td>\n",
       "      <td>0.36503</td>\n",
       "      <td>0.34699</td>\n",
       "      <td>2.46531</td>\n",
       "      <td>2015</td>\n",
       "    </tr>\n",
       "    <tr>\n",
       "      <th>4</th>\n",
       "      <td>Canada</td>\n",
       "      <td>North America</td>\n",
       "      <td>5</td>\n",
       "      <td>7.427</td>\n",
       "      <td>0.03553</td>\n",
       "      <td>1.32629</td>\n",
       "      <td>1.32261</td>\n",
       "      <td>0.90563</td>\n",
       "      <td>0.63297</td>\n",
       "      <td>0.32957</td>\n",
       "      <td>0.45811</td>\n",
       "      <td>2.45176</td>\n",
       "      <td>2015</td>\n",
       "    </tr>\n",
       "  </tbody>\n",
       "</table>\n",
       "</div>"
      ],
      "text/plain": [
       "       Country          Region  ...  Dystopia Residual  Year\n",
       "0  Switzerland  Western Europe  ...            2.51738  2015\n",
       "1      Iceland  Western Europe  ...            2.70201  2015\n",
       "2      Denmark  Western Europe  ...            2.49204  2015\n",
       "3       Norway  Western Europe  ...            2.46531  2015\n",
       "4       Canada   North America  ...            2.45176  2015\n",
       "\n",
       "[5 rows x 13 columns]"
      ]
     },
     "metadata": {},
     "output_type": "display_data"
    },
    {
     "data": {
      "text/plain": [
       "None"
      ]
     },
     "metadata": {},
     "output_type": "display_data"
    },
    {
     "data": {
      "text/html": [
       "<div>\n",
       "<style scoped>\n",
       "    .dataframe tbody tr th:only-of-type {\n",
       "        vertical-align: middle;\n",
       "    }\n",
       "\n",
       "    .dataframe tbody tr th {\n",
       "        vertical-align: top;\n",
       "    }\n",
       "\n",
       "    .dataframe thead th {\n",
       "        text-align: right;\n",
       "    }\n",
       "</style>\n",
       "<table border=\"1\" class=\"dataframe\">\n",
       "  <thead>\n",
       "    <tr style=\"text-align: right;\">\n",
       "      <th></th>\n",
       "      <th>Happiness Rank</th>\n",
       "      <th>Happiness Score</th>\n",
       "      <th>Standard Error</th>\n",
       "      <th>Economy (GDP per Capita)</th>\n",
       "      <th>Family</th>\n",
       "      <th>Health (Life Expectancy)</th>\n",
       "      <th>Freedom</th>\n",
       "      <th>Trust (Government Corruption)</th>\n",
       "      <th>Generosity</th>\n",
       "      <th>Dystopia Residual</th>\n",
       "      <th>Year</th>\n",
       "    </tr>\n",
       "  </thead>\n",
       "  <tbody>\n",
       "    <tr>\n",
       "      <th>count</th>\n",
       "      <td>158.000000</td>\n",
       "      <td>158.000000</td>\n",
       "      <td>158.000000</td>\n",
       "      <td>158.000000</td>\n",
       "      <td>158.000000</td>\n",
       "      <td>158.000000</td>\n",
       "      <td>158.000000</td>\n",
       "      <td>158.000000</td>\n",
       "      <td>158.000000</td>\n",
       "      <td>158.000000</td>\n",
       "      <td>158.0</td>\n",
       "    </tr>\n",
       "    <tr>\n",
       "      <th>mean</th>\n",
       "      <td>79.493671</td>\n",
       "      <td>5.375734</td>\n",
       "      <td>0.047885</td>\n",
       "      <td>0.846137</td>\n",
       "      <td>0.991046</td>\n",
       "      <td>0.630259</td>\n",
       "      <td>0.428615</td>\n",
       "      <td>0.143422</td>\n",
       "      <td>0.237296</td>\n",
       "      <td>2.098977</td>\n",
       "      <td>2015.0</td>\n",
       "    </tr>\n",
       "    <tr>\n",
       "      <th>std</th>\n",
       "      <td>45.754363</td>\n",
       "      <td>1.145010</td>\n",
       "      <td>0.017146</td>\n",
       "      <td>0.403121</td>\n",
       "      <td>0.272369</td>\n",
       "      <td>0.247078</td>\n",
       "      <td>0.150693</td>\n",
       "      <td>0.120034</td>\n",
       "      <td>0.126685</td>\n",
       "      <td>0.553550</td>\n",
       "      <td>0.0</td>\n",
       "    </tr>\n",
       "    <tr>\n",
       "      <th>min</th>\n",
       "      <td>1.000000</td>\n",
       "      <td>2.839000</td>\n",
       "      <td>0.018480</td>\n",
       "      <td>0.000000</td>\n",
       "      <td>0.000000</td>\n",
       "      <td>0.000000</td>\n",
       "      <td>0.000000</td>\n",
       "      <td>0.000000</td>\n",
       "      <td>0.000000</td>\n",
       "      <td>0.328580</td>\n",
       "      <td>2015.0</td>\n",
       "    </tr>\n",
       "    <tr>\n",
       "      <th>25%</th>\n",
       "      <td>40.250000</td>\n",
       "      <td>4.526000</td>\n",
       "      <td>0.037268</td>\n",
       "      <td>0.545808</td>\n",
       "      <td>0.856823</td>\n",
       "      <td>0.439185</td>\n",
       "      <td>0.328330</td>\n",
       "      <td>0.061675</td>\n",
       "      <td>0.150553</td>\n",
       "      <td>1.759410</td>\n",
       "      <td>2015.0</td>\n",
       "    </tr>\n",
       "    <tr>\n",
       "      <th>50%</th>\n",
       "      <td>79.500000</td>\n",
       "      <td>5.232500</td>\n",
       "      <td>0.043940</td>\n",
       "      <td>0.910245</td>\n",
       "      <td>1.029510</td>\n",
       "      <td>0.696705</td>\n",
       "      <td>0.435515</td>\n",
       "      <td>0.107220</td>\n",
       "      <td>0.216130</td>\n",
       "      <td>2.095415</td>\n",
       "      <td>2015.0</td>\n",
       "    </tr>\n",
       "    <tr>\n",
       "      <th>75%</th>\n",
       "      <td>118.750000</td>\n",
       "      <td>6.243750</td>\n",
       "      <td>0.052300</td>\n",
       "      <td>1.158448</td>\n",
       "      <td>1.214405</td>\n",
       "      <td>0.811013</td>\n",
       "      <td>0.549092</td>\n",
       "      <td>0.180255</td>\n",
       "      <td>0.309883</td>\n",
       "      <td>2.462415</td>\n",
       "      <td>2015.0</td>\n",
       "    </tr>\n",
       "    <tr>\n",
       "      <th>max</th>\n",
       "      <td>158.000000</td>\n",
       "      <td>7.587000</td>\n",
       "      <td>0.136930</td>\n",
       "      <td>1.690420</td>\n",
       "      <td>1.402230</td>\n",
       "      <td>1.025250</td>\n",
       "      <td>0.669730</td>\n",
       "      <td>0.551910</td>\n",
       "      <td>0.795880</td>\n",
       "      <td>3.602140</td>\n",
       "      <td>2015.0</td>\n",
       "    </tr>\n",
       "  </tbody>\n",
       "</table>\n",
       "</div>"
      ],
      "text/plain": [
       "       Happiness Rank  Happiness Score  ...  Dystopia Residual    Year\n",
       "count      158.000000       158.000000  ...         158.000000   158.0\n",
       "mean        79.493671         5.375734  ...           2.098977  2015.0\n",
       "std         45.754363         1.145010  ...           0.553550     0.0\n",
       "min          1.000000         2.839000  ...           0.328580  2015.0\n",
       "25%         40.250000         4.526000  ...           1.759410  2015.0\n",
       "50%         79.500000         5.232500  ...           2.095415  2015.0\n",
       "75%        118.750000         6.243750  ...           2.462415  2015.0\n",
       "max        158.000000         7.587000  ...           3.602140  2015.0\n",
       "\n",
       "[8 rows x 11 columns]"
      ]
     },
     "metadata": {},
     "output_type": "display_data"
    },
    {
     "name": "stdout",
     "output_type": "stream",
     "text": [
      "\n",
      " ['Country', 'Region', 'Happiness Rank', 'Happiness Score', 'Standard Error', 'Economy (GDP per Capita)', 'Family', 'Health (Life Expectancy)', 'Freedom', 'Trust (Government Corruption)', 'Generosity', 'Dystopia Residual', 'Year']\n"
     ]
    }
   ],
   "source": [
    "display(df_2015.head(),df_2015.info(), df_2015.describe())\n",
    "print('\\n', list(df_2015))"
   ]
  },
  {
   "cell_type": "code",
   "execution_count": null,
   "metadata": {
    "id": "1iG5Pm9hdmqF"
   },
   "outputs": [],
   "source": [
    "# Use Year 2015 columns in our analysis and insert another column for year. \n",
    "\n",
    "df_2015_data = df_2015[['Happiness Rank', 'Country', 'Region','Economy (GDP per Capita)','Family',\n",
    "                        'Health (Life Expectancy)', 'Freedom', 'Trust (Government Corruption)','Generosity', \n",
    "                        'Happiness Score' ]]"
   ]
  },
  {
   "cell_type": "code",
   "execution_count": null,
   "metadata": {
    "colab": {
     "base_uri": "https://localhost:8080/"
    },
    "id": "gqKzD16AdmqG",
    "outputId": "71547e0f-1cca-4db6-8658-593b64e0ce65"
   },
   "outputs": [
    {
     "name": "stderr",
     "output_type": "stream",
     "text": [
      "/usr/local/lib/python3.7/dist-packages/ipykernel_launcher.py:1: SettingWithCopyWarning:\n",
      "\n",
      "\n",
      "A value is trying to be set on a copy of a slice from a DataFrame.\n",
      "Try using .loc[row_indexer,col_indexer] = value instead\n",
      "\n",
      "See the caveats in the documentation: https://pandas.pydata.org/pandas-docs/stable/user_guide/indexing.html#returning-a-view-versus-a-copy\n",
      "\n"
     ]
    }
   ],
   "source": [
    "df_2015_data['Year'] =2015"
   ]
  },
  {
   "cell_type": "markdown",
   "metadata": {
    "id": "PbzcFCqIA_cu"
   },
   "source": [
    "### ***World Happiness Report 2016***"
   ]
  },
  {
   "cell_type": "code",
   "execution_count": null,
   "metadata": {
    "colab": {
     "base_uri": "https://localhost:8080/",
     "height": 1000
    },
    "id": "EZ8UYeMbA_cu",
    "outputId": "bb41e23c-0b77-48cb-bb4f-3024235d0de3"
   },
   "outputs": [
    {
     "name": "stdout",
     "output_type": "stream",
     "text": [
      "<class 'pandas.core.frame.DataFrame'>\n",
      "RangeIndex: 157 entries, 0 to 156\n",
      "Data columns (total 14 columns):\n",
      " #   Column                         Non-Null Count  Dtype  \n",
      "---  ------                         --------------  -----  \n",
      " 0   Country                        157 non-null    object \n",
      " 1   Region                         157 non-null    object \n",
      " 2   Happiness Rank                 157 non-null    int64  \n",
      " 3   Happiness Score                157 non-null    float64\n",
      " 4   Lower Confidence Interval      157 non-null    float64\n",
      " 5   Upper Confidence Interval      157 non-null    float64\n",
      " 6   Economy (GDP per Capita)       157 non-null    float64\n",
      " 7   Family                         157 non-null    float64\n",
      " 8   Health (Life Expectancy)       157 non-null    float64\n",
      " 9   Freedom                        157 non-null    float64\n",
      " 10  Trust (Government Corruption)  157 non-null    float64\n",
      " 11  Generosity                     157 non-null    float64\n",
      " 12  Dystopia Residual              157 non-null    float64\n",
      " 13  Year                           157 non-null    int64  \n",
      "dtypes: float64(10), int64(2), object(2)\n",
      "memory usage: 17.3+ KB\n"
     ]
    },
    {
     "data": {
      "text/html": [
       "<div>\n",
       "<style scoped>\n",
       "    .dataframe tbody tr th:only-of-type {\n",
       "        vertical-align: middle;\n",
       "    }\n",
       "\n",
       "    .dataframe tbody tr th {\n",
       "        vertical-align: top;\n",
       "    }\n",
       "\n",
       "    .dataframe thead th {\n",
       "        text-align: right;\n",
       "    }\n",
       "</style>\n",
       "<table border=\"1\" class=\"dataframe\">\n",
       "  <thead>\n",
       "    <tr style=\"text-align: right;\">\n",
       "      <th></th>\n",
       "      <th>Country</th>\n",
       "      <th>Region</th>\n",
       "      <th>Happiness Rank</th>\n",
       "      <th>Happiness Score</th>\n",
       "      <th>Lower Confidence Interval</th>\n",
       "      <th>Upper Confidence Interval</th>\n",
       "      <th>Economy (GDP per Capita)</th>\n",
       "      <th>Family</th>\n",
       "      <th>Health (Life Expectancy)</th>\n",
       "      <th>Freedom</th>\n",
       "      <th>Trust (Government Corruption)</th>\n",
       "      <th>Generosity</th>\n",
       "      <th>Dystopia Residual</th>\n",
       "      <th>Year</th>\n",
       "    </tr>\n",
       "  </thead>\n",
       "  <tbody>\n",
       "    <tr>\n",
       "      <th>0</th>\n",
       "      <td>Denmark</td>\n",
       "      <td>Western Europe</td>\n",
       "      <td>1</td>\n",
       "      <td>7.526</td>\n",
       "      <td>7.460</td>\n",
       "      <td>7.592</td>\n",
       "      <td>1.44178</td>\n",
       "      <td>1.16374</td>\n",
       "      <td>0.79504</td>\n",
       "      <td>0.57941</td>\n",
       "      <td>0.44453</td>\n",
       "      <td>0.36171</td>\n",
       "      <td>2.73939</td>\n",
       "      <td>2016</td>\n",
       "    </tr>\n",
       "    <tr>\n",
       "      <th>1</th>\n",
       "      <td>Switzerland</td>\n",
       "      <td>Western Europe</td>\n",
       "      <td>2</td>\n",
       "      <td>7.509</td>\n",
       "      <td>7.428</td>\n",
       "      <td>7.590</td>\n",
       "      <td>1.52733</td>\n",
       "      <td>1.14524</td>\n",
       "      <td>0.86303</td>\n",
       "      <td>0.58557</td>\n",
       "      <td>0.41203</td>\n",
       "      <td>0.28083</td>\n",
       "      <td>2.69463</td>\n",
       "      <td>2016</td>\n",
       "    </tr>\n",
       "    <tr>\n",
       "      <th>2</th>\n",
       "      <td>Iceland</td>\n",
       "      <td>Western Europe</td>\n",
       "      <td>3</td>\n",
       "      <td>7.501</td>\n",
       "      <td>7.333</td>\n",
       "      <td>7.669</td>\n",
       "      <td>1.42666</td>\n",
       "      <td>1.18326</td>\n",
       "      <td>0.86733</td>\n",
       "      <td>0.56624</td>\n",
       "      <td>0.14975</td>\n",
       "      <td>0.47678</td>\n",
       "      <td>2.83137</td>\n",
       "      <td>2016</td>\n",
       "    </tr>\n",
       "    <tr>\n",
       "      <th>3</th>\n",
       "      <td>Norway</td>\n",
       "      <td>Western Europe</td>\n",
       "      <td>4</td>\n",
       "      <td>7.498</td>\n",
       "      <td>7.421</td>\n",
       "      <td>7.575</td>\n",
       "      <td>1.57744</td>\n",
       "      <td>1.12690</td>\n",
       "      <td>0.79579</td>\n",
       "      <td>0.59609</td>\n",
       "      <td>0.35776</td>\n",
       "      <td>0.37895</td>\n",
       "      <td>2.66465</td>\n",
       "      <td>2016</td>\n",
       "    </tr>\n",
       "    <tr>\n",
       "      <th>4</th>\n",
       "      <td>Finland</td>\n",
       "      <td>Western Europe</td>\n",
       "      <td>5</td>\n",
       "      <td>7.413</td>\n",
       "      <td>7.351</td>\n",
       "      <td>7.475</td>\n",
       "      <td>1.40598</td>\n",
       "      <td>1.13464</td>\n",
       "      <td>0.81091</td>\n",
       "      <td>0.57104</td>\n",
       "      <td>0.41004</td>\n",
       "      <td>0.25492</td>\n",
       "      <td>2.82596</td>\n",
       "      <td>2016</td>\n",
       "    </tr>\n",
       "  </tbody>\n",
       "</table>\n",
       "</div>"
      ],
      "text/plain": [
       "       Country          Region  ...  Dystopia Residual  Year\n",
       "0      Denmark  Western Europe  ...            2.73939  2016\n",
       "1  Switzerland  Western Europe  ...            2.69463  2016\n",
       "2      Iceland  Western Europe  ...            2.83137  2016\n",
       "3       Norway  Western Europe  ...            2.66465  2016\n",
       "4      Finland  Western Europe  ...            2.82596  2016\n",
       "\n",
       "[5 rows x 14 columns]"
      ]
     },
     "metadata": {},
     "output_type": "display_data"
    },
    {
     "data": {
      "text/plain": [
       "None"
      ]
     },
     "metadata": {},
     "output_type": "display_data"
    },
    {
     "data": {
      "text/html": [
       "<div>\n",
       "<style scoped>\n",
       "    .dataframe tbody tr th:only-of-type {\n",
       "        vertical-align: middle;\n",
       "    }\n",
       "\n",
       "    .dataframe tbody tr th {\n",
       "        vertical-align: top;\n",
       "    }\n",
       "\n",
       "    .dataframe thead th {\n",
       "        text-align: right;\n",
       "    }\n",
       "</style>\n",
       "<table border=\"1\" class=\"dataframe\">\n",
       "  <thead>\n",
       "    <tr style=\"text-align: right;\">\n",
       "      <th></th>\n",
       "      <th>Happiness Rank</th>\n",
       "      <th>Happiness Score</th>\n",
       "      <th>Lower Confidence Interval</th>\n",
       "      <th>Upper Confidence Interval</th>\n",
       "      <th>Economy (GDP per Capita)</th>\n",
       "      <th>Family</th>\n",
       "      <th>Health (Life Expectancy)</th>\n",
       "      <th>Freedom</th>\n",
       "      <th>Trust (Government Corruption)</th>\n",
       "      <th>Generosity</th>\n",
       "      <th>Dystopia Residual</th>\n",
       "      <th>Year</th>\n",
       "    </tr>\n",
       "  </thead>\n",
       "  <tbody>\n",
       "    <tr>\n",
       "      <th>count</th>\n",
       "      <td>157.000000</td>\n",
       "      <td>157.000000</td>\n",
       "      <td>157.000000</td>\n",
       "      <td>157.000000</td>\n",
       "      <td>157.000000</td>\n",
       "      <td>157.000000</td>\n",
       "      <td>157.000000</td>\n",
       "      <td>157.000000</td>\n",
       "      <td>157.000000</td>\n",
       "      <td>157.000000</td>\n",
       "      <td>157.000000</td>\n",
       "      <td>157.0</td>\n",
       "    </tr>\n",
       "    <tr>\n",
       "      <th>mean</th>\n",
       "      <td>78.980892</td>\n",
       "      <td>5.382185</td>\n",
       "      <td>5.282395</td>\n",
       "      <td>5.481975</td>\n",
       "      <td>0.953880</td>\n",
       "      <td>0.793621</td>\n",
       "      <td>0.557619</td>\n",
       "      <td>0.370994</td>\n",
       "      <td>0.137624</td>\n",
       "      <td>0.242635</td>\n",
       "      <td>2.325807</td>\n",
       "      <td>2016.0</td>\n",
       "    </tr>\n",
       "    <tr>\n",
       "      <th>std</th>\n",
       "      <td>45.466030</td>\n",
       "      <td>1.141674</td>\n",
       "      <td>1.148043</td>\n",
       "      <td>1.136493</td>\n",
       "      <td>0.412595</td>\n",
       "      <td>0.266706</td>\n",
       "      <td>0.229349</td>\n",
       "      <td>0.145507</td>\n",
       "      <td>0.111038</td>\n",
       "      <td>0.133756</td>\n",
       "      <td>0.542220</td>\n",
       "      <td>0.0</td>\n",
       "    </tr>\n",
       "    <tr>\n",
       "      <th>min</th>\n",
       "      <td>1.000000</td>\n",
       "      <td>2.905000</td>\n",
       "      <td>2.732000</td>\n",
       "      <td>3.078000</td>\n",
       "      <td>0.000000</td>\n",
       "      <td>0.000000</td>\n",
       "      <td>0.000000</td>\n",
       "      <td>0.000000</td>\n",
       "      <td>0.000000</td>\n",
       "      <td>0.000000</td>\n",
       "      <td>0.817890</td>\n",
       "      <td>2016.0</td>\n",
       "    </tr>\n",
       "    <tr>\n",
       "      <th>25%</th>\n",
       "      <td>40.000000</td>\n",
       "      <td>4.404000</td>\n",
       "      <td>4.327000</td>\n",
       "      <td>4.465000</td>\n",
       "      <td>0.670240</td>\n",
       "      <td>0.641840</td>\n",
       "      <td>0.382910</td>\n",
       "      <td>0.257480</td>\n",
       "      <td>0.061260</td>\n",
       "      <td>0.154570</td>\n",
       "      <td>2.031710</td>\n",
       "      <td>2016.0</td>\n",
       "    </tr>\n",
       "    <tr>\n",
       "      <th>50%</th>\n",
       "      <td>79.000000</td>\n",
       "      <td>5.314000</td>\n",
       "      <td>5.237000</td>\n",
       "      <td>5.419000</td>\n",
       "      <td>1.027800</td>\n",
       "      <td>0.841420</td>\n",
       "      <td>0.596590</td>\n",
       "      <td>0.397470</td>\n",
       "      <td>0.105470</td>\n",
       "      <td>0.222450</td>\n",
       "      <td>2.290740</td>\n",
       "      <td>2016.0</td>\n",
       "    </tr>\n",
       "    <tr>\n",
       "      <th>75%</th>\n",
       "      <td>118.000000</td>\n",
       "      <td>6.269000</td>\n",
       "      <td>6.154000</td>\n",
       "      <td>6.434000</td>\n",
       "      <td>1.279640</td>\n",
       "      <td>1.021520</td>\n",
       "      <td>0.729930</td>\n",
       "      <td>0.484530</td>\n",
       "      <td>0.175540</td>\n",
       "      <td>0.311850</td>\n",
       "      <td>2.664650</td>\n",
       "      <td>2016.0</td>\n",
       "    </tr>\n",
       "    <tr>\n",
       "      <th>max</th>\n",
       "      <td>157.000000</td>\n",
       "      <td>7.526000</td>\n",
       "      <td>7.460000</td>\n",
       "      <td>7.669000</td>\n",
       "      <td>1.824270</td>\n",
       "      <td>1.183260</td>\n",
       "      <td>0.952770</td>\n",
       "      <td>0.608480</td>\n",
       "      <td>0.505210</td>\n",
       "      <td>0.819710</td>\n",
       "      <td>3.837720</td>\n",
       "      <td>2016.0</td>\n",
       "    </tr>\n",
       "  </tbody>\n",
       "</table>\n",
       "</div>"
      ],
      "text/plain": [
       "       Happiness Rank  Happiness Score  ...  Dystopia Residual    Year\n",
       "count      157.000000       157.000000  ...         157.000000   157.0\n",
       "mean        78.980892         5.382185  ...           2.325807  2016.0\n",
       "std         45.466030         1.141674  ...           0.542220     0.0\n",
       "min          1.000000         2.905000  ...           0.817890  2016.0\n",
       "25%         40.000000         4.404000  ...           2.031710  2016.0\n",
       "50%         79.000000         5.314000  ...           2.290740  2016.0\n",
       "75%        118.000000         6.269000  ...           2.664650  2016.0\n",
       "max        157.000000         7.526000  ...           3.837720  2016.0\n",
       "\n",
       "[8 rows x 12 columns]"
      ]
     },
     "metadata": {},
     "output_type": "display_data"
    },
    {
     "name": "stdout",
     "output_type": "stream",
     "text": [
      "\n",
      " ['Country', 'Region', 'Happiness Rank', 'Happiness Score', 'Lower Confidence Interval', 'Upper Confidence Interval', 'Economy (GDP per Capita)', 'Family', 'Health (Life Expectancy)', 'Freedom', 'Trust (Government Corruption)', 'Generosity', 'Dystopia Residual', 'Year']\n"
     ]
    }
   ],
   "source": [
    "display(df_2016.head(),df_2016.info(), df_2016.describe())\n",
    "print('\\n', list(df_2016))"
   ]
  },
  {
   "cell_type": "code",
   "execution_count": null,
   "metadata": {
    "id": "kXGmjqDCA_cv"
   },
   "outputs": [],
   "source": [
    "# Use Year 2016 columns in our analysis and inserted another column for year. \n",
    "\n",
    "df_2016_data = df_2016[['Happiness Rank','Country', 'Region','Economy (GDP per Capita)','Family',\n",
    "                        'Health (Life Expectancy)','Freedom', 'Trust (Government Corruption)', 'Generosity',\n",
    "                        'Happiness Score']]"
   ]
  },
  {
   "cell_type": "code",
   "execution_count": null,
   "metadata": {
    "colab": {
     "base_uri": "https://localhost:8080/"
    },
    "id": "13bStq7TA_cv",
    "outputId": "ecb68b08-de90-48b0-88b3-fb65deb7c830"
   },
   "outputs": [
    {
     "name": "stderr",
     "output_type": "stream",
     "text": [
      "/usr/local/lib/python3.7/dist-packages/ipykernel_launcher.py:1: SettingWithCopyWarning:\n",
      "\n",
      "\n",
      "A value is trying to be set on a copy of a slice from a DataFrame.\n",
      "Try using .loc[row_indexer,col_indexer] = value instead\n",
      "\n",
      "See the caveats in the documentation: https://pandas.pydata.org/pandas-docs/stable/user_guide/indexing.html#returning-a-view-versus-a-copy\n",
      "\n"
     ]
    }
   ],
   "source": [
    "df_2016_data['Year'] =2016"
   ]
  },
  {
   "cell_type": "markdown",
   "metadata": {
    "id": "KqMSXzepA_cv"
   },
   "source": [
    "### ***World Happiness Report 2017***"
   ]
  },
  {
   "cell_type": "code",
   "execution_count": null,
   "metadata": {
    "colab": {
     "base_uri": "https://localhost:8080/",
     "height": 960
    },
    "id": "hkxqUeM_A_cw",
    "outputId": "8a71bd14-2cd0-498e-ecd5-b70af9cbe4b3"
   },
   "outputs": [
    {
     "name": "stdout",
     "output_type": "stream",
     "text": [
      "<class 'pandas.core.frame.DataFrame'>\n",
      "RangeIndex: 155 entries, 0 to 154\n",
      "Data columns (total 13 columns):\n",
      " #   Column                         Non-Null Count  Dtype  \n",
      "---  ------                         --------------  -----  \n",
      " 0   Country                        155 non-null    object \n",
      " 1   Happiness Rank                 155 non-null    int64  \n",
      " 2   Happiness Score                155 non-null    float64\n",
      " 3   Whisker.high                   155 non-null    float64\n",
      " 4   Whisker.low                    155 non-null    float64\n",
      " 5   Economy (GDP per Capita)       155 non-null    float64\n",
      " 6   Family                         155 non-null    float64\n",
      " 7   Health (Life Expectancy)       155 non-null    float64\n",
      " 8   Freedom                        155 non-null    float64\n",
      " 9   Generosity                     155 non-null    float64\n",
      " 10  Trust (Government Corruption)  155 non-null    float64\n",
      " 11  Dystopia.Residual              155 non-null    float64\n",
      " 12  Year                           155 non-null    int64  \n",
      "dtypes: float64(10), int64(2), object(1)\n",
      "memory usage: 15.9+ KB\n"
     ]
    },
    {
     "data": {
      "text/html": [
       "<div>\n",
       "<style scoped>\n",
       "    .dataframe tbody tr th:only-of-type {\n",
       "        vertical-align: middle;\n",
       "    }\n",
       "\n",
       "    .dataframe tbody tr th {\n",
       "        vertical-align: top;\n",
       "    }\n",
       "\n",
       "    .dataframe thead th {\n",
       "        text-align: right;\n",
       "    }\n",
       "</style>\n",
       "<table border=\"1\" class=\"dataframe\">\n",
       "  <thead>\n",
       "    <tr style=\"text-align: right;\">\n",
       "      <th></th>\n",
       "      <th>Country</th>\n",
       "      <th>Happiness Rank</th>\n",
       "      <th>Happiness Score</th>\n",
       "      <th>Whisker.high</th>\n",
       "      <th>Whisker.low</th>\n",
       "      <th>Economy (GDP per Capita)</th>\n",
       "      <th>Family</th>\n",
       "      <th>Health (Life Expectancy)</th>\n",
       "      <th>Freedom</th>\n",
       "      <th>Generosity</th>\n",
       "      <th>Trust (Government Corruption)</th>\n",
       "      <th>Dystopia.Residual</th>\n",
       "      <th>Year</th>\n",
       "    </tr>\n",
       "  </thead>\n",
       "  <tbody>\n",
       "    <tr>\n",
       "      <th>0</th>\n",
       "      <td>Norway</td>\n",
       "      <td>1</td>\n",
       "      <td>7.537</td>\n",
       "      <td>7.594445</td>\n",
       "      <td>7.479556</td>\n",
       "      <td>1.616463</td>\n",
       "      <td>1.533524</td>\n",
       "      <td>0.796667</td>\n",
       "      <td>0.635423</td>\n",
       "      <td>0.362012</td>\n",
       "      <td>0.315964</td>\n",
       "      <td>2.277027</td>\n",
       "      <td>2017</td>\n",
       "    </tr>\n",
       "    <tr>\n",
       "      <th>1</th>\n",
       "      <td>Denmark</td>\n",
       "      <td>2</td>\n",
       "      <td>7.522</td>\n",
       "      <td>7.581728</td>\n",
       "      <td>7.462272</td>\n",
       "      <td>1.482383</td>\n",
       "      <td>1.551122</td>\n",
       "      <td>0.792566</td>\n",
       "      <td>0.626007</td>\n",
       "      <td>0.355280</td>\n",
       "      <td>0.400770</td>\n",
       "      <td>2.313707</td>\n",
       "      <td>2017</td>\n",
       "    </tr>\n",
       "    <tr>\n",
       "      <th>2</th>\n",
       "      <td>Iceland</td>\n",
       "      <td>3</td>\n",
       "      <td>7.504</td>\n",
       "      <td>7.622030</td>\n",
       "      <td>7.385970</td>\n",
       "      <td>1.480633</td>\n",
       "      <td>1.610574</td>\n",
       "      <td>0.833552</td>\n",
       "      <td>0.627163</td>\n",
       "      <td>0.475540</td>\n",
       "      <td>0.153527</td>\n",
       "      <td>2.322715</td>\n",
       "      <td>2017</td>\n",
       "    </tr>\n",
       "    <tr>\n",
       "      <th>3</th>\n",
       "      <td>Switzerland</td>\n",
       "      <td>4</td>\n",
       "      <td>7.494</td>\n",
       "      <td>7.561772</td>\n",
       "      <td>7.426227</td>\n",
       "      <td>1.564980</td>\n",
       "      <td>1.516912</td>\n",
       "      <td>0.858131</td>\n",
       "      <td>0.620071</td>\n",
       "      <td>0.290549</td>\n",
       "      <td>0.367007</td>\n",
       "      <td>2.276716</td>\n",
       "      <td>2017</td>\n",
       "    </tr>\n",
       "    <tr>\n",
       "      <th>4</th>\n",
       "      <td>Finland</td>\n",
       "      <td>5</td>\n",
       "      <td>7.469</td>\n",
       "      <td>7.527542</td>\n",
       "      <td>7.410458</td>\n",
       "      <td>1.443572</td>\n",
       "      <td>1.540247</td>\n",
       "      <td>0.809158</td>\n",
       "      <td>0.617951</td>\n",
       "      <td>0.245483</td>\n",
       "      <td>0.382612</td>\n",
       "      <td>2.430182</td>\n",
       "      <td>2017</td>\n",
       "    </tr>\n",
       "  </tbody>\n",
       "</table>\n",
       "</div>"
      ],
      "text/plain": [
       "       Country  Happiness Rank  ...  Dystopia.Residual  Year\n",
       "0       Norway               1  ...           2.277027  2017\n",
       "1      Denmark               2  ...           2.313707  2017\n",
       "2      Iceland               3  ...           2.322715  2017\n",
       "3  Switzerland               4  ...           2.276716  2017\n",
       "4      Finland               5  ...           2.430182  2017\n",
       "\n",
       "[5 rows x 13 columns]"
      ]
     },
     "metadata": {},
     "output_type": "display_data"
    },
    {
     "data": {
      "text/plain": [
       "None"
      ]
     },
     "metadata": {},
     "output_type": "display_data"
    },
    {
     "data": {
      "text/html": [
       "<div>\n",
       "<style scoped>\n",
       "    .dataframe tbody tr th:only-of-type {\n",
       "        vertical-align: middle;\n",
       "    }\n",
       "\n",
       "    .dataframe tbody tr th {\n",
       "        vertical-align: top;\n",
       "    }\n",
       "\n",
       "    .dataframe thead th {\n",
       "        text-align: right;\n",
       "    }\n",
       "</style>\n",
       "<table border=\"1\" class=\"dataframe\">\n",
       "  <thead>\n",
       "    <tr style=\"text-align: right;\">\n",
       "      <th></th>\n",
       "      <th>Happiness Rank</th>\n",
       "      <th>Happiness Score</th>\n",
       "      <th>Whisker.high</th>\n",
       "      <th>Whisker.low</th>\n",
       "      <th>Economy (GDP per Capita)</th>\n",
       "      <th>Family</th>\n",
       "      <th>Health (Life Expectancy)</th>\n",
       "      <th>Freedom</th>\n",
       "      <th>Generosity</th>\n",
       "      <th>Trust (Government Corruption)</th>\n",
       "      <th>Dystopia.Residual</th>\n",
       "      <th>Year</th>\n",
       "    </tr>\n",
       "  </thead>\n",
       "  <tbody>\n",
       "    <tr>\n",
       "      <th>count</th>\n",
       "      <td>155.000000</td>\n",
       "      <td>155.000000</td>\n",
       "      <td>155.000000</td>\n",
       "      <td>155.000000</td>\n",
       "      <td>155.000000</td>\n",
       "      <td>155.000000</td>\n",
       "      <td>155.000000</td>\n",
       "      <td>155.000000</td>\n",
       "      <td>155.000000</td>\n",
       "      <td>155.000000</td>\n",
       "      <td>155.000000</td>\n",
       "      <td>155.0</td>\n",
       "    </tr>\n",
       "    <tr>\n",
       "      <th>mean</th>\n",
       "      <td>78.000000</td>\n",
       "      <td>5.354019</td>\n",
       "      <td>5.452326</td>\n",
       "      <td>5.255713</td>\n",
       "      <td>0.984718</td>\n",
       "      <td>1.188898</td>\n",
       "      <td>0.551341</td>\n",
       "      <td>0.408786</td>\n",
       "      <td>0.246883</td>\n",
       "      <td>0.123120</td>\n",
       "      <td>1.850238</td>\n",
       "      <td>2017.0</td>\n",
       "    </tr>\n",
       "    <tr>\n",
       "      <th>std</th>\n",
       "      <td>44.888751</td>\n",
       "      <td>1.131230</td>\n",
       "      <td>1.118542</td>\n",
       "      <td>1.145030</td>\n",
       "      <td>0.420793</td>\n",
       "      <td>0.287263</td>\n",
       "      <td>0.237073</td>\n",
       "      <td>0.149997</td>\n",
       "      <td>0.134780</td>\n",
       "      <td>0.101661</td>\n",
       "      <td>0.500028</td>\n",
       "      <td>0.0</td>\n",
       "    </tr>\n",
       "    <tr>\n",
       "      <th>min</th>\n",
       "      <td>1.000000</td>\n",
       "      <td>2.693000</td>\n",
       "      <td>2.864884</td>\n",
       "      <td>2.521116</td>\n",
       "      <td>0.000000</td>\n",
       "      <td>0.000000</td>\n",
       "      <td>0.000000</td>\n",
       "      <td>0.000000</td>\n",
       "      <td>0.000000</td>\n",
       "      <td>0.000000</td>\n",
       "      <td>0.377914</td>\n",
       "      <td>2017.0</td>\n",
       "    </tr>\n",
       "    <tr>\n",
       "      <th>25%</th>\n",
       "      <td>39.500000</td>\n",
       "      <td>4.505500</td>\n",
       "      <td>4.608172</td>\n",
       "      <td>4.374955</td>\n",
       "      <td>0.663371</td>\n",
       "      <td>1.042635</td>\n",
       "      <td>0.369866</td>\n",
       "      <td>0.303677</td>\n",
       "      <td>0.154106</td>\n",
       "      <td>0.057271</td>\n",
       "      <td>1.591291</td>\n",
       "      <td>2017.0</td>\n",
       "    </tr>\n",
       "    <tr>\n",
       "      <th>50%</th>\n",
       "      <td>78.000000</td>\n",
       "      <td>5.279000</td>\n",
       "      <td>5.370032</td>\n",
       "      <td>5.193152</td>\n",
       "      <td>1.064578</td>\n",
       "      <td>1.253918</td>\n",
       "      <td>0.606042</td>\n",
       "      <td>0.437454</td>\n",
       "      <td>0.231538</td>\n",
       "      <td>0.089848</td>\n",
       "      <td>1.832910</td>\n",
       "      <td>2017.0</td>\n",
       "    </tr>\n",
       "    <tr>\n",
       "      <th>75%</th>\n",
       "      <td>116.500000</td>\n",
       "      <td>6.101500</td>\n",
       "      <td>6.194600</td>\n",
       "      <td>6.006527</td>\n",
       "      <td>1.318027</td>\n",
       "      <td>1.414316</td>\n",
       "      <td>0.723008</td>\n",
       "      <td>0.516561</td>\n",
       "      <td>0.323762</td>\n",
       "      <td>0.153296</td>\n",
       "      <td>2.144654</td>\n",
       "      <td>2017.0</td>\n",
       "    </tr>\n",
       "    <tr>\n",
       "      <th>max</th>\n",
       "      <td>155.000000</td>\n",
       "      <td>7.537000</td>\n",
       "      <td>7.622030</td>\n",
       "      <td>7.479556</td>\n",
       "      <td>1.870766</td>\n",
       "      <td>1.610574</td>\n",
       "      <td>0.949492</td>\n",
       "      <td>0.658249</td>\n",
       "      <td>0.838075</td>\n",
       "      <td>0.464308</td>\n",
       "      <td>3.117485</td>\n",
       "      <td>2017.0</td>\n",
       "    </tr>\n",
       "  </tbody>\n",
       "</table>\n",
       "</div>"
      ],
      "text/plain": [
       "       Happiness Rank  Happiness Score  ...  Dystopia.Residual    Year\n",
       "count      155.000000       155.000000  ...         155.000000   155.0\n",
       "mean        78.000000         5.354019  ...           1.850238  2017.0\n",
       "std         44.888751         1.131230  ...           0.500028     0.0\n",
       "min          1.000000         2.693000  ...           0.377914  2017.0\n",
       "25%         39.500000         4.505500  ...           1.591291  2017.0\n",
       "50%         78.000000         5.279000  ...           1.832910  2017.0\n",
       "75%        116.500000         6.101500  ...           2.144654  2017.0\n",
       "max        155.000000         7.537000  ...           3.117485  2017.0\n",
       "\n",
       "[8 rows x 12 columns]"
      ]
     },
     "metadata": {},
     "output_type": "display_data"
    },
    {
     "name": "stdout",
     "output_type": "stream",
     "text": [
      "\n",
      " ['Country', 'Happiness Rank', 'Happiness Score', 'Whisker.high', 'Whisker.low', 'Economy (GDP per Capita)', 'Family', 'Health (Life Expectancy)', 'Freedom', 'Generosity', 'Trust (Government Corruption)', 'Dystopia.Residual', 'Year']\n"
     ]
    }
   ],
   "source": [
    "display(df_2017.head(),df_2017.info(), df_2017.describe())\n",
    "print('\\n', list(df_2017))"
   ]
  },
  {
   "cell_type": "code",
   "execution_count": null,
   "metadata": {
    "id": "sSmdwP9pA_cx"
   },
   "outputs": [],
   "source": [
    "# Use Year 2017 columns in our analysis and inserted another column for year. \n",
    "\n",
    "df_2017_data = df_2017[['Happiness Rank','Country','Economy (GDP per Capita)','Family',\n",
    "                        'Health (Life Expectancy)','Freedom', 'Trust (Government Corruption)', 'Generosity',\n",
    "                        'Happiness Score']]"
   ]
  },
  {
   "cell_type": "code",
   "execution_count": null,
   "metadata": {
    "colab": {
     "base_uri": "https://localhost:8080/"
    },
    "id": "NbozvmiMA_cx",
    "outputId": "33387f5f-4c5c-49d5-c5a8-b7ec0b13fbe4"
   },
   "outputs": [
    {
     "name": "stderr",
     "output_type": "stream",
     "text": [
      "/usr/local/lib/python3.7/dist-packages/ipykernel_launcher.py:1: SettingWithCopyWarning:\n",
      "\n",
      "\n",
      "A value is trying to be set on a copy of a slice from a DataFrame.\n",
      "Try using .loc[row_indexer,col_indexer] = value instead\n",
      "\n",
      "See the caveats in the documentation: https://pandas.pydata.org/pandas-docs/stable/user_guide/indexing.html#returning-a-view-versus-a-copy\n",
      "\n"
     ]
    }
   ],
   "source": [
    "df_2017_data['Year'] =2017"
   ]
  },
  {
   "cell_type": "markdown",
   "metadata": {
    "id": "HWM5Ez0NA_cx"
   },
   "source": [
    "### ***World Happiness Report 2018***"
   ]
  },
  {
   "cell_type": "code",
   "execution_count": null,
   "metadata": {
    "colab": {
     "base_uri": "https://localhost:8080/",
     "height": 851
    },
    "id": "j2ok-luWA_cx",
    "outputId": "0ef047ce-7f5f-47df-eb7b-12cd571ce856"
   },
   "outputs": [
    {
     "name": "stdout",
     "output_type": "stream",
     "text": [
      "<class 'pandas.core.frame.DataFrame'>\n",
      "RangeIndex: 156 entries, 0 to 155\n",
      "Data columns (total 10 columns):\n",
      " #   Column                         Non-Null Count  Dtype  \n",
      "---  ------                         --------------  -----  \n",
      " 0   Happiness Rank                 156 non-null    int64  \n",
      " 1   Country                        156 non-null    object \n",
      " 2   Happiness Score                156 non-null    float64\n",
      " 3   Economy (GDP per Capita)       156 non-null    float64\n",
      " 4   Family                         156 non-null    float64\n",
      " 5   Health (Life Expectancy)       156 non-null    float64\n",
      " 6   Freedom                        156 non-null    float64\n",
      " 7   Generosity                     156 non-null    float64\n",
      " 8   Trust (Government Corruption)  155 non-null    float64\n",
      " 9   Year                           156 non-null    int64  \n",
      "dtypes: float64(7), int64(2), object(1)\n",
      "memory usage: 12.3+ KB\n"
     ]
    },
    {
     "data": {
      "text/html": [
       "<div>\n",
       "<style scoped>\n",
       "    .dataframe tbody tr th:only-of-type {\n",
       "        vertical-align: middle;\n",
       "    }\n",
       "\n",
       "    .dataframe tbody tr th {\n",
       "        vertical-align: top;\n",
       "    }\n",
       "\n",
       "    .dataframe thead th {\n",
       "        text-align: right;\n",
       "    }\n",
       "</style>\n",
       "<table border=\"1\" class=\"dataframe\">\n",
       "  <thead>\n",
       "    <tr style=\"text-align: right;\">\n",
       "      <th></th>\n",
       "      <th>Happiness Rank</th>\n",
       "      <th>Country</th>\n",
       "      <th>Happiness Score</th>\n",
       "      <th>Economy (GDP per Capita)</th>\n",
       "      <th>Family</th>\n",
       "      <th>Health (Life Expectancy)</th>\n",
       "      <th>Freedom</th>\n",
       "      <th>Generosity</th>\n",
       "      <th>Trust (Government Corruption)</th>\n",
       "      <th>Year</th>\n",
       "    </tr>\n",
       "  </thead>\n",
       "  <tbody>\n",
       "    <tr>\n",
       "      <th>0</th>\n",
       "      <td>1</td>\n",
       "      <td>Finland</td>\n",
       "      <td>7.632</td>\n",
       "      <td>1.305</td>\n",
       "      <td>1.592</td>\n",
       "      <td>0.874</td>\n",
       "      <td>0.681</td>\n",
       "      <td>0.202</td>\n",
       "      <td>0.393</td>\n",
       "      <td>2018</td>\n",
       "    </tr>\n",
       "    <tr>\n",
       "      <th>1</th>\n",
       "      <td>2</td>\n",
       "      <td>Norway</td>\n",
       "      <td>7.594</td>\n",
       "      <td>1.456</td>\n",
       "      <td>1.582</td>\n",
       "      <td>0.861</td>\n",
       "      <td>0.686</td>\n",
       "      <td>0.286</td>\n",
       "      <td>0.340</td>\n",
       "      <td>2018</td>\n",
       "    </tr>\n",
       "    <tr>\n",
       "      <th>2</th>\n",
       "      <td>3</td>\n",
       "      <td>Denmark</td>\n",
       "      <td>7.555</td>\n",
       "      <td>1.351</td>\n",
       "      <td>1.590</td>\n",
       "      <td>0.868</td>\n",
       "      <td>0.683</td>\n",
       "      <td>0.284</td>\n",
       "      <td>0.408</td>\n",
       "      <td>2018</td>\n",
       "    </tr>\n",
       "    <tr>\n",
       "      <th>3</th>\n",
       "      <td>4</td>\n",
       "      <td>Iceland</td>\n",
       "      <td>7.495</td>\n",
       "      <td>1.343</td>\n",
       "      <td>1.644</td>\n",
       "      <td>0.914</td>\n",
       "      <td>0.677</td>\n",
       "      <td>0.353</td>\n",
       "      <td>0.138</td>\n",
       "      <td>2018</td>\n",
       "    </tr>\n",
       "    <tr>\n",
       "      <th>4</th>\n",
       "      <td>5</td>\n",
       "      <td>Switzerland</td>\n",
       "      <td>7.487</td>\n",
       "      <td>1.420</td>\n",
       "      <td>1.549</td>\n",
       "      <td>0.927</td>\n",
       "      <td>0.660</td>\n",
       "      <td>0.256</td>\n",
       "      <td>0.357</td>\n",
       "      <td>2018</td>\n",
       "    </tr>\n",
       "  </tbody>\n",
       "</table>\n",
       "</div>"
      ],
      "text/plain": [
       "   Happiness Rank      Country  ...  Trust (Government Corruption)  Year\n",
       "0               1      Finland  ...                          0.393  2018\n",
       "1               2       Norway  ...                          0.340  2018\n",
       "2               3      Denmark  ...                          0.408  2018\n",
       "3               4      Iceland  ...                          0.138  2018\n",
       "4               5  Switzerland  ...                          0.357  2018\n",
       "\n",
       "[5 rows x 10 columns]"
      ]
     },
     "metadata": {},
     "output_type": "display_data"
    },
    {
     "data": {
      "text/plain": [
       "None"
      ]
     },
     "metadata": {},
     "output_type": "display_data"
    },
    {
     "data": {
      "text/html": [
       "<div>\n",
       "<style scoped>\n",
       "    .dataframe tbody tr th:only-of-type {\n",
       "        vertical-align: middle;\n",
       "    }\n",
       "\n",
       "    .dataframe tbody tr th {\n",
       "        vertical-align: top;\n",
       "    }\n",
       "\n",
       "    .dataframe thead th {\n",
       "        text-align: right;\n",
       "    }\n",
       "</style>\n",
       "<table border=\"1\" class=\"dataframe\">\n",
       "  <thead>\n",
       "    <tr style=\"text-align: right;\">\n",
       "      <th></th>\n",
       "      <th>Happiness Rank</th>\n",
       "      <th>Happiness Score</th>\n",
       "      <th>Economy (GDP per Capita)</th>\n",
       "      <th>Family</th>\n",
       "      <th>Health (Life Expectancy)</th>\n",
       "      <th>Freedom</th>\n",
       "      <th>Generosity</th>\n",
       "      <th>Trust (Government Corruption)</th>\n",
       "      <th>Year</th>\n",
       "    </tr>\n",
       "  </thead>\n",
       "  <tbody>\n",
       "    <tr>\n",
       "      <th>count</th>\n",
       "      <td>156.000000</td>\n",
       "      <td>156.000000</td>\n",
       "      <td>156.000000</td>\n",
       "      <td>156.000000</td>\n",
       "      <td>156.000000</td>\n",
       "      <td>156.000000</td>\n",
       "      <td>156.000000</td>\n",
       "      <td>155.000000</td>\n",
       "      <td>156.0</td>\n",
       "    </tr>\n",
       "    <tr>\n",
       "      <th>mean</th>\n",
       "      <td>78.500000</td>\n",
       "      <td>5.375917</td>\n",
       "      <td>0.891449</td>\n",
       "      <td>1.213237</td>\n",
       "      <td>0.597346</td>\n",
       "      <td>0.454506</td>\n",
       "      <td>0.181006</td>\n",
       "      <td>0.112000</td>\n",
       "      <td>2018.0</td>\n",
       "    </tr>\n",
       "    <tr>\n",
       "      <th>std</th>\n",
       "      <td>45.177428</td>\n",
       "      <td>1.119506</td>\n",
       "      <td>0.391921</td>\n",
       "      <td>0.302372</td>\n",
       "      <td>0.247579</td>\n",
       "      <td>0.162424</td>\n",
       "      <td>0.098471</td>\n",
       "      <td>0.096492</td>\n",
       "      <td>0.0</td>\n",
       "    </tr>\n",
       "    <tr>\n",
       "      <th>min</th>\n",
       "      <td>1.000000</td>\n",
       "      <td>2.905000</td>\n",
       "      <td>0.000000</td>\n",
       "      <td>0.000000</td>\n",
       "      <td>0.000000</td>\n",
       "      <td>0.000000</td>\n",
       "      <td>0.000000</td>\n",
       "      <td>0.000000</td>\n",
       "      <td>2018.0</td>\n",
       "    </tr>\n",
       "    <tr>\n",
       "      <th>25%</th>\n",
       "      <td>39.750000</td>\n",
       "      <td>4.453750</td>\n",
       "      <td>0.616250</td>\n",
       "      <td>1.066750</td>\n",
       "      <td>0.422250</td>\n",
       "      <td>0.356000</td>\n",
       "      <td>0.109500</td>\n",
       "      <td>0.051000</td>\n",
       "      <td>2018.0</td>\n",
       "    </tr>\n",
       "    <tr>\n",
       "      <th>50%</th>\n",
       "      <td>78.500000</td>\n",
       "      <td>5.378000</td>\n",
       "      <td>0.949500</td>\n",
       "      <td>1.255000</td>\n",
       "      <td>0.644000</td>\n",
       "      <td>0.487000</td>\n",
       "      <td>0.174000</td>\n",
       "      <td>0.082000</td>\n",
       "      <td>2018.0</td>\n",
       "    </tr>\n",
       "    <tr>\n",
       "      <th>75%</th>\n",
       "      <td>117.250000</td>\n",
       "      <td>6.168500</td>\n",
       "      <td>1.197750</td>\n",
       "      <td>1.463000</td>\n",
       "      <td>0.777250</td>\n",
       "      <td>0.578500</td>\n",
       "      <td>0.239000</td>\n",
       "      <td>0.137000</td>\n",
       "      <td>2018.0</td>\n",
       "    </tr>\n",
       "    <tr>\n",
       "      <th>max</th>\n",
       "      <td>156.000000</td>\n",
       "      <td>7.632000</td>\n",
       "      <td>2.096000</td>\n",
       "      <td>1.644000</td>\n",
       "      <td>1.030000</td>\n",
       "      <td>0.724000</td>\n",
       "      <td>0.598000</td>\n",
       "      <td>0.457000</td>\n",
       "      <td>2018.0</td>\n",
       "    </tr>\n",
       "  </tbody>\n",
       "</table>\n",
       "</div>"
      ],
      "text/plain": [
       "       Happiness Rank  Happiness Score  ...  Trust (Government Corruption)    Year\n",
       "count      156.000000       156.000000  ...                     155.000000   156.0\n",
       "mean        78.500000         5.375917  ...                       0.112000  2018.0\n",
       "std         45.177428         1.119506  ...                       0.096492     0.0\n",
       "min          1.000000         2.905000  ...                       0.000000  2018.0\n",
       "25%         39.750000         4.453750  ...                       0.051000  2018.0\n",
       "50%         78.500000         5.378000  ...                       0.082000  2018.0\n",
       "75%        117.250000         6.168500  ...                       0.137000  2018.0\n",
       "max        156.000000         7.632000  ...                       0.457000  2018.0\n",
       "\n",
       "[8 rows x 9 columns]"
      ]
     },
     "metadata": {},
     "output_type": "display_data"
    },
    {
     "name": "stdout",
     "output_type": "stream",
     "text": [
      "\n",
      " ['Happiness Rank', 'Country', 'Happiness Score', 'Economy (GDP per Capita)', 'Family', 'Health (Life Expectancy)', 'Freedom', 'Generosity', 'Trust (Government Corruption)', 'Year']\n"
     ]
    }
   ],
   "source": [
    "display(df_2018.head(),df_2018.info(), df_2018.describe())\n",
    "print('\\n', list(df_2018))"
   ]
  },
  {
   "cell_type": "code",
   "execution_count": null,
   "metadata": {
    "id": "09Ke5ozwA_cy"
   },
   "outputs": [],
   "source": [
    "# Use Year 2018 columns in our analysis and insert another column for year. \n",
    "\n",
    "df_2018_data = df_2018[['Happiness Rank','Country','Economy (GDP per Capita)','Family',\n",
    "                        'Health (Life Expectancy)','Freedom', 'Trust (Government Corruption)', 'Generosity',\n",
    "                        'Happiness Score']]"
   ]
  },
  {
   "cell_type": "code",
   "execution_count": null,
   "metadata": {
    "id": "Pd4zQuh1A_cy"
   },
   "outputs": [],
   "source": [
    "df_2018_data['Year'] =2018"
   ]
  },
  {
   "cell_type": "markdown",
   "metadata": {
    "id": "xhZvKVk9A_cy"
   },
   "source": [
    "### ***World Happiness Report 2019***"
   ]
  },
  {
   "cell_type": "code",
   "execution_count": null,
   "metadata": {
    "colab": {
     "base_uri": "https://localhost:8080/",
     "height": 851
    },
    "id": "sLriFDT3A_cy",
    "outputId": "0045215b-98ff-491d-fc46-c8664bffc73c"
   },
   "outputs": [
    {
     "name": "stdout",
     "output_type": "stream",
     "text": [
      "<class 'pandas.core.frame.DataFrame'>\n",
      "RangeIndex: 156 entries, 0 to 155\n",
      "Data columns (total 10 columns):\n",
      " #   Column                         Non-Null Count  Dtype  \n",
      "---  ------                         --------------  -----  \n",
      " 0   Happiness Rank                 156 non-null    int64  \n",
      " 1   Country                        156 non-null    object \n",
      " 2   Happiness Score                156 non-null    float64\n",
      " 3   Economy (GDP per Capita)       156 non-null    float64\n",
      " 4   Family                         156 non-null    float64\n",
      " 5   Health (Life Expectancy)       156 non-null    float64\n",
      " 6   Freedom                        156 non-null    float64\n",
      " 7   Generosity                     156 non-null    float64\n",
      " 8   Trust (Government Corruption)  156 non-null    float64\n",
      " 9   Year                           156 non-null    int64  \n",
      "dtypes: float64(7), int64(2), object(1)\n",
      "memory usage: 12.3+ KB\n"
     ]
    },
    {
     "data": {
      "text/html": [
       "<div>\n",
       "<style scoped>\n",
       "    .dataframe tbody tr th:only-of-type {\n",
       "        vertical-align: middle;\n",
       "    }\n",
       "\n",
       "    .dataframe tbody tr th {\n",
       "        vertical-align: top;\n",
       "    }\n",
       "\n",
       "    .dataframe thead th {\n",
       "        text-align: right;\n",
       "    }\n",
       "</style>\n",
       "<table border=\"1\" class=\"dataframe\">\n",
       "  <thead>\n",
       "    <tr style=\"text-align: right;\">\n",
       "      <th></th>\n",
       "      <th>Happiness Rank</th>\n",
       "      <th>Country</th>\n",
       "      <th>Happiness Score</th>\n",
       "      <th>Economy (GDP per Capita)</th>\n",
       "      <th>Family</th>\n",
       "      <th>Health (Life Expectancy)</th>\n",
       "      <th>Freedom</th>\n",
       "      <th>Generosity</th>\n",
       "      <th>Trust (Government Corruption)</th>\n",
       "      <th>Year</th>\n",
       "    </tr>\n",
       "  </thead>\n",
       "  <tbody>\n",
       "    <tr>\n",
       "      <th>0</th>\n",
       "      <td>1</td>\n",
       "      <td>Finland</td>\n",
       "      <td>7.769</td>\n",
       "      <td>1.340</td>\n",
       "      <td>1.587</td>\n",
       "      <td>0.986</td>\n",
       "      <td>0.596</td>\n",
       "      <td>0.153</td>\n",
       "      <td>0.393</td>\n",
       "      <td>2019</td>\n",
       "    </tr>\n",
       "    <tr>\n",
       "      <th>1</th>\n",
       "      <td>2</td>\n",
       "      <td>Denmark</td>\n",
       "      <td>7.600</td>\n",
       "      <td>1.383</td>\n",
       "      <td>1.573</td>\n",
       "      <td>0.996</td>\n",
       "      <td>0.592</td>\n",
       "      <td>0.252</td>\n",
       "      <td>0.410</td>\n",
       "      <td>2019</td>\n",
       "    </tr>\n",
       "    <tr>\n",
       "      <th>2</th>\n",
       "      <td>3</td>\n",
       "      <td>Norway</td>\n",
       "      <td>7.554</td>\n",
       "      <td>1.488</td>\n",
       "      <td>1.582</td>\n",
       "      <td>1.028</td>\n",
       "      <td>0.603</td>\n",
       "      <td>0.271</td>\n",
       "      <td>0.341</td>\n",
       "      <td>2019</td>\n",
       "    </tr>\n",
       "    <tr>\n",
       "      <th>3</th>\n",
       "      <td>4</td>\n",
       "      <td>Iceland</td>\n",
       "      <td>7.494</td>\n",
       "      <td>1.380</td>\n",
       "      <td>1.624</td>\n",
       "      <td>1.026</td>\n",
       "      <td>0.591</td>\n",
       "      <td>0.354</td>\n",
       "      <td>0.118</td>\n",
       "      <td>2019</td>\n",
       "    </tr>\n",
       "    <tr>\n",
       "      <th>4</th>\n",
       "      <td>5</td>\n",
       "      <td>Netherlands</td>\n",
       "      <td>7.488</td>\n",
       "      <td>1.396</td>\n",
       "      <td>1.522</td>\n",
       "      <td>0.999</td>\n",
       "      <td>0.557</td>\n",
       "      <td>0.322</td>\n",
       "      <td>0.298</td>\n",
       "      <td>2019</td>\n",
       "    </tr>\n",
       "  </tbody>\n",
       "</table>\n",
       "</div>"
      ],
      "text/plain": [
       "   Happiness Rank      Country  ...  Trust (Government Corruption)  Year\n",
       "0               1      Finland  ...                          0.393  2019\n",
       "1               2      Denmark  ...                          0.410  2019\n",
       "2               3       Norway  ...                          0.341  2019\n",
       "3               4      Iceland  ...                          0.118  2019\n",
       "4               5  Netherlands  ...                          0.298  2019\n",
       "\n",
       "[5 rows x 10 columns]"
      ]
     },
     "metadata": {},
     "output_type": "display_data"
    },
    {
     "data": {
      "text/plain": [
       "None"
      ]
     },
     "metadata": {},
     "output_type": "display_data"
    },
    {
     "data": {
      "text/html": [
       "<div>\n",
       "<style scoped>\n",
       "    .dataframe tbody tr th:only-of-type {\n",
       "        vertical-align: middle;\n",
       "    }\n",
       "\n",
       "    .dataframe tbody tr th {\n",
       "        vertical-align: top;\n",
       "    }\n",
       "\n",
       "    .dataframe thead th {\n",
       "        text-align: right;\n",
       "    }\n",
       "</style>\n",
       "<table border=\"1\" class=\"dataframe\">\n",
       "  <thead>\n",
       "    <tr style=\"text-align: right;\">\n",
       "      <th></th>\n",
       "      <th>Happiness Rank</th>\n",
       "      <th>Happiness Score</th>\n",
       "      <th>Economy (GDP per Capita)</th>\n",
       "      <th>Family</th>\n",
       "      <th>Health (Life Expectancy)</th>\n",
       "      <th>Freedom</th>\n",
       "      <th>Generosity</th>\n",
       "      <th>Trust (Government Corruption)</th>\n",
       "      <th>Year</th>\n",
       "    </tr>\n",
       "  </thead>\n",
       "  <tbody>\n",
       "    <tr>\n",
       "      <th>count</th>\n",
       "      <td>156.000000</td>\n",
       "      <td>156.000000</td>\n",
       "      <td>156.000000</td>\n",
       "      <td>156.000000</td>\n",
       "      <td>156.000000</td>\n",
       "      <td>156.000000</td>\n",
       "      <td>156.000000</td>\n",
       "      <td>156.000000</td>\n",
       "      <td>156.0</td>\n",
       "    </tr>\n",
       "    <tr>\n",
       "      <th>mean</th>\n",
       "      <td>78.500000</td>\n",
       "      <td>5.407096</td>\n",
       "      <td>0.905147</td>\n",
       "      <td>1.208814</td>\n",
       "      <td>0.725244</td>\n",
       "      <td>0.392571</td>\n",
       "      <td>0.184846</td>\n",
       "      <td>0.110603</td>\n",
       "      <td>2019.0</td>\n",
       "    </tr>\n",
       "    <tr>\n",
       "      <th>std</th>\n",
       "      <td>45.177428</td>\n",
       "      <td>1.113120</td>\n",
       "      <td>0.398389</td>\n",
       "      <td>0.299191</td>\n",
       "      <td>0.242124</td>\n",
       "      <td>0.143289</td>\n",
       "      <td>0.095254</td>\n",
       "      <td>0.094538</td>\n",
       "      <td>0.0</td>\n",
       "    </tr>\n",
       "    <tr>\n",
       "      <th>min</th>\n",
       "      <td>1.000000</td>\n",
       "      <td>2.853000</td>\n",
       "      <td>0.000000</td>\n",
       "      <td>0.000000</td>\n",
       "      <td>0.000000</td>\n",
       "      <td>0.000000</td>\n",
       "      <td>0.000000</td>\n",
       "      <td>0.000000</td>\n",
       "      <td>2019.0</td>\n",
       "    </tr>\n",
       "    <tr>\n",
       "      <th>25%</th>\n",
       "      <td>39.750000</td>\n",
       "      <td>4.544500</td>\n",
       "      <td>0.602750</td>\n",
       "      <td>1.055750</td>\n",
       "      <td>0.547750</td>\n",
       "      <td>0.308000</td>\n",
       "      <td>0.108750</td>\n",
       "      <td>0.047000</td>\n",
       "      <td>2019.0</td>\n",
       "    </tr>\n",
       "    <tr>\n",
       "      <th>50%</th>\n",
       "      <td>78.500000</td>\n",
       "      <td>5.379500</td>\n",
       "      <td>0.960000</td>\n",
       "      <td>1.271500</td>\n",
       "      <td>0.789000</td>\n",
       "      <td>0.417000</td>\n",
       "      <td>0.177500</td>\n",
       "      <td>0.085500</td>\n",
       "      <td>2019.0</td>\n",
       "    </tr>\n",
       "    <tr>\n",
       "      <th>75%</th>\n",
       "      <td>117.250000</td>\n",
       "      <td>6.184500</td>\n",
       "      <td>1.232500</td>\n",
       "      <td>1.452500</td>\n",
       "      <td>0.881750</td>\n",
       "      <td>0.507250</td>\n",
       "      <td>0.248250</td>\n",
       "      <td>0.141250</td>\n",
       "      <td>2019.0</td>\n",
       "    </tr>\n",
       "    <tr>\n",
       "      <th>max</th>\n",
       "      <td>156.000000</td>\n",
       "      <td>7.769000</td>\n",
       "      <td>1.684000</td>\n",
       "      <td>1.624000</td>\n",
       "      <td>1.141000</td>\n",
       "      <td>0.631000</td>\n",
       "      <td>0.566000</td>\n",
       "      <td>0.453000</td>\n",
       "      <td>2019.0</td>\n",
       "    </tr>\n",
       "  </tbody>\n",
       "</table>\n",
       "</div>"
      ],
      "text/plain": [
       "       Happiness Rank  Happiness Score  ...  Trust (Government Corruption)    Year\n",
       "count      156.000000       156.000000  ...                     156.000000   156.0\n",
       "mean        78.500000         5.407096  ...                       0.110603  2019.0\n",
       "std         45.177428         1.113120  ...                       0.094538     0.0\n",
       "min          1.000000         2.853000  ...                       0.000000  2019.0\n",
       "25%         39.750000         4.544500  ...                       0.047000  2019.0\n",
       "50%         78.500000         5.379500  ...                       0.085500  2019.0\n",
       "75%        117.250000         6.184500  ...                       0.141250  2019.0\n",
       "max        156.000000         7.769000  ...                       0.453000  2019.0\n",
       "\n",
       "[8 rows x 9 columns]"
      ]
     },
     "metadata": {},
     "output_type": "display_data"
    },
    {
     "name": "stdout",
     "output_type": "stream",
     "text": [
      "\n",
      " ['Happiness Rank', 'Country', 'Happiness Score', 'Economy (GDP per Capita)', 'Family', 'Health (Life Expectancy)', 'Freedom', 'Generosity', 'Trust (Government Corruption)', 'Year']\n"
     ]
    }
   ],
   "source": [
    "display(df_2019.head(),df_2019.info(), df_2019.describe())\n",
    "print('\\n', list(df_2019))"
   ]
  },
  {
   "cell_type": "code",
   "execution_count": null,
   "metadata": {
    "id": "JsV-RQNyA_cz"
   },
   "outputs": [],
   "source": [
    "# Use Year 2019 columns in our analysis and insert another column for year. \n",
    "\n",
    "df_2019_data = df_2019[['Happiness Rank','Country','Economy (GDP per Capita)','Family',\n",
    "                        'Health (Life Expectancy)','Freedom', 'Trust (Government Corruption)', 'Generosity',\n",
    "                        'Happiness Score']]"
   ]
  },
  {
   "cell_type": "code",
   "execution_count": null,
   "metadata": {
    "id": "8LmOO2bjA_cz"
   },
   "outputs": [],
   "source": [
    "df_2019_data['Year'] =2019"
   ]
  },
  {
   "cell_type": "markdown",
   "metadata": {
    "id": "nhzdBa31A_c0"
   },
   "source": [
    "### ***World Happiness Report 2020***"
   ]
  },
  {
   "cell_type": "code",
   "execution_count": null,
   "metadata": {
    "colab": {
     "base_uri": "https://localhost:8080/",
     "height": 1000
    },
    "id": "Xtrf_622A_c0",
    "outputId": "f9e5af0c-1319-4aa0-9fa1-79b065eace44"
   },
   "outputs": [
    {
     "name": "stdout",
     "output_type": "stream",
     "text": [
      "<class 'pandas.core.frame.DataFrame'>\n",
      "RangeIndex: 153 entries, 0 to 152\n",
      "Data columns (total 21 columns):\n",
      " #   Column                                      Non-Null Count  Dtype  \n",
      "---  ------                                      --------------  -----  \n",
      " 0   Country                                     153 non-null    object \n",
      " 1   Region                                      153 non-null    object \n",
      " 2   Happiness Score                             153 non-null    float64\n",
      " 3   Standard Error                              153 non-null    float64\n",
      " 4   upperwhisker                                153 non-null    float64\n",
      " 5   lowerwhisker                                153 non-null    float64\n",
      " 6   Logged GDPPC                                153 non-null    float64\n",
      " 7   Family                                      153 non-null    float64\n",
      " 8   Health (Life Expectancy)                    153 non-null    float64\n",
      " 9   Freedom                                     153 non-null    float64\n",
      " 10  Generosity                                  153 non-null    float64\n",
      " 11  Trust (Government Corruption)               153 non-null    float64\n",
      " 12  Ladder score in Dystopia                    153 non-null    float64\n",
      " 13  Economy (GDP per Capita)                    153 non-null    float64\n",
      " 14  Explained by: Social support                153 non-null    float64\n",
      " 15  Explained by: Healthy life expectancy       153 non-null    float64\n",
      " 16  Explained by: Freedom to make life choices  153 non-null    float64\n",
      " 17  Explained by: Generosity                    153 non-null    float64\n",
      " 18  Explained by: Perceptions of corruption     153 non-null    float64\n",
      " 19  Dystopia + residual                         153 non-null    float64\n",
      " 20  Year                                        153 non-null    int64  \n",
      "dtypes: float64(18), int64(1), object(2)\n",
      "memory usage: 25.2+ KB\n"
     ]
    },
    {
     "data": {
      "text/html": [
       "<div>\n",
       "<style scoped>\n",
       "    .dataframe tbody tr th:only-of-type {\n",
       "        vertical-align: middle;\n",
       "    }\n",
       "\n",
       "    .dataframe tbody tr th {\n",
       "        vertical-align: top;\n",
       "    }\n",
       "\n",
       "    .dataframe thead th {\n",
       "        text-align: right;\n",
       "    }\n",
       "</style>\n",
       "<table border=\"1\" class=\"dataframe\">\n",
       "  <thead>\n",
       "    <tr style=\"text-align: right;\">\n",
       "      <th></th>\n",
       "      <th>Country</th>\n",
       "      <th>Region</th>\n",
       "      <th>Happiness Score</th>\n",
       "      <th>Standard Error</th>\n",
       "      <th>upperwhisker</th>\n",
       "      <th>lowerwhisker</th>\n",
       "      <th>Logged GDPPC</th>\n",
       "      <th>Family</th>\n",
       "      <th>Health (Life Expectancy)</th>\n",
       "      <th>Freedom</th>\n",
       "      <th>Generosity</th>\n",
       "      <th>Trust (Government Corruption)</th>\n",
       "      <th>Ladder score in Dystopia</th>\n",
       "      <th>Economy (GDP per Capita)</th>\n",
       "      <th>Explained by: Social support</th>\n",
       "      <th>Explained by: Healthy life expectancy</th>\n",
       "      <th>Explained by: Freedom to make life choices</th>\n",
       "      <th>Explained by: Generosity</th>\n",
       "      <th>Explained by: Perceptions of corruption</th>\n",
       "      <th>Dystopia + residual</th>\n",
       "      <th>Year</th>\n",
       "    </tr>\n",
       "  </thead>\n",
       "  <tbody>\n",
       "    <tr>\n",
       "      <th>0</th>\n",
       "      <td>Finland</td>\n",
       "      <td>Western Europe</td>\n",
       "      <td>7.8087</td>\n",
       "      <td>0.031156</td>\n",
       "      <td>7.869766</td>\n",
       "      <td>7.747634</td>\n",
       "      <td>10.639267</td>\n",
       "      <td>0.954330</td>\n",
       "      <td>71.900825</td>\n",
       "      <td>0.949172</td>\n",
       "      <td>-0.059482</td>\n",
       "      <td>0.195445</td>\n",
       "      <td>1.972317</td>\n",
       "      <td>1.285190</td>\n",
       "      <td>1.499526</td>\n",
       "      <td>0.961271</td>\n",
       "      <td>0.662317</td>\n",
       "      <td>0.159670</td>\n",
       "      <td>0.477857</td>\n",
       "      <td>2.762835</td>\n",
       "      <td>2020</td>\n",
       "    </tr>\n",
       "    <tr>\n",
       "      <th>1</th>\n",
       "      <td>Denmark</td>\n",
       "      <td>Western Europe</td>\n",
       "      <td>7.6456</td>\n",
       "      <td>0.033492</td>\n",
       "      <td>7.711245</td>\n",
       "      <td>7.579955</td>\n",
       "      <td>10.774001</td>\n",
       "      <td>0.955991</td>\n",
       "      <td>72.402504</td>\n",
       "      <td>0.951444</td>\n",
       "      <td>0.066202</td>\n",
       "      <td>0.168489</td>\n",
       "      <td>1.972317</td>\n",
       "      <td>1.326949</td>\n",
       "      <td>1.503449</td>\n",
       "      <td>0.979333</td>\n",
       "      <td>0.665040</td>\n",
       "      <td>0.242793</td>\n",
       "      <td>0.495260</td>\n",
       "      <td>2.432741</td>\n",
       "      <td>2020</td>\n",
       "    </tr>\n",
       "    <tr>\n",
       "      <th>2</th>\n",
       "      <td>Switzerland</td>\n",
       "      <td>Western Europe</td>\n",
       "      <td>7.5599</td>\n",
       "      <td>0.035014</td>\n",
       "      <td>7.628528</td>\n",
       "      <td>7.491272</td>\n",
       "      <td>10.979933</td>\n",
       "      <td>0.942847</td>\n",
       "      <td>74.102448</td>\n",
       "      <td>0.921337</td>\n",
       "      <td>0.105911</td>\n",
       "      <td>0.303728</td>\n",
       "      <td>1.972317</td>\n",
       "      <td>1.390774</td>\n",
       "      <td>1.472403</td>\n",
       "      <td>1.040533</td>\n",
       "      <td>0.628954</td>\n",
       "      <td>0.269056</td>\n",
       "      <td>0.407946</td>\n",
       "      <td>2.350267</td>\n",
       "      <td>2020</td>\n",
       "    </tr>\n",
       "    <tr>\n",
       "      <th>3</th>\n",
       "      <td>Iceland</td>\n",
       "      <td>Western Europe</td>\n",
       "      <td>7.5045</td>\n",
       "      <td>0.059616</td>\n",
       "      <td>7.621347</td>\n",
       "      <td>7.387653</td>\n",
       "      <td>10.772559</td>\n",
       "      <td>0.974670</td>\n",
       "      <td>73.000000</td>\n",
       "      <td>0.948892</td>\n",
       "      <td>0.246944</td>\n",
       "      <td>0.711710</td>\n",
       "      <td>1.972317</td>\n",
       "      <td>1.326502</td>\n",
       "      <td>1.547567</td>\n",
       "      <td>1.000843</td>\n",
       "      <td>0.661981</td>\n",
       "      <td>0.362330</td>\n",
       "      <td>0.144541</td>\n",
       "      <td>2.460688</td>\n",
       "      <td>2020</td>\n",
       "    </tr>\n",
       "    <tr>\n",
       "      <th>4</th>\n",
       "      <td>Norway</td>\n",
       "      <td>Western Europe</td>\n",
       "      <td>7.4880</td>\n",
       "      <td>0.034837</td>\n",
       "      <td>7.556281</td>\n",
       "      <td>7.419719</td>\n",
       "      <td>11.087804</td>\n",
       "      <td>0.952487</td>\n",
       "      <td>73.200783</td>\n",
       "      <td>0.955750</td>\n",
       "      <td>0.134533</td>\n",
       "      <td>0.263218</td>\n",
       "      <td>1.972317</td>\n",
       "      <td>1.424207</td>\n",
       "      <td>1.495173</td>\n",
       "      <td>1.008072</td>\n",
       "      <td>0.670201</td>\n",
       "      <td>0.287985</td>\n",
       "      <td>0.434101</td>\n",
       "      <td>2.168266</td>\n",
       "      <td>2020</td>\n",
       "    </tr>\n",
       "  </tbody>\n",
       "</table>\n",
       "</div>"
      ],
      "text/plain": [
       "       Country          Region  ...  Dystopia + residual  Year\n",
       "0      Finland  Western Europe  ...             2.762835  2020\n",
       "1      Denmark  Western Europe  ...             2.432741  2020\n",
       "2  Switzerland  Western Europe  ...             2.350267  2020\n",
       "3      Iceland  Western Europe  ...             2.460688  2020\n",
       "4       Norway  Western Europe  ...             2.168266  2020\n",
       "\n",
       "[5 rows x 21 columns]"
      ]
     },
     "metadata": {},
     "output_type": "display_data"
    },
    {
     "data": {
      "text/plain": [
       "None"
      ]
     },
     "metadata": {},
     "output_type": "display_data"
    },
    {
     "data": {
      "text/html": [
       "<div>\n",
       "<style scoped>\n",
       "    .dataframe tbody tr th:only-of-type {\n",
       "        vertical-align: middle;\n",
       "    }\n",
       "\n",
       "    .dataframe tbody tr th {\n",
       "        vertical-align: top;\n",
       "    }\n",
       "\n",
       "    .dataframe thead th {\n",
       "        text-align: right;\n",
       "    }\n",
       "</style>\n",
       "<table border=\"1\" class=\"dataframe\">\n",
       "  <thead>\n",
       "    <tr style=\"text-align: right;\">\n",
       "      <th></th>\n",
       "      <th>Happiness Score</th>\n",
       "      <th>Standard Error</th>\n",
       "      <th>upperwhisker</th>\n",
       "      <th>lowerwhisker</th>\n",
       "      <th>Logged GDPPC</th>\n",
       "      <th>Family</th>\n",
       "      <th>Health (Life Expectancy)</th>\n",
       "      <th>Freedom</th>\n",
       "      <th>Generosity</th>\n",
       "      <th>Trust (Government Corruption)</th>\n",
       "      <th>Ladder score in Dystopia</th>\n",
       "      <th>Economy (GDP per Capita)</th>\n",
       "      <th>Explained by: Social support</th>\n",
       "      <th>Explained by: Healthy life expectancy</th>\n",
       "      <th>Explained by: Freedom to make life choices</th>\n",
       "      <th>Explained by: Generosity</th>\n",
       "      <th>Explained by: Perceptions of corruption</th>\n",
       "      <th>Dystopia + residual</th>\n",
       "      <th>Year</th>\n",
       "    </tr>\n",
       "  </thead>\n",
       "  <tbody>\n",
       "    <tr>\n",
       "      <th>count</th>\n",
       "      <td>153.00000</td>\n",
       "      <td>153.000000</td>\n",
       "      <td>153.000000</td>\n",
       "      <td>153.000000</td>\n",
       "      <td>153.000000</td>\n",
       "      <td>153.000000</td>\n",
       "      <td>153.000000</td>\n",
       "      <td>153.000000</td>\n",
       "      <td>153.000000</td>\n",
       "      <td>153.000000</td>\n",
       "      <td>1.530000e+02</td>\n",
       "      <td>153.000000</td>\n",
       "      <td>153.000000</td>\n",
       "      <td>153.000000</td>\n",
       "      <td>153.000000</td>\n",
       "      <td>153.000000</td>\n",
       "      <td>153.000000</td>\n",
       "      <td>153.000000</td>\n",
       "      <td>153.0</td>\n",
       "    </tr>\n",
       "    <tr>\n",
       "      <th>mean</th>\n",
       "      <td>5.47324</td>\n",
       "      <td>0.053538</td>\n",
       "      <td>5.578175</td>\n",
       "      <td>5.368304</td>\n",
       "      <td>9.295706</td>\n",
       "      <td>0.808721</td>\n",
       "      <td>64.445529</td>\n",
       "      <td>0.783360</td>\n",
       "      <td>-0.014568</td>\n",
       "      <td>0.733120</td>\n",
       "      <td>1.972317e+00</td>\n",
       "      <td>0.868771</td>\n",
       "      <td>1.155607</td>\n",
       "      <td>0.692869</td>\n",
       "      <td>0.463583</td>\n",
       "      <td>0.189375</td>\n",
       "      <td>0.130718</td>\n",
       "      <td>1.972317</td>\n",
       "      <td>2020.0</td>\n",
       "    </tr>\n",
       "    <tr>\n",
       "      <th>std</th>\n",
       "      <td>1.11227</td>\n",
       "      <td>0.018183</td>\n",
       "      <td>1.096823</td>\n",
       "      <td>1.128631</td>\n",
       "      <td>1.201588</td>\n",
       "      <td>0.121453</td>\n",
       "      <td>7.057848</td>\n",
       "      <td>0.117786</td>\n",
       "      <td>0.151809</td>\n",
       "      <td>0.175172</td>\n",
       "      <td>1.336643e-15</td>\n",
       "      <td>0.372416</td>\n",
       "      <td>0.286866</td>\n",
       "      <td>0.254094</td>\n",
       "      <td>0.141172</td>\n",
       "      <td>0.100401</td>\n",
       "      <td>0.113097</td>\n",
       "      <td>0.563638</td>\n",
       "      <td>0.0</td>\n",
       "    </tr>\n",
       "    <tr>\n",
       "      <th>min</th>\n",
       "      <td>2.56690</td>\n",
       "      <td>0.025902</td>\n",
       "      <td>2.628270</td>\n",
       "      <td>2.505530</td>\n",
       "      <td>6.492642</td>\n",
       "      <td>0.319460</td>\n",
       "      <td>45.200001</td>\n",
       "      <td>0.396573</td>\n",
       "      <td>-0.300907</td>\n",
       "      <td>0.109784</td>\n",
       "      <td>1.972317e+00</td>\n",
       "      <td>0.000000</td>\n",
       "      <td>0.000000</td>\n",
       "      <td>0.000000</td>\n",
       "      <td>0.000000</td>\n",
       "      <td>0.000000</td>\n",
       "      <td>0.000000</td>\n",
       "      <td>0.257241</td>\n",
       "      <td>2020.0</td>\n",
       "    </tr>\n",
       "    <tr>\n",
       "      <th>25%</th>\n",
       "      <td>4.72410</td>\n",
       "      <td>0.040698</td>\n",
       "      <td>4.826248</td>\n",
       "      <td>4.603149</td>\n",
       "      <td>8.350645</td>\n",
       "      <td>0.737217</td>\n",
       "      <td>58.961712</td>\n",
       "      <td>0.714839</td>\n",
       "      <td>-0.127015</td>\n",
       "      <td>0.683019</td>\n",
       "      <td>1.972317e+00</td>\n",
       "      <td>0.575862</td>\n",
       "      <td>0.986718</td>\n",
       "      <td>0.495443</td>\n",
       "      <td>0.381457</td>\n",
       "      <td>0.115006</td>\n",
       "      <td>0.055805</td>\n",
       "      <td>1.629928</td>\n",
       "      <td>2020.0</td>\n",
       "    </tr>\n",
       "    <tr>\n",
       "      <th>50%</th>\n",
       "      <td>5.51500</td>\n",
       "      <td>0.050606</td>\n",
       "      <td>5.607728</td>\n",
       "      <td>5.430644</td>\n",
       "      <td>9.456313</td>\n",
       "      <td>0.829204</td>\n",
       "      <td>66.305145</td>\n",
       "      <td>0.799805</td>\n",
       "      <td>-0.033665</td>\n",
       "      <td>0.783122</td>\n",
       "      <td>1.972317e+00</td>\n",
       "      <td>0.918549</td>\n",
       "      <td>1.203987</td>\n",
       "      <td>0.759818</td>\n",
       "      <td>0.483293</td>\n",
       "      <td>0.176745</td>\n",
       "      <td>0.098435</td>\n",
       "      <td>2.046272</td>\n",
       "      <td>2020.0</td>\n",
       "    </tr>\n",
       "    <tr>\n",
       "      <th>75%</th>\n",
       "      <td>6.22850</td>\n",
       "      <td>0.060677</td>\n",
       "      <td>6.363886</td>\n",
       "      <td>6.138881</td>\n",
       "      <td>10.265124</td>\n",
       "      <td>0.906747</td>\n",
       "      <td>69.289192</td>\n",
       "      <td>0.877709</td>\n",
       "      <td>0.085429</td>\n",
       "      <td>0.849151</td>\n",
       "      <td>1.972317e+00</td>\n",
       "      <td>1.169229</td>\n",
       "      <td>1.387139</td>\n",
       "      <td>0.867249</td>\n",
       "      <td>0.576665</td>\n",
       "      <td>0.255510</td>\n",
       "      <td>0.163064</td>\n",
       "      <td>2.350267</td>\n",
       "      <td>2020.0</td>\n",
       "    </tr>\n",
       "    <tr>\n",
       "      <th>max</th>\n",
       "      <td>7.80870</td>\n",
       "      <td>0.120590</td>\n",
       "      <td>7.869766</td>\n",
       "      <td>7.747634</td>\n",
       "      <td>11.450681</td>\n",
       "      <td>0.974670</td>\n",
       "      <td>76.804581</td>\n",
       "      <td>0.974998</td>\n",
       "      <td>0.560664</td>\n",
       "      <td>0.935585</td>\n",
       "      <td>1.972317e+00</td>\n",
       "      <td>1.536676</td>\n",
       "      <td>1.547567</td>\n",
       "      <td>1.137814</td>\n",
       "      <td>0.693270</td>\n",
       "      <td>0.569814</td>\n",
       "      <td>0.533162</td>\n",
       "      <td>3.440810</td>\n",
       "      <td>2020.0</td>\n",
       "    </tr>\n",
       "  </tbody>\n",
       "</table>\n",
       "</div>"
      ],
      "text/plain": [
       "       Happiness Score  Standard Error  ...  Dystopia + residual    Year\n",
       "count        153.00000      153.000000  ...           153.000000   153.0\n",
       "mean           5.47324        0.053538  ...             1.972317  2020.0\n",
       "std            1.11227        0.018183  ...             0.563638     0.0\n",
       "min            2.56690        0.025902  ...             0.257241  2020.0\n",
       "25%            4.72410        0.040698  ...             1.629928  2020.0\n",
       "50%            5.51500        0.050606  ...             2.046272  2020.0\n",
       "75%            6.22850        0.060677  ...             2.350267  2020.0\n",
       "max            7.80870        0.120590  ...             3.440810  2020.0\n",
       "\n",
       "[8 rows x 19 columns]"
      ]
     },
     "metadata": {},
     "output_type": "display_data"
    },
    {
     "name": "stdout",
     "output_type": "stream",
     "text": [
      "\n",
      " ['Country', 'Region', 'Happiness Score', 'Standard Error', 'upperwhisker', 'lowerwhisker', 'Logged GDPPC', 'Family', 'Health (Life Expectancy)', 'Freedom', 'Generosity', 'Trust (Government Corruption)', 'Ladder score in Dystopia', 'Economy (GDP per Capita)', 'Explained by: Social support', 'Explained by: Healthy life expectancy', 'Explained by: Freedom to make life choices', 'Explained by: Generosity', 'Explained by: Perceptions of corruption', 'Dystopia + residual', 'Year']\n"
     ]
    }
   ],
   "source": [
    "display(df_2020.head(),df_2020.info(), df_2020.describe())\n",
    "print('\\n', list(df_2020))"
   ]
  },
  {
   "cell_type": "code",
   "execution_count": null,
   "metadata": {
    "id": "DvOJHwWDA_c0"
   },
   "outputs": [],
   "source": [
    "df_2020['Happiness Rank'] = np.arange(153)"
   ]
  },
  {
   "cell_type": "code",
   "execution_count": null,
   "metadata": {
    "id": "qFfsqplfA_c0"
   },
   "outputs": [],
   "source": [
    "df_2020_data = df_2020[['Happiness Rank','Country','Economy (GDP per Capita)','Family',\n",
    "                        'Health (Life Expectancy)','Freedom', 'Trust (Government Corruption)', 'Generosity',\n",
    "                        'Happiness Score']]"
   ]
  },
  {
   "cell_type": "code",
   "execution_count": null,
   "metadata": {
    "colab": {
     "base_uri": "https://localhost:8080/"
    },
    "id": "uSoAr_BqA_c1",
    "outputId": "2ef63959-bede-4d21-cb60-3d50f8c0e73b"
   },
   "outputs": [
    {
     "name": "stderr",
     "output_type": "stream",
     "text": [
      "/usr/local/lib/python3.7/dist-packages/ipykernel_launcher.py:1: SettingWithCopyWarning:\n",
      "\n",
      "\n",
      "A value is trying to be set on a copy of a slice from a DataFrame.\n",
      "Try using .loc[row_indexer,col_indexer] = value instead\n",
      "\n",
      "See the caveats in the documentation: https://pandas.pydata.org/pandas-docs/stable/user_guide/indexing.html#returning-a-view-versus-a-copy\n",
      "\n"
     ]
    }
   ],
   "source": [
    "df_2020_data['Year'] =2020"
   ]
  },
  {
   "cell_type": "code",
   "execution_count": null,
   "metadata": {
    "colab": {
     "base_uri": "https://localhost:8080/"
    },
    "id": "idDczaL0A_c1",
    "outputId": "6d59c369-6247-41db-9b2c-7708f34c9d6c"
   },
   "outputs": [
    {
     "name": "stdout",
     "output_type": "stream",
     "text": [
      "Rows and columns in 2015: (158, 11) \n",
      " Rows and columns in 2016: (157, 11) \n",
      " Rows and columns in 2017: (155, 10) \n",
      " Rows and columns in 2018: (156, 10) \n",
      " Rows and columns in 2019: (156, 10) \n",
      " Rows and columns in 2020: (153, 10) \n",
      "\n"
     ]
    }
   ],
   "source": [
    "print('Rows and columns in 2015: {} \\n Rows and columns in 2016: {} \\n Rows and columns in 2017: {} \\n Rows and columns in 2018: {} \\n Rows and columns in 2019: {} \\n Rows and columns in 2020: {} \\n'.format(df_2015_data.shape,df_2016_data.shape,df_2017_data.shape,df_2018_data.shape,df_2019_data.shape,df_2020_data.shape))"
   ]
  },
  {
   "cell_type": "markdown",
   "metadata": {
    "id": "Vctsur41A_c1"
   },
   "source": [
    "\n",
    "\n",
    "---\n",
    "\n",
    "\n",
    "## **Combine the Datasets**\n",
    "\n",
    "\n",
    "\n",
    "Inner join will be use for combining the datasets using the *'Country'* column, so we will have unqiue number of *'Country'* values.\n"
   ]
  },
  {
   "cell_type": "code",
   "execution_count": null,
   "metadata": {
    "id": "mlOMBIFdA_c1"
   },
   "outputs": [],
   "source": [
    "df_2017_data = df_2017_data.merge(df_2016_data,on = 'Country', how = 'inner')\n",
    "df_2018_data = df_2018_data.merge(df_2016_data,on = 'Country', how = 'inner')\n",
    "df_2019_data = df_2019_data.merge(df_2015_data,on = 'Country', how = 'inner')\n",
    "df_2020_data = df_2020_data.merge(df_2015_data,on = 'Country', how = 'inner')"
   ]
  },
  {
   "cell_type": "code",
   "execution_count": null,
   "metadata": {
    "colab": {
     "base_uri": "https://localhost:8080/"
    },
    "id": "BCTgJfplA_c1",
    "outputId": "0afabb71-872b-4450-8556-3412211e8047"
   },
   "outputs": [
    {
     "name": "stdout",
     "output_type": "stream",
     "text": [
      "Index(['Happiness Rank_x', 'Country', 'Economy (GDP per Capita)_x', 'Family_x',\n",
      "       'Health (Life Expectancy)_x', 'Freedom_x',\n",
      "       'Trust (Government Corruption)_x', 'Generosity_x', 'Happiness Score_x',\n",
      "       'Year_x', 'Happiness Rank_y', 'Region', 'Economy (GDP per Capita)_y',\n",
      "       'Family_y', 'Health (Life Expectancy)_y', 'Freedom_y',\n",
      "       'Trust (Government Corruption)_y', 'Generosity_y', 'Happiness Score_y',\n",
      "       'Year_y'],\n",
      "      dtype='object')\n",
      "Index(['Happiness Rank_x', 'Country', 'Economy (GDP per Capita)_x', 'Family_x',\n",
      "       'Health (Life Expectancy)_x', 'Freedom_x',\n",
      "       'Trust (Government Corruption)_x', 'Generosity_x', 'Happiness Score_x',\n",
      "       'Year_x', 'Happiness Rank_y', 'Region', 'Economy (GDP per Capita)_y',\n",
      "       'Family_y', 'Health (Life Expectancy)_y', 'Freedom_y',\n",
      "       'Trust (Government Corruption)_y', 'Generosity_y', 'Happiness Score_y',\n",
      "       'Year_y'],\n",
      "      dtype='object')\n",
      "Index(['Happiness Rank_x', 'Country', 'Economy (GDP per Capita)_x', 'Family_x',\n",
      "       'Health (Life Expectancy)_x', 'Freedom_x',\n",
      "       'Trust (Government Corruption)_x', 'Generosity_x', 'Happiness Score_x',\n",
      "       'Year_x', 'Happiness Rank_y', 'Region', 'Economy (GDP per Capita)_y',\n",
      "       'Family_y', 'Health (Life Expectancy)_y', 'Freedom_y',\n",
      "       'Trust (Government Corruption)_y', 'Generosity_y', 'Happiness Score_y',\n",
      "       'Year_y'],\n",
      "      dtype='object')\n",
      "Index(['Happiness Rank_x', 'Country', 'Economy (GDP per Capita)_x', 'Family_x',\n",
      "       'Health (Life Expectancy)_x', 'Freedom_x',\n",
      "       'Trust (Government Corruption)_x', 'Generosity_x', 'Happiness Score_x',\n",
      "       'Year_x', 'Happiness Rank_y', 'Region', 'Economy (GDP per Capita)_y',\n",
      "       'Family_y', 'Health (Life Expectancy)_y', 'Freedom_y',\n",
      "       'Trust (Government Corruption)_y', 'Generosity_y', 'Happiness Score_y',\n",
      "       'Year_y'],\n",
      "      dtype='object')\n"
     ]
    }
   ],
   "source": [
    "print (df_2017_data.columns)\n",
    "print (df_2018_data.columns)\n",
    "print (df_2019_data.columns)\n",
    "print (df_2020_data.columns)"
   ]
  },
  {
   "cell_type": "code",
   "execution_count": null,
   "metadata": {
    "id": "2pe9IkduA_c2"
   },
   "outputs": [],
   "source": [
    "df_2017_data.drop(['Year_y', 'Happiness Rank_y','Economy (GDP per Capita)_y',\n",
    "       'Family_y', 'Health (Life Expectancy)_y', 'Freedom_y',\n",
    "       'Trust (Government Corruption)_y', 'Generosity_y', 'Happiness Score_y'],axis=1,inplace=True)"
   ]
  },
  {
   "cell_type": "code",
   "execution_count": null,
   "metadata": {
    "id": "00x2czLEA_c2"
   },
   "outputs": [],
   "source": [
    "df_2018_data.drop(['Year_y','Happiness Rank_y','Economy (GDP per Capita)_y',\n",
    "       'Family_y', 'Health (Life Expectancy)_y', 'Freedom_y','Year_y',\n",
    "       'Trust (Government Corruption)_y', 'Generosity_y', 'Happiness Score_y'],axis=1,inplace = True)"
   ]
  },
  {
   "cell_type": "code",
   "execution_count": null,
   "metadata": {
    "id": "AvRDjL5oA_c2"
   },
   "outputs": [],
   "source": [
    "df_2019_data.drop(['Year_y', 'Happiness Rank_y','Economy (GDP per Capita)_y',\n",
    "       'Family_y', 'Health (Life Expectancy)_y', 'Freedom_y',\n",
    "       'Trust (Government Corruption)_y', 'Generosity_y', 'Happiness Score_y'],axis=1, inplace = True)"
   ]
  },
  {
   "cell_type": "code",
   "execution_count": null,
   "metadata": {
    "id": "haI-fHG0A_c2"
   },
   "outputs": [],
   "source": [
    "df_2020_data.drop(['Year_y', 'Happiness Rank_y',\n",
    "       'Family_y', 'Health (Life Expectancy)_y', 'Freedom_y',\n",
    "       'Trust (Government Corruption)_y', 'Generosity_y', 'Happiness Score_y'],axis=1, inplace = True)"
   ]
  },
  {
   "cell_type": "code",
   "execution_count": null,
   "metadata": {
    "id": "5eD0v2qfA_c3"
   },
   "outputs": [],
   "source": [
    "df_2017_data.rename(columns = {'Year_x' : 'Year',\n",
    "                          'Happiness Rank_x' : 'Happiness Rank',\n",
    "                          'Happiness Score_x':'Happiness Score',\n",
    "                          'Family_x':'Family',\n",
    "                          'Economy (GDP per Capita)_x':'Economy (GDP per Capita)',\n",
    "                          'Health (Life Expectancy)_x': 'Health (Life Expectancy)',\n",
    "                          'Freedom_x' : 'Freedom',\n",
    "                          'Trust (Government Corruption)_x': 'Trust (Government Corruption)',\n",
    "                          'Generosity_x':'Generosity'\n",
    "                          }, inplace = True)"
   ]
  },
  {
   "cell_type": "code",
   "execution_count": null,
   "metadata": {
    "id": "LKJ8VkuSA_c3"
   },
   "outputs": [],
   "source": [
    "df_2018_data.rename(columns = {'Year_x' : 'Year',\n",
    "                          'Happiness Rank_x' : 'Happiness Rank',\n",
    "                          'Happiness Score_x':'Happiness Score',\n",
    "                          'Family_x':'Family',\n",
    "                          'Economy (GDP per Capita)_x':'Economy (GDP per Capita)',\n",
    "                          'Health (Life Expectancy)_x': 'Health (Life Expectancy)',\n",
    "                          'Freedom_x' : 'Freedom',\n",
    "                          'Trust (Government Corruption)_x': 'Trust (Government Corruption)',\n",
    "                          'Generosity_x':'Generosity'\n",
    "                          }, inplace = True)"
   ]
  },
  {
   "cell_type": "code",
   "execution_count": null,
   "metadata": {
    "id": "t3_t04_nA_c3"
   },
   "outputs": [],
   "source": [
    "df_2019_data.rename(columns = {'Year_x' : 'Year',\n",
    "                          'Happiness Rank_x' : 'Happiness Rank',\n",
    "                          'Happiness Score_x':'Happiness Score',\n",
    "                          'Family_x':'Family',\n",
    "                          'Economy (GDP per Capita)_x':'Economy (GDP per Capita)',\n",
    "                          'Health (Life Expectancy)_x': 'Health (Life Expectancy)',\n",
    "                          'Freedom_x' : 'Freedom',\n",
    "                          'Trust (Government Corruption)_x': 'Trust (Government Corruption)',\n",
    "                          'Generosity_x':'Generosity'\n",
    "                          }, inplace = True)"
   ]
  },
  {
   "cell_type": "code",
   "execution_count": null,
   "metadata": {
    "id": "vyKA47PDA_c3"
   },
   "outputs": [],
   "source": [
    "df_2020_data.rename(columns = {'Year_x' : 'Year',\n",
    "                          'Happiness Rank_x' : 'Happiness Rank',\n",
    "                          'Happiness Score_x':'Happiness Score',\n",
    "                          'Family_x':'Family',\n",
    "                          'Economy (GDP per Capita)_x':'Economy (GDP per Capita)',\n",
    "                          'Health (Life Expectancy)_x': 'Health (Life Expectancy)',\n",
    "                          'Freedom_x' : 'Freedom',\n",
    "                          'Trust (Government Corruption)_x': 'Trust (Government Corruption)',\n",
    "                          'Generosity_x':'Generosity'\n",
    "                          }, inplace = True)"
   ]
  },
  {
   "cell_type": "code",
   "execution_count": null,
   "metadata": {
    "id": "TCFwLdjVA_c3"
   },
   "outputs": [],
   "source": [
    "df_2015_data = df_2015_data[['Year','Country','Region', 'Economy (GDP per Capita)','Family',\n",
    "                        'Health (Life Expectancy)','Freedom', 'Trust (Government Corruption)', 'Generosity', \n",
    "                        'Happiness Score', 'Happiness Rank']]\n",
    "df_2016_data = df_2016_data[['Year','Country','Region', 'Economy (GDP per Capita)','Family',\n",
    "                        'Health (Life Expectancy)','Freedom', 'Trust (Government Corruption)', 'Generosity', \n",
    "                        'Happiness Score', 'Happiness Rank']]\n",
    "df_2017_data = df_2017_data[['Year','Country','Region', 'Economy (GDP per Capita)','Family',\n",
    "                        'Health (Life Expectancy)','Freedom', 'Trust (Government Corruption)', 'Generosity', \n",
    "                        'Happiness Score', 'Happiness Rank']]\n",
    "df_2018_data = df_2018_data[['Year','Country','Region', 'Economy (GDP per Capita)','Family',\n",
    "                        'Health (Life Expectancy)','Freedom', 'Trust (Government Corruption)', 'Generosity', \n",
    "                        'Happiness Score', 'Happiness Rank']]\n",
    "df_2019_data = df_2019_data[['Year','Country','Region', 'Economy (GDP per Capita)','Family',\n",
    "                        'Health (Life Expectancy)','Freedom', 'Trust (Government Corruption)', 'Generosity', \n",
    "                        'Happiness Score', 'Happiness Rank']]\n",
    "df_2020_data = df_2020_data[['Year','Country','Region', 'Economy (GDP per Capita)','Family',\n",
    "                        'Health (Life Expectancy)','Freedom', 'Trust (Government Corruption)', 'Generosity', \n",
    "                        'Happiness Score', 'Happiness Rank']]"
   ]
  },
  {
   "cell_type": "code",
   "execution_count": null,
   "metadata": {
    "id": "EM8lgbPIA_c4"
   },
   "outputs": [],
   "source": [
    "# Create dataset including all the data from all the years together.\n",
    "\n",
    "df_final = pd.concat([df_2015_data,df_2016_data,df_2017_data,df_2018_data,df_2019_data,df_2020_data],\n",
    "                     sort = False, ignore_index=True)"
   ]
  },
  {
   "cell_type": "code",
   "execution_count": null,
   "metadata": {
    "colab": {
     "base_uri": "https://localhost:8080/",
     "height": 424
    },
    "id": "KrlcSEvvA_c4",
    "outputId": "72b3a9f4-979a-4570-abd5-0bfb71b886e8"
   },
   "outputs": [
    {
     "data": {
      "text/html": [
       "<div>\n",
       "<style scoped>\n",
       "    .dataframe tbody tr th:only-of-type {\n",
       "        vertical-align: middle;\n",
       "    }\n",
       "\n",
       "    .dataframe tbody tr th {\n",
       "        vertical-align: top;\n",
       "    }\n",
       "\n",
       "    .dataframe thead th {\n",
       "        text-align: right;\n",
       "    }\n",
       "</style>\n",
       "<table border=\"1\" class=\"dataframe\">\n",
       "  <thead>\n",
       "    <tr style=\"text-align: right;\">\n",
       "      <th></th>\n",
       "      <th>Year</th>\n",
       "      <th>Country</th>\n",
       "      <th>Region</th>\n",
       "      <th>Economy (GDP per Capita)</th>\n",
       "      <th>Family</th>\n",
       "      <th>Health (Life Expectancy)</th>\n",
       "      <th>Freedom</th>\n",
       "      <th>Trust (Government Corruption)</th>\n",
       "      <th>Generosity</th>\n",
       "      <th>Happiness Score</th>\n",
       "      <th>Happiness Rank</th>\n",
       "    </tr>\n",
       "  </thead>\n",
       "  <tbody>\n",
       "    <tr>\n",
       "      <th>0</th>\n",
       "      <td>2015</td>\n",
       "      <td>Switzerland</td>\n",
       "      <td>Western Europe</td>\n",
       "      <td>1.396510</td>\n",
       "      <td>1.349510</td>\n",
       "      <td>0.941430</td>\n",
       "      <td>0.665570</td>\n",
       "      <td>0.419780</td>\n",
       "      <td>0.296780</td>\n",
       "      <td>7.5870</td>\n",
       "      <td>1</td>\n",
       "    </tr>\n",
       "    <tr>\n",
       "      <th>1</th>\n",
       "      <td>2015</td>\n",
       "      <td>Iceland</td>\n",
       "      <td>Western Europe</td>\n",
       "      <td>1.302320</td>\n",
       "      <td>1.402230</td>\n",
       "      <td>0.947840</td>\n",
       "      <td>0.628770</td>\n",
       "      <td>0.141450</td>\n",
       "      <td>0.436300</td>\n",
       "      <td>7.5610</td>\n",
       "      <td>2</td>\n",
       "    </tr>\n",
       "    <tr>\n",
       "      <th>2</th>\n",
       "      <td>2015</td>\n",
       "      <td>Denmark</td>\n",
       "      <td>Western Europe</td>\n",
       "      <td>1.325480</td>\n",
       "      <td>1.360580</td>\n",
       "      <td>0.874640</td>\n",
       "      <td>0.649380</td>\n",
       "      <td>0.483570</td>\n",
       "      <td>0.341390</td>\n",
       "      <td>7.5270</td>\n",
       "      <td>3</td>\n",
       "    </tr>\n",
       "    <tr>\n",
       "      <th>3</th>\n",
       "      <td>2015</td>\n",
       "      <td>Norway</td>\n",
       "      <td>Western Europe</td>\n",
       "      <td>1.459000</td>\n",
       "      <td>1.330950</td>\n",
       "      <td>0.885210</td>\n",
       "      <td>0.669730</td>\n",
       "      <td>0.365030</td>\n",
       "      <td>0.346990</td>\n",
       "      <td>7.5220</td>\n",
       "      <td>4</td>\n",
       "    </tr>\n",
       "    <tr>\n",
       "      <th>4</th>\n",
       "      <td>2015</td>\n",
       "      <td>Canada</td>\n",
       "      <td>North America</td>\n",
       "      <td>1.326290</td>\n",
       "      <td>1.322610</td>\n",
       "      <td>0.905630</td>\n",
       "      <td>0.632970</td>\n",
       "      <td>0.329570</td>\n",
       "      <td>0.458110</td>\n",
       "      <td>7.4270</td>\n",
       "      <td>5</td>\n",
       "    </tr>\n",
       "    <tr>\n",
       "      <th>...</th>\n",
       "      <td>...</td>\n",
       "      <td>...</td>\n",
       "      <td>...</td>\n",
       "      <td>...</td>\n",
       "      <td>...</td>\n",
       "      <td>...</td>\n",
       "      <td>...</td>\n",
       "      <td>...</td>\n",
       "      <td>...</td>\n",
       "      <td>...</td>\n",
       "      <td>...</td>\n",
       "    </tr>\n",
       "    <tr>\n",
       "      <th>907</th>\n",
       "      <td>2020</td>\n",
       "      <td>Tanzania</td>\n",
       "      <td>Sub-Saharan Africa</td>\n",
       "      <td>0.457163</td>\n",
       "      <td>0.688933</td>\n",
       "      <td>57.496075</td>\n",
       "      <td>0.821540</td>\n",
       "      <td>0.619799</td>\n",
       "      <td>0.109669</td>\n",
       "      <td>3.4762</td>\n",
       "      <td>147</td>\n",
       "    </tr>\n",
       "    <tr>\n",
       "      <th>908</th>\n",
       "      <td>2020</td>\n",
       "      <td>Central African Republic</td>\n",
       "      <td>Sub-Saharan Africa</td>\n",
       "      <td>0.041072</td>\n",
       "      <td>0.319460</td>\n",
       "      <td>45.200001</td>\n",
       "      <td>0.640881</td>\n",
       "      <td>0.891807</td>\n",
       "      <td>0.082410</td>\n",
       "      <td>3.4759</td>\n",
       "      <td>148</td>\n",
       "    </tr>\n",
       "    <tr>\n",
       "      <th>909</th>\n",
       "      <td>2020</td>\n",
       "      <td>Rwanda</td>\n",
       "      <td>Sub-Saharan Africa</td>\n",
       "      <td>0.343243</td>\n",
       "      <td>0.540835</td>\n",
       "      <td>61.098846</td>\n",
       "      <td>0.900589</td>\n",
       "      <td>0.183541</td>\n",
       "      <td>0.055484</td>\n",
       "      <td>3.3123</td>\n",
       "      <td>149</td>\n",
       "    </tr>\n",
       "    <tr>\n",
       "      <th>910</th>\n",
       "      <td>2020</td>\n",
       "      <td>Zimbabwe</td>\n",
       "      <td>Sub-Saharan Africa</td>\n",
       "      <td>0.425564</td>\n",
       "      <td>0.763093</td>\n",
       "      <td>55.617260</td>\n",
       "      <td>0.711458</td>\n",
       "      <td>0.810237</td>\n",
       "      <td>-0.072064</td>\n",
       "      <td>3.2992</td>\n",
       "      <td>150</td>\n",
       "    </tr>\n",
       "    <tr>\n",
       "      <th>911</th>\n",
       "      <td>2020</td>\n",
       "      <td>Afghanistan</td>\n",
       "      <td>Southern Asia</td>\n",
       "      <td>0.300706</td>\n",
       "      <td>0.470367</td>\n",
       "      <td>52.590000</td>\n",
       "      <td>0.396573</td>\n",
       "      <td>0.933687</td>\n",
       "      <td>-0.096429</td>\n",
       "      <td>2.5669</td>\n",
       "      <td>152</td>\n",
       "    </tr>\n",
       "  </tbody>\n",
       "</table>\n",
       "<p>912 rows × 11 columns</p>\n",
       "</div>"
      ],
      "text/plain": [
       "     Year                   Country  ... Happiness Score  Happiness Rank\n",
       "0    2015               Switzerland  ...          7.5870               1\n",
       "1    2015                   Iceland  ...          7.5610               2\n",
       "2    2015                   Denmark  ...          7.5270               3\n",
       "3    2015                    Norway  ...          7.5220               4\n",
       "4    2015                    Canada  ...          7.4270               5\n",
       "..    ...                       ...  ...             ...             ...\n",
       "907  2020                  Tanzania  ...          3.4762             147\n",
       "908  2020  Central African Republic  ...          3.4759             148\n",
       "909  2020                    Rwanda  ...          3.3123             149\n",
       "910  2020                  Zimbabwe  ...          3.2992             150\n",
       "911  2020               Afghanistan  ...          2.5669             152\n",
       "\n",
       "[912 rows x 11 columns]"
      ]
     },
     "execution_count": 41,
     "metadata": {},
     "output_type": "execute_result"
    }
   ],
   "source": [
    "df_final"
   ]
  },
  {
   "cell_type": "code",
   "execution_count": null,
   "metadata": {
    "colab": {
     "base_uri": "https://localhost:8080/"
    },
    "id": "j0LspYQZA_c4",
    "outputId": "9bf700aa-a5a3-4e6e-e86d-0536287cf3ed"
   },
   "outputs": [
    {
     "data": {
      "text/plain": [
       "Index(['Year', 'Country', 'Region', 'Economy (GDP per Capita)', 'Family',\n",
       "       'Health (Life Expectancy)', 'Freedom', 'Trust (Government Corruption)',\n",
       "       'Generosity', 'Happiness Score', 'Happiness Rank'],\n",
       "      dtype='object')"
      ]
     },
     "execution_count": 42,
     "metadata": {},
     "output_type": "execute_result"
    }
   ],
   "source": [
    "df_final.columns"
   ]
  },
  {
   "cell_type": "markdown",
   "metadata": {
    "id": "CQsDIIqW6oIK"
   },
   "source": [
    "\n",
    "\n",
    "---\n",
    "\n",
    "\n",
    "\n",
    "---\n",
    "\n",
    "\n",
    "## **Missing Data**"
   ]
  },
  {
   "cell_type": "code",
   "execution_count": null,
   "metadata": {
    "colab": {
     "base_uri": "https://localhost:8080/"
    },
    "id": "khNNE8kTA_c5",
    "outputId": "7cb3ba32-d7bd-49fd-f5cd-ad6ea6b16b51"
   },
   "outputs": [
    {
     "data": {
      "text/plain": [
       "Year                             0\n",
       "Country                          0\n",
       "Region                           0\n",
       "Economy (GDP per Capita)         0\n",
       "Family                           0\n",
       "Health (Life Expectancy)         0\n",
       "Freedom                          0\n",
       "Trust (Government Corruption)    1\n",
       "Generosity                       0\n",
       "Happiness Score                  0\n",
       "Happiness Rank                   0\n",
       "dtype: int64"
      ]
     },
     "execution_count": 43,
     "metadata": {},
     "output_type": "execute_result"
    }
   ],
   "source": [
    "df_final.isna().sum()"
   ]
  },
  {
   "cell_type": "code",
   "execution_count": null,
   "metadata": {
    "colab": {
     "base_uri": "https://localhost:8080/",
     "height": 81
    },
    "id": "nlyNEoHsA_c5",
    "outputId": "8efa3317-933e-4db0-e133-fe8969e26f91"
   },
   "outputs": [
    {
     "data": {
      "text/html": [
       "<div>\n",
       "<style scoped>\n",
       "    .dataframe tbody tr th:only-of-type {\n",
       "        vertical-align: middle;\n",
       "    }\n",
       "\n",
       "    .dataframe tbody tr th {\n",
       "        vertical-align: top;\n",
       "    }\n",
       "\n",
       "    .dataframe thead th {\n",
       "        text-align: right;\n",
       "    }\n",
       "</style>\n",
       "<table border=\"1\" class=\"dataframe\">\n",
       "  <thead>\n",
       "    <tr style=\"text-align: right;\">\n",
       "      <th></th>\n",
       "      <th>Year</th>\n",
       "      <th>Country</th>\n",
       "      <th>Region</th>\n",
       "      <th>Economy (GDP per Capita)</th>\n",
       "      <th>Family</th>\n",
       "      <th>Health (Life Expectancy)</th>\n",
       "      <th>Freedom</th>\n",
       "      <th>Trust (Government Corruption)</th>\n",
       "      <th>Generosity</th>\n",
       "      <th>Happiness Score</th>\n",
       "      <th>Happiness Rank</th>\n",
       "    </tr>\n",
       "  </thead>\n",
       "  <tbody>\n",
       "    <tr>\n",
       "      <th>484</th>\n",
       "      <td>2018</td>\n",
       "      <td>United Arab Emirates</td>\n",
       "      <td>Middle East and Northern Africa</td>\n",
       "      <td>2.096</td>\n",
       "      <td>0.776</td>\n",
       "      <td>0.67</td>\n",
       "      <td>0.284</td>\n",
       "      <td>NaN</td>\n",
       "      <td>0.186</td>\n",
       "      <td>6.774</td>\n",
       "      <td>20</td>\n",
       "    </tr>\n",
       "  </tbody>\n",
       "</table>\n",
       "</div>"
      ],
      "text/plain": [
       "     Year               Country  ... Happiness Score  Happiness Rank\n",
       "484  2018  United Arab Emirates  ...           6.774              20\n",
       "\n",
       "[1 rows x 11 columns]"
      ]
     },
     "execution_count": 44,
     "metadata": {},
     "output_type": "execute_result"
    }
   ],
   "source": [
    "#identify the NA value\n",
    "\n",
    "df_final[df_final['Trust (Government Corruption)'].isna()]"
   ]
  },
  {
   "cell_type": "code",
   "execution_count": null,
   "metadata": {
    "colab": {
     "base_uri": "https://localhost:8080/"
    },
    "id": "z8Lekr6cA_c5",
    "outputId": "d28f6bf4-4509-412d-f305-6c7f8b8b1ed8"
   },
   "outputs": [
    {
     "name": "stdout",
     "output_type": "stream",
     "text": [
      "<class 'pandas.core.frame.DataFrame'>\n",
      "RangeIndex: 912 entries, 0 to 911\n",
      "Data columns (total 11 columns):\n",
      " #   Column                         Non-Null Count  Dtype  \n",
      "---  ------                         --------------  -----  \n",
      " 0   Year                           912 non-null    int64  \n",
      " 1   Country                        912 non-null    object \n",
      " 2   Region                         912 non-null    object \n",
      " 3   Economy (GDP per Capita)       912 non-null    float64\n",
      " 4   Family                         912 non-null    float64\n",
      " 5   Health (Life Expectancy)       912 non-null    float64\n",
      " 6   Freedom                        912 non-null    float64\n",
      " 7   Trust (Government Corruption)  911 non-null    float64\n",
      " 8   Generosity                     912 non-null    float64\n",
      " 9   Happiness Score                912 non-null    float64\n",
      " 10  Happiness Rank                 912 non-null    int64  \n",
      "dtypes: float64(7), int64(2), object(2)\n",
      "memory usage: 78.5+ KB\n"
     ]
    }
   ],
   "source": [
    "df_final.info()"
   ]
  },
  {
   "cell_type": "markdown",
   "metadata": {
    "id": "jq6ULuo-6xKB"
   },
   "source": [
    "We will be replacing the missing value with the mean of all the values from each year for the United Arab Emriates."
   ]
  },
  {
   "cell_type": "code",
   "execution_count": null,
   "metadata": {
    "colab": {
     "base_uri": "https://localhost:8080/",
     "height": 359
    },
    "id": "XB64Va1XA_c5",
    "outputId": "ee834a3c-c531-4d1e-a71e-25843fce1749"
   },
   "outputs": [
    {
     "data": {
      "text/html": [
       "<div>\n",
       "<style scoped>\n",
       "    .dataframe tbody tr th:only-of-type {\n",
       "        vertical-align: middle;\n",
       "    }\n",
       "\n",
       "    .dataframe tbody tr th {\n",
       "        vertical-align: top;\n",
       "    }\n",
       "\n",
       "    .dataframe thead th {\n",
       "        text-align: right;\n",
       "    }\n",
       "</style>\n",
       "<table border=\"1\" class=\"dataframe\">\n",
       "  <thead>\n",
       "    <tr style=\"text-align: right;\">\n",
       "      <th></th>\n",
       "      <th>Year</th>\n",
       "      <th>Country</th>\n",
       "      <th>Region</th>\n",
       "      <th>Economy (GDP per Capita)</th>\n",
       "      <th>Family</th>\n",
       "      <th>Health (Life Expectancy)</th>\n",
       "      <th>Freedom</th>\n",
       "      <th>Trust (Government Corruption)</th>\n",
       "      <th>Generosity</th>\n",
       "      <th>Happiness Score</th>\n",
       "      <th>Happiness Rank</th>\n",
       "    </tr>\n",
       "  </thead>\n",
       "  <tbody>\n",
       "    <tr>\n",
       "      <th>19</th>\n",
       "      <td>2015</td>\n",
       "      <td>United Arab Emirates</td>\n",
       "      <td>Middle East and Northern Africa</td>\n",
       "      <td>1.427270</td>\n",
       "      <td>1.125750</td>\n",
       "      <td>0.809250</td>\n",
       "      <td>0.641570</td>\n",
       "      <td>0.385830</td>\n",
       "      <td>0.264280</td>\n",
       "      <td>6.9010</td>\n",
       "      <td>20</td>\n",
       "    </tr>\n",
       "    <tr>\n",
       "      <th>185</th>\n",
       "      <td>2016</td>\n",
       "      <td>United Arab Emirates</td>\n",
       "      <td>Middle East and Northern Africa</td>\n",
       "      <td>1.573520</td>\n",
       "      <td>0.871140</td>\n",
       "      <td>0.729930</td>\n",
       "      <td>0.562150</td>\n",
       "      <td>0.355610</td>\n",
       "      <td>0.265910</td>\n",
       "      <td>6.5730</td>\n",
       "      <td>28</td>\n",
       "    </tr>\n",
       "    <tr>\n",
       "      <th>335</th>\n",
       "      <td>2017</td>\n",
       "      <td>United Arab Emirates</td>\n",
       "      <td>Middle East and Northern Africa</td>\n",
       "      <td>1.626343</td>\n",
       "      <td>1.266410</td>\n",
       "      <td>0.726798</td>\n",
       "      <td>0.608345</td>\n",
       "      <td>0.324490</td>\n",
       "      <td>0.360942</td>\n",
       "      <td>6.6480</td>\n",
       "      <td>21</td>\n",
       "    </tr>\n",
       "    <tr>\n",
       "      <th>484</th>\n",
       "      <td>2018</td>\n",
       "      <td>United Arab Emirates</td>\n",
       "      <td>Middle East and Northern Africa</td>\n",
       "      <td>2.096000</td>\n",
       "      <td>0.776000</td>\n",
       "      <td>0.670000</td>\n",
       "      <td>0.284000</td>\n",
       "      <td>NaN</td>\n",
       "      <td>0.186000</td>\n",
       "      <td>6.7740</td>\n",
       "      <td>20</td>\n",
       "    </tr>\n",
       "    <tr>\n",
       "      <th>636</th>\n",
       "      <td>2019</td>\n",
       "      <td>United Arab Emirates</td>\n",
       "      <td>Middle East and Northern Africa</td>\n",
       "      <td>1.503000</td>\n",
       "      <td>1.310000</td>\n",
       "      <td>0.825000</td>\n",
       "      <td>0.598000</td>\n",
       "      <td>0.182000</td>\n",
       "      <td>0.262000</td>\n",
       "      <td>6.8250</td>\n",
       "      <td>21</td>\n",
       "    </tr>\n",
       "    <tr>\n",
       "      <th>785</th>\n",
       "      <td>2020</td>\n",
       "      <td>United Arab Emirates</td>\n",
       "      <td>Middle East and Northern Africa</td>\n",
       "      <td>1.431086</td>\n",
       "      <td>0.849181</td>\n",
       "      <td>67.082787</td>\n",
       "      <td>0.941346</td>\n",
       "      <td>0.594502</td>\n",
       "      <td>0.123451</td>\n",
       "      <td>6.7908</td>\n",
       "      <td>20</td>\n",
       "    </tr>\n",
       "  </tbody>\n",
       "</table>\n",
       "</div>"
      ],
      "text/plain": [
       "     Year               Country  ... Happiness Score  Happiness Rank\n",
       "19   2015  United Arab Emirates  ...          6.9010              20\n",
       "185  2016  United Arab Emirates  ...          6.5730              28\n",
       "335  2017  United Arab Emirates  ...          6.6480              21\n",
       "484  2018  United Arab Emirates  ...          6.7740              20\n",
       "636  2019  United Arab Emirates  ...          6.8250              21\n",
       "785  2020  United Arab Emirates  ...          6.7908              20\n",
       "\n",
       "[6 rows x 11 columns]"
      ]
     },
     "execution_count": 46,
     "metadata": {},
     "output_type": "execute_result"
    }
   ],
   "source": [
    "df_missing_fill = df_final[df_final['Country'] == 'United Arab Emirates']\n",
    "df_missing_fill"
   ]
  },
  {
   "cell_type": "code",
   "execution_count": null,
   "metadata": {
    "colab": {
     "base_uri": "https://localhost:8080/"
    },
    "id": "cnEp_fwdA_c5",
    "outputId": "5e5b4446-6d21-4507-e68a-cebb5e173044"
   },
   "outputs": [
    {
     "data": {
      "text/plain": [
       "0.36848635494070736"
      ]
     },
     "execution_count": 47,
     "metadata": {},
     "output_type": "execute_result"
    }
   ],
   "source": [
    "df_missing_fill['Trust (Government Corruption)'].mean()  #find mean"
   ]
  },
  {
   "cell_type": "code",
   "execution_count": null,
   "metadata": {
    "id": "b41cOwW1A_c5"
   },
   "outputs": [],
   "source": [
    "# replace the value to mean\n",
    "\n",
    "df_final.fillna(0.311982, inplace=True)"
   ]
  },
  {
   "cell_type": "code",
   "execution_count": null,
   "metadata": {
    "colab": {
     "base_uri": "https://localhost:8080/"
    },
    "id": "dnHcz3SiA_c6",
    "outputId": "6dbce798-b7ec-45b0-d0db-4a735a23f265"
   },
   "outputs": [
    {
     "name": "stdout",
     "output_type": "stream",
     "text": [
      "<class 'pandas.core.frame.DataFrame'>\n",
      "RangeIndex: 912 entries, 0 to 911\n",
      "Data columns (total 11 columns):\n",
      " #   Column                         Non-Null Count  Dtype  \n",
      "---  ------                         --------------  -----  \n",
      " 0   Year                           912 non-null    int64  \n",
      " 1   Country                        912 non-null    object \n",
      " 2   Region                         912 non-null    object \n",
      " 3   Economy (GDP per Capita)       912 non-null    float64\n",
      " 4   Family                         912 non-null    float64\n",
      " 5   Health (Life Expectancy)       912 non-null    float64\n",
      " 6   Freedom                        912 non-null    float64\n",
      " 7   Trust (Government Corruption)  912 non-null    float64\n",
      " 8   Generosity                     912 non-null    float64\n",
      " 9   Happiness Score                912 non-null    float64\n",
      " 10  Happiness Rank                 912 non-null    int64  \n",
      "dtypes: float64(7), int64(2), object(2)\n",
      "memory usage: 78.5+ KB\n"
     ]
    }
   ],
   "source": [
    "df_final.info()"
   ]
  },
  {
   "cell_type": "code",
   "execution_count": null,
   "metadata": {
    "colab": {
     "base_uri": "https://localhost:8080/",
     "height": 372
    },
    "id": "mchGvxrxdmqG",
    "outputId": "4cf66984-7125-416a-a955-1c1ffcc3b5f2"
   },
   "outputs": [
    {
     "data": {
      "text/plain": [
       "Index(['Year', 'Country', 'Region', 'Economy (GDP per Capita)', 'Family',\n",
       "       'Health (Life Expectancy)', 'Freedom', 'Trust (Government Corruption)',\n",
       "       'Generosity', 'Happiness Score', 'Happiness Rank'],\n",
       "      dtype='object')"
      ]
     },
     "execution_count": 50,
     "metadata": {},
     "output_type": "execute_result"
    },
    {
     "data": {
      "text/plain": [
       "<Figure size 2880x2880 with 0 Axes>"
      ]
     },
     "metadata": {},
     "output_type": "display_data"
    },
    {
     "data": {
      "image/png": "[encoded data removed]",
      "text/plain": [
       "<Figure size 432x288 with 9 Axes>"
      ]
     },
     "metadata": {
      "needs_background": "light"
     },
     "output_type": "display_data"
    }
   ],
   "source": [
    "plt.figure(figsize=(40,40))\n",
    "df_final[['Happiness Score',\n",
    "       'Economy (GDP per Capita)', 'Family', 'Health (Life Expectancy)',\n",
    "       'Freedom', 'Generosity', 'Trust (Government Corruption)',]].hist();\n",
    "\n",
    "df_final.columns"
   ]
  },
  {
   "cell_type": "markdown",
   "metadata": {
    "id": "d4nf33bWg25w"
   },
   "source": [
    "\n",
    "\n",
    "---\n",
    "\n",
    "\n",
    "\n",
    "---\n",
    "\n",
    "\n",
    "## **Data Analysis**"
   ]
  },
  {
   "cell_type": "markdown",
   "metadata": {
    "id": "eJu9M6Sp_iH2"
   },
   "source": [
    "  We will be analysing the happiness score of countries by region using data visualization. "
   ]
  },
  {
   "cell_type": "markdown",
   "metadata": {
    "id": "fLqBOGhHZv_6"
   },
   "source": [
    "###**Happiness Score by Region**"
   ]
  },
  {
   "cell_type": "code",
   "execution_count": null,
   "metadata": {
    "colab": {
     "base_uri": "https://localhost:8080/",
     "height": 626
    },
    "id": "HzmBOznuXk-h",
    "outputId": "7d18461e-de75-487b-f902-005104f1ef7b"
   },
   "outputs": [
    {
     "data": {
      "text/plain": [
       "Text(0.5, 1.0, 'Happiness Score by Regions')"
      ]
     },
     "execution_count": 51,
     "metadata": {},
     "output_type": "execute_result"
    },
    {
     "data": {
      "image/png": "[encoded data removed]",
      "text/plain": [
       "<Figure size 720x504 with 1 Axes>"
      ]
     },
     "metadata": {
      "needs_background": "light"
     },
     "output_type": "display_data"
    }
   ],
   "source": [
    "region_list = list(df_final.Region.unique())\n",
    "happiness_score_by_region = []\n",
    "for i in region_list:\n",
    "    x = df_final[df_final.Region == i]\n",
    "    region_happiness_score_rate = sum(x[\"Happiness Score\"])/len(x)\n",
    "    happiness_score_by_region.append(region_happiness_score_rate)\n",
    "\n",
    "#sorting data and forming a dataframe\n",
    "df_region = pd.DataFrame({'region_list':region_list, 'happiness_score_by_region':happiness_score_by_region})\n",
    "new_index = (df_region['happiness_score_by_region'].sort_values(ascending = False)).index.values\n",
    "sorted_data = df_region.reindex(new_index)\n",
    "                               \n",
    "#visualisation\n",
    "plt.figure(figsize=(10,7))\n",
    "sns.barplot(x=sorted_data['region_list'], y=sorted_data['happiness_score_by_region'], palette = sns.color_palette('flare',15))\n",
    "plt.xticks(rotation= 90)\n",
    "plt.xlabel('Regions')\n",
    "plt.ylabel('Happiness Score')\n",
    "plt.title('Happiness Score by Regions')"
   ]
  },
  {
   "cell_type": "markdown",
   "metadata": {
    "id": "3aj56LmSTO5V"
   },
   "source": [
    "We can conclude that Australia and New Zealand has highest happiness score ratio. North America and Western Europe has second and third highest happiness scores respectively while the Sub-Saharan Africa region has lowest happiness score ratio."
   ]
  },
  {
   "cell_type": "code",
   "execution_count": null,
   "metadata": {
    "colab": {
     "base_uri": "https://localhost:8080/",
     "height": 646
    },
    "id": "lf9T3vPWaJbp",
    "outputId": "ecc23e98-b7d5-4216-979d-ad91ab3fe974"
   },
   "outputs": [
    {
     "data": {
      "image/png": "[encoded data removed]",
      "text/plain": [
       "<Figure size 1080x576 with 1 Axes>"
      ]
     },
     "metadata": {
      "needs_background": "light"
     },
     "output_type": "display_data"
    }
   ],
   "source": [
    "f,ax1 = plt.subplots(figsize = (15,8))\n",
    "sns.barplot(x = df_final.Region, y = df_final['Economy (GDP per Capita)'], palette = sns.color_palette(\"light:#5A9\",15))\n",
    "plt.xticks(rotation = 90)\n",
    "plt.show()"
   ]
  },
  {
   "cell_type": "markdown",
   "metadata": {
    "id": "pEYLZZfvT6bV"
   },
   "source": [
    "From above graph which shows distribution of countries in each region by economy, we can see that Western Europe, North America and Australia and New Zealand are among the top regions with high economy. \n",
    "We can say that the countries in regions with high economy has high happiness score ratio.\n"
   ]
  },
  {
   "cell_type": "markdown",
   "metadata": {
    "id": "hxpwFhFEVN_3"
   },
   "source": [
    "To plot countries with high happiness scores, we filtered countries with happiness scores greater than 6.5."
   ]
  },
  {
   "cell_type": "code",
   "execution_count": null,
   "metadata": {
    "colab": {
     "base_uri": "https://localhost:8080/",
     "height": 502
    },
    "id": "iS_t9UjRbFM0",
    "outputId": "5b4c1e2a-a880-49fc-801f-78d65dbbc84b"
   },
   "outputs": [
    {
     "data": {
      "text/plain": [
       "Text(0.5, 1.0, 'Distribution of the Countries with higher Happiness Index by Region')"
      ]
     },
     "execution_count": 53,
     "metadata": {},
     "output_type": "execute_result"
    },
    {
     "data": {
      "image/png": "[encoded data removed]",
      "text/plain": [
       "<Figure size 576x576 with 1 Axes>"
      ]
     },
     "metadata": {},
     "output_type": "display_data"
    }
   ],
   "source": [
    "Filter_Score = df_final['Happiness Score']>=6.5\n",
    "Filter_countries = df_final[Filter_Score]\n",
    "Filter_countries.Region.unique()\n",
    "Filter_countries.Region.value_counts()\n",
    "\n",
    "#Visualisation\n",
    "labels = Filter_countries.Region.value_counts().index\n",
    "colors = ['midnightblue', 'darkblue', 'cornflowerblue','steelblue','teal','darkcyan','lightseagreen']\n",
    "sizes = Filter_countries.Region.value_counts().values\n",
    "\n",
    "# visual\n",
    "plt.figure(figsize = (8,8))\n",
    "plt.pie(sizes, labels=labels, colors=colors, autopct='%1.1f%%')\n",
    "plt.title('Distribution of the Countries with higher Happiness Index by Region',color = 'blue',fontsize = 15)"
   ]
  },
  {
   "cell_type": "markdown",
   "metadata": {
    "id": "dShwgZ6_VeL_"
   },
   "source": [
    "The pie chart explains that Western Europe has highest number of countries with high happiness score while SouthEastern Asia has lowest number of countries with happiness score greater than 6.5."
   ]
  },
  {
   "cell_type": "markdown",
   "metadata": {
    "id": "7ORKtIdTA_c7"
   },
   "source": [
    "### **Uni-Variate Plot**"
   ]
  },
  {
   "cell_type": "code",
   "execution_count": null,
   "metadata": {
    "colab": {
     "base_uri": "https://localhost:8080/",
     "height": 300
    },
    "id": "N9FQsgqhA_c7",
    "outputId": "a81fd780-5cd1-4636-8800-62faeac3bb2e"
   },
   "outputs": [
    {
     "data": {
      "text/html": [
       "<div>\n",
       "<style scoped>\n",
       "    .dataframe tbody tr th:only-of-type {\n",
       "        vertical-align: middle;\n",
       "    }\n",
       "\n",
       "    .dataframe tbody tr th {\n",
       "        vertical-align: top;\n",
       "    }\n",
       "\n",
       "    .dataframe thead th {\n",
       "        text-align: right;\n",
       "    }\n",
       "</style>\n",
       "<table border=\"1\" class=\"dataframe\">\n",
       "  <thead>\n",
       "    <tr style=\"text-align: right;\">\n",
       "      <th></th>\n",
       "      <th>Happiness Score</th>\n",
       "    </tr>\n",
       "  </thead>\n",
       "  <tbody>\n",
       "    <tr>\n",
       "      <th>count</th>\n",
       "      <td>912.00</td>\n",
       "    </tr>\n",
       "    <tr>\n",
       "      <th>mean</th>\n",
       "      <td>5.41</td>\n",
       "    </tr>\n",
       "    <tr>\n",
       "      <th>std</th>\n",
       "      <td>1.12</td>\n",
       "    </tr>\n",
       "    <tr>\n",
       "      <th>min</th>\n",
       "      <td>2.57</td>\n",
       "    </tr>\n",
       "    <tr>\n",
       "      <th>25%</th>\n",
       "      <td>4.55</td>\n",
       "    </tr>\n",
       "    <tr>\n",
       "      <th>50%</th>\n",
       "      <td>5.37</td>\n",
       "    </tr>\n",
       "    <tr>\n",
       "      <th>75%</th>\n",
       "      <td>6.22</td>\n",
       "    </tr>\n",
       "    <tr>\n",
       "      <th>max</th>\n",
       "      <td>7.81</td>\n",
       "    </tr>\n",
       "  </tbody>\n",
       "</table>\n",
       "</div>"
      ],
      "text/plain": [
       "       Happiness Score\n",
       "count           912.00\n",
       "mean              5.41\n",
       "std               1.12\n",
       "min               2.57\n",
       "25%               4.55\n",
       "50%               5.37\n",
       "75%               6.22\n",
       "max               7.81"
      ]
     },
     "execution_count": 54,
     "metadata": {},
     "output_type": "execute_result"
    }
   ],
   "source": [
    "happiness_score = pd.DataFrame(df_final[\"Happiness Score\"])\n",
    "happiness_score.describe().round(2)"
   ]
  },
  {
   "cell_type": "code",
   "execution_count": null,
   "metadata": {
    "colab": {
     "base_uri": "https://localhost:8080/",
     "height": 376
    },
    "id": "-unIXO6XA_c7",
    "outputId": "138d6ea9-96a5-4927-990f-2cdf05545f98"
   },
   "outputs": [
    {
     "name": "stderr",
     "output_type": "stream",
     "text": [
      "/usr/local/lib/python3.7/dist-packages/seaborn/distributions.py:2619: FutureWarning:\n",
      "\n",
      "`distplot` is a deprecated function and will be removed in a future version. Please adapt your code to use either `displot` (a figure-level function with similar flexibility) or `histplot` (an axes-level function for histograms).\n",
      "\n"
     ]
    },
    {
     "data": {
      "text/plain": [
       "<matplotlib.axes._subplots.AxesSubplot at 0x7f1e97ad9550>"
      ]
     },
     "execution_count": 55,
     "metadata": {},
     "output_type": "execute_result"
    },
    {
     "data": {
      "image/png": "[encoded data removed]",
      "text/plain": [
       "<Figure size 360x288 with 1 Axes>"
      ]
     },
     "metadata": {
      "needs_background": "light"
     },
     "output_type": "display_data"
    }
   ],
   "source": [
    "plt.figure(figsize=(5,4))\n",
    "sns.distplot(happiness_score,kde=True,hist=True,color=\"g\")"
   ]
  },
  {
   "cell_type": "markdown",
   "metadata": {
    "id": "LvDaD42cA_c7"
   },
   "source": [
    "classify the Happiness Score into 3 Categories with the help of the Univariate Plots:"
   ]
  },
  {
   "cell_type": "markdown",
   "metadata": {
    "id": "aVr5IAMAA_c7"
   },
   "source": [
    "1. Unhappy (less than 4)\n",
    "2. Normal / Likely Happy (between 4 and 6)\n",
    "3. Happy (more than 6)"
   ]
  },
  {
   "cell_type": "code",
   "execution_count": null,
   "metadata": {
    "id": "asTYsfglA_c8"
   },
   "outputs": [],
   "source": [
    "happiness=[]\n",
    "for i in happiness_score[\"Happiness Score\"]:\n",
    "    if i<4:\n",
    "        happiness.append(\"UNHAPPY\")\n",
    "    elif 4<=i<=6:\n",
    "        happiness.append(\"NORMAL\")\n",
    "    else:\n",
    "        happiness.append(\"HAPPY\")\n",
    "\n",
    "# Join our Hapiness_Score dataframe into the main dataframe\n",
    "happiness_level = pd.DataFrame(happiness,columns=[\"HAPPINESS_DATA\"])\n",
    "happiness_level = pd.DataFrame(happiness_level[\"HAPPINESS_DATA\"].astype('category'))\n",
    "df_final = pd.concat([df_final,happiness_level],axis=1)"
   ]
  },
  {
   "cell_type": "code",
   "execution_count": null,
   "metadata": {
    "colab": {
     "base_uri": "https://localhost:8080/"
    },
    "id": "m6kIgtJwA_c8",
    "outputId": "def5374f-80fe-435d-cca0-97f716201982"
   },
   "outputs": [
    {
     "data": {
      "text/plain": [
       "NORMAL     524\n",
       "HAPPY      283\n",
       "UNHAPPY    105\n",
       "Name: HAPPINESS_DATA, dtype: int64"
      ]
     },
     "execution_count": 57,
     "metadata": {},
     "output_type": "execute_result"
    }
   ],
   "source": [
    "df_final[\"HAPPINESS_DATA\"].value_counts()"
   ]
  },
  {
   "cell_type": "code",
   "execution_count": null,
   "metadata": {
    "colab": {
     "base_uri": "https://localhost:8080/",
     "height": 402
    },
    "id": "L6s9m189A_c8",
    "outputId": "6d8b92d9-f024-43a0-e584-64145d9ca8b7"
   },
   "outputs": [
    {
     "name": "stderr",
     "output_type": "stream",
     "text": [
      "/usr/local/lib/python3.7/dist-packages/seaborn/_decorators.py:43: FutureWarning:\n",
      "\n",
      "Pass the following variable as a keyword arg: x. From version 0.12, the only valid positional argument will be `data`, and passing other arguments without an explicit keyword will result in an error or misinterpretation.\n",
      "\n"
     ]
    },
    {
     "data": {
      "text/plain": [
       "Text(0, 0.5, 'Number of Countries with happiness score count')"
      ]
     },
     "execution_count": 58,
     "metadata": {},
     "output_type": "execute_result"
    },
    {
     "data": {
      "image/png": "[encoded data removed]",
      "text/plain": [
       "<Figure size 360x288 with 1 Axes>"
      ]
     },
     "metadata": {
      "needs_background": "light"
     },
     "output_type": "display_data"
    }
   ],
   "source": [
    "plt.figure( figsize=(5, 4))\n",
    "sns.countplot(df_final[\"HAPPINESS_DATA\"])\n",
    "plt.xlabel(\"Happiness level\")\n",
    "plt.ylabel(\"Number of Countries with happiness score count\")"
   ]
  },
  {
   "cell_type": "markdown",
   "metadata": {
    "id": "iBrJOSPVA_c8"
   },
   "source": [
    "The people have happiness score more than 6 are more happy and happiness score between 4 to 6 are likely happy and\n",
    "happiness score less than 4 are unhappy.\n",
    "From the plot we can see that likely happy people have more count of people than happy and unhappy"
   ]
  },
  {
   "cell_type": "markdown",
   "metadata": {
    "id": "75kOu2YcA_c8"
   },
   "source": [
    "Distribution of all variables on different Happiness Categories"
   ]
  },
  {
   "cell_type": "markdown",
   "metadata": {
    "id": "dIBK36IzA_c9"
   },
   "source": [
    "### **Average Happiness Score For Each Year**"
   ]
  },
  {
   "cell_type": "code",
   "execution_count": null,
   "metadata": {
    "colab": {
     "base_uri": "https://localhost:8080/"
    },
    "id": "sX-iwcXqfruF",
    "outputId": "9984126d-b532-4a9a-a26d-6f5b9436b51f"
   },
   "outputs": [
    {
     "data": {
      "text/plain": [
       "Year\n",
       "2015    5.375734\n",
       "2016    5.382185\n",
       "2017    5.379520\n",
       "2018    5.399391\n",
       "2019    5.433872\n",
       "2020    5.497306\n",
       "Name: Happiness Score, dtype: float64"
      ]
     },
     "execution_count": 59,
     "metadata": {},
     "output_type": "execute_result"
    }
   ],
   "source": [
    "mean_Happiness = df_final.groupby(\"Year\").mean()[\"Happiness Score\"]\n",
    "mean_Happiness"
   ]
  },
  {
   "cell_type": "code",
   "execution_count": null,
   "metadata": {
    "colab": {
     "base_uri": "https://localhost:8080/",
     "height": 324
    },
    "id": "YzVzx7DWA_c9",
    "outputId": "8549b512-5198-48a0-f6c8-050de6f61742"
   },
   "outputs": [
    {
     "data": {
      "image/png": "[encoded data removed]",
      "text/plain": [
       "<Figure size 504x360 with 1 Axes>"
      ]
     },
     "metadata": {
      "needs_background": "light"
     },
     "output_type": "display_data"
    }
   ],
   "source": [
    "#with respect to year it shows that happiness score is increasing from 2015 to 2020\n",
    "plt.figure(figsize=(7,5))\n",
    "plt.plot(mean_Happiness)\n",
    "plt.ylabel(\"Happiness Score\")\n",
    "plt.ylim(5, 5.6)\n",
    "plt.show()"
   ]
  },
  {
   "cell_type": "markdown",
   "metadata": {
    "id": "b5yd7UXrA_c9"
   },
   "source": [
    "### **Top 10 Happiness Score**"
   ]
  },
  {
   "cell_type": "code",
   "execution_count": null,
   "metadata": {
    "colab": {
     "base_uri": "https://localhost:8080/",
     "height": 639
    },
    "id": "VRzFzCxqA_c9",
    "outputId": "673adc5f-5df4-4a86-8004-fbee67115d66"
   },
   "outputs": [
    {
     "data": {
      "text/plain": [
       "Text(0.5, 0, 'Happiness Score')"
      ]
     },
     "execution_count": 61,
     "metadata": {},
     "output_type": "execute_result"
    },
    {
     "data": {
      "image/png": "[encoded data removed]",
      "text/plain": [
       "<Figure size 1080x720 with 1 Axes>"
      ]
     },
     "metadata": {
      "needs_background": "light"
     },
     "output_type": "display_data"
    }
   ],
   "source": [
    "df_top = df_final.head(10).sort_values('Happiness Score', ascending = True)\n",
    "\n",
    "#px.bar(df_top, x='Country', y='Happiness Score', title = \"Top 10 Countries\")\n",
    "ax = df_top.plot.barh(x='Country', y='Happiness Score', title = \"Top 10 Countries\", xlim=(7,7.7), figsize=(15,10))\n",
    "for bar in ax.patches:\n",
    "     ax.text(bar.get_width()+.01, bar.get_y()+.2, str(round(bar.get_width(), 2)), fontsize=11, color='black')\n",
    "plt.xlabel('Happiness Score')"
   ]
  },
  {
   "cell_type": "markdown",
   "metadata": {
    "id": "TD0TpNN_vXy6"
   },
   "source": [
    "Switzerland  is the one of the best country which has highest happiness score.\n",
    "\n",
    "Why Switzerland is the most happiest country?\n",
    "Switzerland is famous for its natural beauty with the Swiss Alps, Lake Geneva, the Eiger and the Matterhorn.\n",
    "\n",
    "Considering the report's suggestion in 2020 that there's a direct link between green spaces and happiness, it makes a lot of sense to see this beautiful nation at number one till 2020."
   ]
  },
  {
   "cell_type": "markdown",
   "metadata": {
    "id": "zxXNlNTjaFsn"
   },
   "source": [
    "\n",
    "\n",
    "---\n",
    "\n",
    "\n",
    "\n",
    "---\n",
    "\n",
    "\n",
    "\n",
    "\n",
    "# **Part 2: What factors contribute to happiness score?**"
   ]
  },
  {
   "cell_type": "markdown",
   "metadata": {
    "id": "MBa2YVaWg1-T"
   },
   "source": [
    "##  **Data Description**\n",
    "\n",
    "\n",
    "\n",
    "\n",
    "\n",
    "\n",
    "\n",
    "\n"
   ]
  },
  {
   "cell_type": "markdown",
   "metadata": {
    "id": "VVotchCcXPJ0"
   },
   "source": [
    "From part 1, we know that happiness has increase from 2015 and 2020. In this section we will be exploring datasets from different sources to see which factors has impact on the *'Happiness Score'* in 2020\n",
    "\n",
    "In this part, we will use 4 different data sources to analyse whether, population, alcohol consumption, fertility level will influnecne people's ahappniess.\n",
    "\n",
    "\n",
    "**Main dataset:**\n",
    "\n",
    "•\tWorld happiness dataset 2020\n",
    "\n",
    "**Supplement dataset :**\n",
    "\n",
    "•\tWorld population dataset 2020\n",
    "\n",
    "•\tWorld alcohol consumption dataset 2020\n",
    "\n",
    "•\tWorld fertility dataset 2020\n",
    "\n",
    "\n"
   ]
  },
  {
   "cell_type": "markdown",
   "metadata": {
    "id": "Gq-LRH4lXATq"
   },
   "source": [
    "\n",
    "### ***Main Dataset:***\n",
    "\n",
    "   \n",
    "\n",
    "*  **df_happiness_2020** - Hppiness score for 153 countries along with factors  used to explain the score\n"
   ]
  },
  {
   "cell_type": "markdown",
   "metadata": {
    "id": "l9P51Jc3zG1I"
   },
   "source": [
    "The purpose of the *World Hapiness Report* is to review the science of measuring and understanding subjective well-being, and to use survey measures of life satisfaction to track the quality of lives as they are lived in more than 100 countries. \n",
    "\n",
    "Each *World Happiness Report* focuses on a different theme, and we will be exploring the *World Happiness Report 2020*, which focuses on social, urban and natural environments combine to affect our hapiness."
   ]
  },
  {
   "cell_type": "markdown",
   "metadata": {
    "id": "jsTYLeKGnANA"
   },
   "source": [
    " **Variable Name & Description of Indicator:** \n",
    "1. Country name : We show the names of the countries.\n",
    "2. Regional : Shows which region the country is in.\n",
    "3. Standard error of Happiness score : Showing the error rate in the ladder score.\n",
    "4. upperwhisker : upper limit of score.\n",
    "5. lowerwhisker : lowe limti of score.\n",
    "6. Logged GDP per capita : is the total monetary or market value of all the finished goods and services produced within a country's borders in a specific time period.\n",
    "7. Social support : social support scores of countries.\n",
    "8. Healthy life expectancy : healthy life expectancy of countries.\n",
    "9. Freedom to make life choices : the freedom of people in that country to choose life.\n",
    "10. Generosity : Generosity rate of the country.\n",
    "11. Perceptions of corruption : corruption perceptions in the country..\n",
    "12. Ladder score in Dystopia : Ladder score in Dystopia of the coutry (Dystopia: alternatively cacotopia or simply anti-utopia) is a community or society that is undesirable or frightening) .\n",
    "13. Explained by: Log GDP per capita : Explained Log GDP per capita ratio.\n",
    "14. Explained by: Social support : Explained social support rate.\n",
    "15. Explained by: Healthy life expectancy : Explained Healthy life expectancy\n",
    "16. Explained by: Freedom to make life choices : Explained Freedom to make life choices\n",
    "17. Explained by: Generosity : Explained Generosity\n",
    "18. Explained by: Perceptions of corruption : Explained Perceptions of corruption.\n",
    "19. Dystopia + residual : Dystopia + residual total rate."
   ]
  },
  {
   "cell_type": "code",
   "execution_count": null,
   "metadata": {
    "colab": {
     "base_uri": "https://localhost:8080/",
     "height": 943
    },
    "id": "JD0MIhhTnANC",
    "outputId": "a1b71040-73dc-4258-e18d-d822efb75240"
   },
   "outputs": [
    {
     "name": "stdout",
     "output_type": "stream",
     "text": [
      "<class 'pandas.core.frame.DataFrame'>\n",
      "RangeIndex: 153 entries, 0 to 152\n",
      "Data columns (total 20 columns):\n",
      " #   Column                                      Non-Null Count  Dtype  \n",
      "---  ------                                      --------------  -----  \n",
      " 0   Country name                                153 non-null    object \n",
      " 1   Regional indicator                          153 non-null    object \n",
      " 2   Ladder score                                153 non-null    float64\n",
      " 3   Standard error of ladder score              153 non-null    float64\n",
      " 4   upperwhisker                                153 non-null    float64\n",
      " 5   lowerwhisker                                153 non-null    float64\n",
      " 6   Logged GDP per capita                       153 non-null    float64\n",
      " 7   Social support                              153 non-null    float64\n",
      " 8   Healthy life expectancy                     153 non-null    float64\n",
      " 9   Freedom to make life choices                153 non-null    float64\n",
      " 10  Generosity                                  153 non-null    float64\n",
      " 11  Perceptions of corruption                   153 non-null    float64\n",
      " 12  Ladder score in Dystopia                    153 non-null    float64\n",
      " 13  Explained by: Log GDP per capita            153 non-null    float64\n",
      " 14  Explained by: Social support                153 non-null    float64\n",
      " 15  Explained by: Healthy life expectancy       153 non-null    float64\n",
      " 16  Explained by: Freedom to make life choices  153 non-null    float64\n",
      " 17  Explained by: Generosity                    153 non-null    float64\n",
      " 18  Explained by: Perceptions of corruption     153 non-null    float64\n",
      " 19  Dystopia + residual                         153 non-null    float64\n",
      "dtypes: float64(18), object(2)\n",
      "memory usage: 24.0+ KB\n"
     ]
    },
    {
     "data": {
      "text/html": [
       "<div>\n",
       "<style scoped>\n",
       "    .dataframe tbody tr th:only-of-type {\n",
       "        vertical-align: middle;\n",
       "    }\n",
       "\n",
       "    .dataframe tbody tr th {\n",
       "        vertical-align: top;\n",
       "    }\n",
       "\n",
       "    .dataframe thead th {\n",
       "        text-align: right;\n",
       "    }\n",
       "</style>\n",
       "<table border=\"1\" class=\"dataframe\">\n",
       "  <thead>\n",
       "    <tr style=\"text-align: right;\">\n",
       "      <th></th>\n",
       "      <th>Country name</th>\n",
       "      <th>Regional indicator</th>\n",
       "      <th>Ladder score</th>\n",
       "      <th>Standard error of ladder score</th>\n",
       "      <th>upperwhisker</th>\n",
       "      <th>lowerwhisker</th>\n",
       "      <th>Logged GDP per capita</th>\n",
       "      <th>Social support</th>\n",
       "      <th>Healthy life expectancy</th>\n",
       "      <th>Freedom to make life choices</th>\n",
       "      <th>Generosity</th>\n",
       "      <th>Perceptions of corruption</th>\n",
       "      <th>Ladder score in Dystopia</th>\n",
       "      <th>Explained by: Log GDP per capita</th>\n",
       "      <th>Explained by: Social support</th>\n",
       "      <th>Explained by: Healthy life expectancy</th>\n",
       "      <th>Explained by: Freedom to make life choices</th>\n",
       "      <th>Explained by: Generosity</th>\n",
       "      <th>Explained by: Perceptions of corruption</th>\n",
       "      <th>Dystopia + residual</th>\n",
       "    </tr>\n",
       "  </thead>\n",
       "  <tbody>\n",
       "    <tr>\n",
       "      <th>0</th>\n",
       "      <td>Finland</td>\n",
       "      <td>Western Europe</td>\n",
       "      <td>7.8087</td>\n",
       "      <td>0.031156</td>\n",
       "      <td>7.869766</td>\n",
       "      <td>7.747634</td>\n",
       "      <td>10.639267</td>\n",
       "      <td>0.954330</td>\n",
       "      <td>71.900825</td>\n",
       "      <td>0.949172</td>\n",
       "      <td>-0.059482</td>\n",
       "      <td>0.195445</td>\n",
       "      <td>1.972317</td>\n",
       "      <td>1.285190</td>\n",
       "      <td>1.499526</td>\n",
       "      <td>0.961271</td>\n",
       "      <td>0.662317</td>\n",
       "      <td>0.159670</td>\n",
       "      <td>0.477857</td>\n",
       "      <td>2.762835</td>\n",
       "    </tr>\n",
       "    <tr>\n",
       "      <th>1</th>\n",
       "      <td>Denmark</td>\n",
       "      <td>Western Europe</td>\n",
       "      <td>7.6456</td>\n",
       "      <td>0.033492</td>\n",
       "      <td>7.711245</td>\n",
       "      <td>7.579955</td>\n",
       "      <td>10.774001</td>\n",
       "      <td>0.955991</td>\n",
       "      <td>72.402504</td>\n",
       "      <td>0.951444</td>\n",
       "      <td>0.066202</td>\n",
       "      <td>0.168489</td>\n",
       "      <td>1.972317</td>\n",
       "      <td>1.326949</td>\n",
       "      <td>1.503449</td>\n",
       "      <td>0.979333</td>\n",
       "      <td>0.665040</td>\n",
       "      <td>0.242793</td>\n",
       "      <td>0.495260</td>\n",
       "      <td>2.432741</td>\n",
       "    </tr>\n",
       "    <tr>\n",
       "      <th>2</th>\n",
       "      <td>Switzerland</td>\n",
       "      <td>Western Europe</td>\n",
       "      <td>7.5599</td>\n",
       "      <td>0.035014</td>\n",
       "      <td>7.628528</td>\n",
       "      <td>7.491272</td>\n",
       "      <td>10.979933</td>\n",
       "      <td>0.942847</td>\n",
       "      <td>74.102448</td>\n",
       "      <td>0.921337</td>\n",
       "      <td>0.105911</td>\n",
       "      <td>0.303728</td>\n",
       "      <td>1.972317</td>\n",
       "      <td>1.390774</td>\n",
       "      <td>1.472403</td>\n",
       "      <td>1.040533</td>\n",
       "      <td>0.628954</td>\n",
       "      <td>0.269056</td>\n",
       "      <td>0.407946</td>\n",
       "      <td>2.350267</td>\n",
       "    </tr>\n",
       "    <tr>\n",
       "      <th>3</th>\n",
       "      <td>Iceland</td>\n",
       "      <td>Western Europe</td>\n",
       "      <td>7.5045</td>\n",
       "      <td>0.059616</td>\n",
       "      <td>7.621347</td>\n",
       "      <td>7.387653</td>\n",
       "      <td>10.772559</td>\n",
       "      <td>0.974670</td>\n",
       "      <td>73.000000</td>\n",
       "      <td>0.948892</td>\n",
       "      <td>0.246944</td>\n",
       "      <td>0.711710</td>\n",
       "      <td>1.972317</td>\n",
       "      <td>1.326502</td>\n",
       "      <td>1.547567</td>\n",
       "      <td>1.000843</td>\n",
       "      <td>0.661981</td>\n",
       "      <td>0.362330</td>\n",
       "      <td>0.144541</td>\n",
       "      <td>2.460688</td>\n",
       "    </tr>\n",
       "    <tr>\n",
       "      <th>4</th>\n",
       "      <td>Norway</td>\n",
       "      <td>Western Europe</td>\n",
       "      <td>7.4880</td>\n",
       "      <td>0.034837</td>\n",
       "      <td>7.556281</td>\n",
       "      <td>7.419719</td>\n",
       "      <td>11.087804</td>\n",
       "      <td>0.952487</td>\n",
       "      <td>73.200783</td>\n",
       "      <td>0.955750</td>\n",
       "      <td>0.134533</td>\n",
       "      <td>0.263218</td>\n",
       "      <td>1.972317</td>\n",
       "      <td>1.424207</td>\n",
       "      <td>1.495173</td>\n",
       "      <td>1.008072</td>\n",
       "      <td>0.670201</td>\n",
       "      <td>0.287985</td>\n",
       "      <td>0.434101</td>\n",
       "      <td>2.168266</td>\n",
       "    </tr>\n",
       "  </tbody>\n",
       "</table>\n",
       "</div>"
      ],
      "text/plain": [
       "  Country name  ... Dystopia + residual\n",
       "0      Finland  ...            2.762835\n",
       "1      Denmark  ...            2.432741\n",
       "2  Switzerland  ...            2.350267\n",
       "3      Iceland  ...            2.460688\n",
       "4       Norway  ...            2.168266\n",
       "\n",
       "[5 rows x 20 columns]"
      ]
     },
     "metadata": {},
     "output_type": "display_data"
    },
    {
     "data": {
      "text/plain": [
       "None"
      ]
     },
     "metadata": {},
     "output_type": "display_data"
    },
    {
     "name": "stdout",
     "output_type": "stream",
     "text": [
      "\n",
      " ['Country name', 'Regional indicator', 'Ladder score', 'Standard error of ladder score', 'upperwhisker', 'lowerwhisker', 'Logged GDP per capita', 'Social support', 'Healthy life expectancy', 'Freedom to make life choices', 'Generosity', 'Perceptions of corruption', 'Ladder score in Dystopia', 'Explained by: Log GDP per capita', 'Explained by: Social support', 'Explained by: Healthy life expectancy', 'Explained by: Freedom to make life choices', 'Explained by: Generosity', 'Explained by: Perceptions of corruption', 'Dystopia + residual']\n"
     ]
    }
   ],
   "source": [
    "df_happiness_2020 = pd.read_csv(path+'2020.csv')\n",
    "display(df_happiness_2020.head(),df_happiness_2020.info())\n",
    "print('\\n', list(df_happiness_2020))"
   ]
  },
  {
   "cell_type": "code",
   "execution_count": null,
   "metadata": {
    "colab": {
     "base_uri": "https://localhost:8080/",
     "height": 938
    },
    "id": "Z46vYO4lBLWt",
    "outputId": "00554194-1b51-4a52-fce5-7226a27d396f"
   },
   "outputs": [
    {
     "data": {
      "text/plain": [
       "<matplotlib.axes._subplots.AxesSubplot at 0x7f1e96d50250>"
      ]
     },
     "execution_count": 63,
     "metadata": {},
     "output_type": "execute_result"
    },
    {
     "data": {
      "image/png": "[encoded data removed]",
      "text/plain": [
       "<Figure size 2160x1080 with 1 Axes>"
      ]
     },
     "metadata": {
      "needs_background": "light"
     },
     "output_type": "display_data"
    }
   ],
   "source": [
    "df_happiness_2020.boxplot(figsize=(30,15),rot=45)\n"
   ]
  },
  {
   "cell_type": "markdown",
   "metadata": {
    "id": "aKXJcc6__7q8"
   },
   "source": [
    "We can see that the *df_happiness_2020* contains the Happiness Score for 153 countries along with different factors used to explain the score. The Happiness Score is a national average of the responses to the main life evaluation question asked in the Gallup World Poll (GWP), which uses the Cantril Ladder.\n",
    "\n",
    "To check the outliers in giiven dataset plotted the boxplot of all the columns but there is no outliers in the dataset\n",
    "\n",
    "From this we can see the boxes and whiskers size are different for all columns\n",
    "\n",
    "So, dispersion is different between the different columns\n",
    "\n",
    "\n",
    "\n"
   ]
  },
  {
   "cell_type": "markdown",
   "metadata": {
    "id": "2EF0PxsCnAM1"
   },
   "source": [
    "### ***Supplemental Datasets:***\n",
    "\n",
    "Along with the *World happniess Report 2020*, we will explore and do exploratory data analysis along with 3 other suppliment datasets from Kaggle that may contribute to a nation's happiness.\n",
    "\n",
    "Supplemental datasets\\:\n",
    "\n",
    "*  **df_population_2020.csv** - 235 countries' population along with 11 different features in each country\n",
    "*  **df_alcohol_2020.csv** - alcohol consumption information for 213 countries along with suicde rate and unemployment rate\n",
    "*  **df_fertility_2020.csv** - the number of children that would be born to a woman over her lifetime for 201 countries"
   ]
  },
  {
   "cell_type": "markdown",
   "metadata": {
    "id": "nEurVUbLnANJ"
   },
   "source": [
    "#### **1.   World Population 2020**\n",
    "\n",
    "\n"
   ]
  },
  {
   "cell_type": "markdown",
   "metadata": {
    "id": "af8sAKKOBYdf"
   },
   "source": [
    "\n",
    "**Variable Name & Description of Indicator:** \n",
    "\n",
    "1. Country or Dependency : Unique Identifier\n",
    "2. Population (2020) : Population of different countries\n",
    "3. Yearly Change : Population change by yearly\n",
    "4. Net Change : Net change of the population\n",
    "5. Density (P/Km²) : Density of the population\n",
    "6. Land Area (Km²) : Land area in terms of kilometer square\n",
    "7. Migrants (net) : Migrants of the countries\n",
    "8. Fert. Rate : Fertility or the growth rate of individual countries\n",
    "9. Med. Age : Median age (Middle Age or the average age) lifespan of the country\n",
    "10. Urban Pop % : Urban population\n",
    "11. World Share : Population share in the world"
   ]
  },
  {
   "cell_type": "code",
   "execution_count": null,
   "metadata": {
    "colab": {
     "base_uri": "https://localhost:8080/",
     "height": 869
    },
    "id": "xaMyM1YPnANK",
    "outputId": "1376e4ad-9804-46b3-ee0d-af4003236bb5"
   },
   "outputs": [
    {
     "name": "stdout",
     "output_type": "stream",
     "text": [
      "<class 'pandas.core.frame.DataFrame'>\n",
      "RangeIndex: 235 entries, 0 to 234\n",
      "Data columns (total 11 columns):\n",
      " #   Column                   Non-Null Count  Dtype  \n",
      "---  ------                   --------------  -----  \n",
      " 0   Country (or dependency)  235 non-null    object \n",
      " 1   Population (2020)        235 non-null    int64  \n",
      " 2   Yearly Change            235 non-null    object \n",
      " 3   Net Change               235 non-null    int64  \n",
      " 4   Density (P/Km²)          235 non-null    int64  \n",
      " 5   Land Area (Km²)          235 non-null    int64  \n",
      " 6   Migrants (net)           201 non-null    float64\n",
      " 7   Fert. Rate               235 non-null    object \n",
      " 8   Med. Age                 235 non-null    object \n",
      " 9   Urban Pop %              235 non-null    object \n",
      " 10  World Share              235 non-null    object \n",
      "dtypes: float64(1), int64(4), object(6)\n",
      "memory usage: 20.3+ KB\n"
     ]
    },
    {
     "data": {
      "text/html": [
       "<div>\n",
       "<style scoped>\n",
       "    .dataframe tbody tr th:only-of-type {\n",
       "        vertical-align: middle;\n",
       "    }\n",
       "\n",
       "    .dataframe tbody tr th {\n",
       "        vertical-align: top;\n",
       "    }\n",
       "\n",
       "    .dataframe thead th {\n",
       "        text-align: right;\n",
       "    }\n",
       "</style>\n",
       "<table border=\"1\" class=\"dataframe\">\n",
       "  <thead>\n",
       "    <tr style=\"text-align: right;\">\n",
       "      <th></th>\n",
       "      <th>Country (or dependency)</th>\n",
       "      <th>Population (2020)</th>\n",
       "      <th>Yearly Change</th>\n",
       "      <th>Net Change</th>\n",
       "      <th>Density (P/Km²)</th>\n",
       "      <th>Land Area (Km²)</th>\n",
       "      <th>Migrants (net)</th>\n",
       "      <th>Fert. Rate</th>\n",
       "      <th>Med. Age</th>\n",
       "      <th>Urban Pop %</th>\n",
       "      <th>World Share</th>\n",
       "    </tr>\n",
       "  </thead>\n",
       "  <tbody>\n",
       "    <tr>\n",
       "      <th>0</th>\n",
       "      <td>China</td>\n",
       "      <td>1440297825</td>\n",
       "      <td>0.39 %</td>\n",
       "      <td>5540090</td>\n",
       "      <td>153</td>\n",
       "      <td>9388211</td>\n",
       "      <td>-348399.0</td>\n",
       "      <td>1.7</td>\n",
       "      <td>38</td>\n",
       "      <td>61 %</td>\n",
       "      <td>18.47 %</td>\n",
       "    </tr>\n",
       "    <tr>\n",
       "      <th>1</th>\n",
       "      <td>India</td>\n",
       "      <td>1382345085</td>\n",
       "      <td>0.99 %</td>\n",
       "      <td>13586631</td>\n",
       "      <td>464</td>\n",
       "      <td>2973190</td>\n",
       "      <td>-532687.0</td>\n",
       "      <td>2.2</td>\n",
       "      <td>28</td>\n",
       "      <td>35 %</td>\n",
       "      <td>17.70 %</td>\n",
       "    </tr>\n",
       "    <tr>\n",
       "      <th>2</th>\n",
       "      <td>United States</td>\n",
       "      <td>331341050</td>\n",
       "      <td>0.59 %</td>\n",
       "      <td>1937734</td>\n",
       "      <td>36</td>\n",
       "      <td>9147420</td>\n",
       "      <td>954806.0</td>\n",
       "      <td>1.8</td>\n",
       "      <td>38</td>\n",
       "      <td>83 %</td>\n",
       "      <td>4.25 %</td>\n",
       "    </tr>\n",
       "    <tr>\n",
       "      <th>3</th>\n",
       "      <td>Indonesia</td>\n",
       "      <td>274021604</td>\n",
       "      <td>1.07 %</td>\n",
       "      <td>2898047</td>\n",
       "      <td>151</td>\n",
       "      <td>1811570</td>\n",
       "      <td>-98955.0</td>\n",
       "      <td>2.3</td>\n",
       "      <td>30</td>\n",
       "      <td>56 %</td>\n",
       "      <td>3.51 %</td>\n",
       "    </tr>\n",
       "    <tr>\n",
       "      <th>4</th>\n",
       "      <td>Pakistan</td>\n",
       "      <td>221612785</td>\n",
       "      <td>2.00 %</td>\n",
       "      <td>4327022</td>\n",
       "      <td>287</td>\n",
       "      <td>770880</td>\n",
       "      <td>-233379.0</td>\n",
       "      <td>3.6</td>\n",
       "      <td>23</td>\n",
       "      <td>35 %</td>\n",
       "      <td>2.83 %</td>\n",
       "    </tr>\n",
       "  </tbody>\n",
       "</table>\n",
       "</div>"
      ],
      "text/plain": [
       "  Country (or dependency)  Population (2020)  ... Urban Pop %  World Share\n",
       "0                   China         1440297825  ...        61 %      18.47 %\n",
       "1                   India         1382345085  ...        35 %      17.70 %\n",
       "2           United States          331341050  ...        83 %       4.25 %\n",
       "3               Indonesia          274021604  ...        56 %       3.51 %\n",
       "4                Pakistan          221612785  ...        35 %       2.83 %\n",
       "\n",
       "[5 rows x 11 columns]"
      ]
     },
     "metadata": {},
     "output_type": "display_data"
    },
    {
     "data": {
      "text/plain": [
       "None"
      ]
     },
     "metadata": {},
     "output_type": "display_data"
    },
    {
     "data": {
      "text/html": [
       "<div>\n",
       "<style scoped>\n",
       "    .dataframe tbody tr th:only-of-type {\n",
       "        vertical-align: middle;\n",
       "    }\n",
       "\n",
       "    .dataframe tbody tr th {\n",
       "        vertical-align: top;\n",
       "    }\n",
       "\n",
       "    .dataframe thead th {\n",
       "        text-align: right;\n",
       "    }\n",
       "</style>\n",
       "<table border=\"1\" class=\"dataframe\">\n",
       "  <thead>\n",
       "    <tr style=\"text-align: right;\">\n",
       "      <th></th>\n",
       "      <th>Population (2020)</th>\n",
       "      <th>Net Change</th>\n",
       "      <th>Density (P/Km²)</th>\n",
       "      <th>Land Area (Km²)</th>\n",
       "      <th>Migrants (net)</th>\n",
       "    </tr>\n",
       "  </thead>\n",
       "  <tbody>\n",
       "    <tr>\n",
       "      <th>count</th>\n",
       "      <td>2.350000e+02</td>\n",
       "      <td>2.350000e+02</td>\n",
       "      <td>235.000000</td>\n",
       "      <td>2.350000e+02</td>\n",
       "      <td>201.000000</td>\n",
       "    </tr>\n",
       "    <tr>\n",
       "      <th>mean</th>\n",
       "      <td>3.322744e+07</td>\n",
       "      <td>3.460878e+05</td>\n",
       "      <td>475.770213</td>\n",
       "      <td>5.535918e+05</td>\n",
       "      <td>6.283582</td>\n",
       "    </tr>\n",
       "    <tr>\n",
       "      <th>std</th>\n",
       "      <td>1.353034e+08</td>\n",
       "      <td>1.128260e+06</td>\n",
       "      <td>2331.285935</td>\n",
       "      <td>1.687796e+06</td>\n",
       "      <td>123291.887548</td>\n",
       "    </tr>\n",
       "    <tr>\n",
       "      <th>min</th>\n",
       "      <td>8.010000e+02</td>\n",
       "      <td>-3.838400e+05</td>\n",
       "      <td>0.000000</td>\n",
       "      <td>0.000000e+00</td>\n",
       "      <td>-653249.000000</td>\n",
       "    </tr>\n",
       "    <tr>\n",
       "      <th>25%</th>\n",
       "      <td>3.994905e+05</td>\n",
       "      <td>4.240000e+02</td>\n",
       "      <td>37.000000</td>\n",
       "      <td>2.545000e+03</td>\n",
       "      <td>-10047.000000</td>\n",
       "    </tr>\n",
       "    <tr>\n",
       "      <th>50%</th>\n",
       "      <td>5.460109e+06</td>\n",
       "      <td>3.917000e+04</td>\n",
       "      <td>95.000000</td>\n",
       "      <td>7.724000e+04</td>\n",
       "      <td>-852.000000</td>\n",
       "    </tr>\n",
       "    <tr>\n",
       "      <th>75%</th>\n",
       "      <td>2.067170e+07</td>\n",
       "      <td>2.496600e+05</td>\n",
       "      <td>239.500000</td>\n",
       "      <td>4.038200e+05</td>\n",
       "      <td>9741.000000</td>\n",
       "    </tr>\n",
       "    <tr>\n",
       "      <th>max</th>\n",
       "      <td>1.440298e+09</td>\n",
       "      <td>1.358663e+07</td>\n",
       "      <td>26337.000000</td>\n",
       "      <td>1.637687e+07</td>\n",
       "      <td>954806.000000</td>\n",
       "    </tr>\n",
       "  </tbody>\n",
       "</table>\n",
       "</div>"
      ],
      "text/plain": [
       "       Population (2020)    Net Change  ...  Land Area (Km²)  Migrants (net)\n",
       "count       2.350000e+02  2.350000e+02  ...     2.350000e+02      201.000000\n",
       "mean        3.322744e+07  3.460878e+05  ...     5.535918e+05        6.283582\n",
       "std         1.353034e+08  1.128260e+06  ...     1.687796e+06   123291.887548\n",
       "min         8.010000e+02 -3.838400e+05  ...     0.000000e+00  -653249.000000\n",
       "25%         3.994905e+05  4.240000e+02  ...     2.545000e+03   -10047.000000\n",
       "50%         5.460109e+06  3.917000e+04  ...     7.724000e+04     -852.000000\n",
       "75%         2.067170e+07  2.496600e+05  ...     4.038200e+05     9741.000000\n",
       "max         1.440298e+09  1.358663e+07  ...     1.637687e+07   954806.000000\n",
       "\n",
       "[8 rows x 5 columns]"
      ]
     },
     "metadata": {},
     "output_type": "display_data"
    },
    {
     "name": "stdout",
     "output_type": "stream",
     "text": [
      "\n",
      " ['Country (or dependency)', 'Population (2020)', 'Yearly Change', 'Net Change', 'Density (P/Km²)', 'Land Area (Km²)', 'Migrants (net)', 'Fert. Rate', 'Med. Age', 'Urban Pop %', 'World Share']\n"
     ]
    }
   ],
   "source": [
    "df_population_2020 = pd.read_csv(path+'population_by_country_2020.csv')\n",
    "display(df_population_2020.head(),df_population_2020.info(),df_population_2020.describe())\n",
    "print('\\n', list(df_population_2020))"
   ]
  },
  {
   "cell_type": "code",
   "execution_count": null,
   "metadata": {
    "colab": {
     "base_uri": "https://localhost:8080/"
    },
    "id": "DWbEpt8knANN",
    "outputId": "62828971-0010-48e7-c159-3fc617a1f490"
   },
   "outputs": [
    {
     "data": {
      "text/plain": [
       "Country (or dependency)     0\n",
       "Population (2020)           0\n",
       "Yearly Change               0\n",
       "Net Change                  0\n",
       "Density (P/Km²)             0\n",
       "Land Area (Km²)             0\n",
       "Migrants (net)             34\n",
       "Fert. Rate                  0\n",
       "Med. Age                    0\n",
       "Urban Pop %                 0\n",
       "World Share                 0\n",
       "dtype: int64"
      ]
     },
     "execution_count": 65,
     "metadata": {},
     "output_type": "execute_result"
    }
   ],
   "source": [
    "# numbers of missing values in each column\n",
    "df_population_2020.isnull().sum()"
   ]
  },
  {
   "cell_type": "code",
   "execution_count": null,
   "metadata": {
    "colab": {
     "base_uri": "https://localhost:8080/"
    },
    "id": "SEosVwWInANN",
    "outputId": "2fda0100-ef7c-4bb8-a1f5-ca0ca0ea4f64"
   },
   "outputs": [
    {
     "data": {
      "text/plain": [
       "Country (or dependency)    0\n",
       "Population (2020)          0\n",
       "Yearly Change              0\n",
       "Net Change                 0\n",
       "Density (P/Km²)            0\n",
       "Land Area (Km²)            0\n",
       "Migrants (net)             0\n",
       "Fert. Rate                 0\n",
       "Med. Age                   0\n",
       "Urban Pop %                0\n",
       "World Share                0\n",
       "dtype: int64"
      ]
     },
     "execution_count": 66,
     "metadata": {},
     "output_type": "execute_result"
    }
   ],
   "source": [
    "df_population_2020['Migrants (net)']=df_population_2020['Migrants (net)'].fillna(0)\n",
    "df_population_2020.isnull().sum()"
   ]
  },
  {
   "cell_type": "code",
   "execution_count": null,
   "metadata": {
    "colab": {
     "base_uri": "https://localhost:8080/",
     "height": 625
    },
    "id": "eegIlNDsnANO",
    "outputId": "4a46d41c-1cfd-4a1c-9384-ec1c5e495b3d"
   },
   "outputs": [
    {
     "data": {
      "text/plain": [
       "<matplotlib.axes._subplots.AxesSubplot at 0x7f1e98207650>"
      ]
     },
     "execution_count": 67,
     "metadata": {},
     "output_type": "execute_result"
    },
    {
     "data": {
      "image/png": "[encoded data removed]",
      "text/plain": [
       "<Figure size 1080x720 with 1 Axes>"
      ]
     },
     "metadata": {
      "needs_background": "light"
     },
     "output_type": "display_data"
    }
   ],
   "source": [
    "df_population_2020.plot.box(title='Box plot of population dataset', figsize = (15,10))"
   ]
  },
  {
   "cell_type": "code",
   "execution_count": null,
   "metadata": {
    "colab": {
     "base_uri": "https://localhost:8080/",
     "height": 349
    },
    "id": "05hCTUO9nANP",
    "outputId": "5b3f07cf-b0ba-4d2c-da49-50fe136a70bd"
   },
   "outputs": [
    {
     "data": {
      "text/plain": [
       "<matplotlib.axes._subplots.AxesSubplot at 0x7f1e983d5f50>"
      ]
     },
     "execution_count": 68,
     "metadata": {},
     "output_type": "execute_result"
    },
    {
     "data": {
      "image/png": "[encoded data removed]",
      "text/plain": [
       "<Figure size 720x360 with 1 Axes>"
      ]
     },
     "metadata": {
      "needs_background": "light"
     },
     "output_type": "display_data"
    }
   ],
   "source": [
    "df_population_2020['Population (2020)'].plot.box(figsize=(10,5))"
   ]
  },
  {
   "cell_type": "markdown",
   "metadata": {
    "id": "NPMxQ5J8PXz2"
   },
   "source": [
    "**Outlier handling:** \n",
    "We observed a few outliers for the population of different countries. We are not going to delete these outliers as these outliers represent the population of countries with very large population which ,in fact, could be China and India.\n",
    "There are outliers for columns 'Net Change' and 'Land Area' which also represent actual data for countries. so, we decided not to delete these outliers."
   ]
  },
  {
   "cell_type": "markdown",
   "metadata": {
    "id": "m_wnHL4RnANQ"
   },
   "source": [
    "#### **2.   World Alcohol Consumption 2020**\n",
    "\n",
    "\n",
    "\n",
    "\n",
    "\n",
    "\n"
   ]
  },
  {
   "cell_type": "markdown",
   "metadata": {
    "id": "GCQ0YSHYnANQ"
   },
   "source": [
    "**Variable Name & Description of Indicator\\:**\n",
    "1. country: Unique Identifier\n",
    "2. incomeperperson: Gross Domestic Product per capita in constant 2000 US\\\\$. The inflation but not the differences in the cost of living between countries has been taken into account.\n",
    "3. alcconsumption: Alcohol consumption per adult (age 15+), litres Recorded and estimated average alcohol consumption, adult (15+) per capita consumption in litres pure alcohol.\n",
    "4. suicideper100TH: Suicide, age adjusted, per 100 000 Mortality due to self-inflicted injury, per 100 000 standard population, age adjusted\n",
    "5. employrate: Total employees age 15+ (\\% of population) Percentage of total population, age above 15, that has been employed during the given year.\n",
    "6. urbanrate: Urban population (\\% of total) Urban population refers to people living in urban areas as defined by national statistical offices (calculated using World Bank population estimates and urban ratios from the United Nations World Urbanization Prospects)"
   ]
  },
  {
   "cell_type": "code",
   "execution_count": null,
   "metadata": {
    "colab": {
     "base_uri": "https://localhost:8080/"
    },
    "id": "GKrMVJyEnANQ",
    "outputId": "0cf8a49a-e360-44fd-b992-f3c0cdf41d29"
   },
   "outputs": [
    {
     "name": "stdout",
     "output_type": "stream",
     "text": [
      "<class 'pandas.core.frame.DataFrame'>\n",
      "RangeIndex: 213 entries, 0 to 212\n",
      "Data columns (total 6 columns):\n",
      " #   Column           Non-Null Count  Dtype  \n",
      "---  ------           --------------  -----  \n",
      " 0   country          213 non-null    object \n",
      " 1   alcconsumption   187 non-null    float64\n",
      " 2   incomeperperson  190 non-null    float64\n",
      " 3   suicideper100th  191 non-null    float64\n",
      " 4   employrate       178 non-null    float64\n",
      " 5   urbanrate        203 non-null    float64\n",
      "dtypes: float64(5), object(1)\n",
      "memory usage: 10.1+ KB\n"
     ]
    },
    {
     "data": {
      "text/html": [
       "<div>\n",
       "<style scoped>\n",
       "    .dataframe tbody tr th:only-of-type {\n",
       "        vertical-align: middle;\n",
       "    }\n",
       "\n",
       "    .dataframe tbody tr th {\n",
       "        vertical-align: top;\n",
       "    }\n",
       "\n",
       "    .dataframe thead th {\n",
       "        text-align: right;\n",
       "    }\n",
       "</style>\n",
       "<table border=\"1\" class=\"dataframe\">\n",
       "  <thead>\n",
       "    <tr style=\"text-align: right;\">\n",
       "      <th></th>\n",
       "      <th>country</th>\n",
       "      <th>alcconsumption</th>\n",
       "      <th>incomeperperson</th>\n",
       "      <th>suicideper100th</th>\n",
       "      <th>employrate</th>\n",
       "      <th>urbanrate</th>\n",
       "    </tr>\n",
       "  </thead>\n",
       "  <tbody>\n",
       "    <tr>\n",
       "      <th>0</th>\n",
       "      <td>Afghanistan</td>\n",
       "      <td>0.03</td>\n",
       "      <td>NaN</td>\n",
       "      <td>6.684385</td>\n",
       "      <td>55.700001</td>\n",
       "      <td>24.04</td>\n",
       "    </tr>\n",
       "    <tr>\n",
       "      <th>1</th>\n",
       "      <td>Albania</td>\n",
       "      <td>7.29</td>\n",
       "      <td>1914.996551</td>\n",
       "      <td>7.699330</td>\n",
       "      <td>51.400002</td>\n",
       "      <td>46.72</td>\n",
       "    </tr>\n",
       "    <tr>\n",
       "      <th>2</th>\n",
       "      <td>Algeria</td>\n",
       "      <td>0.69</td>\n",
       "      <td>2231.993335</td>\n",
       "      <td>4.848770</td>\n",
       "      <td>50.500000</td>\n",
       "      <td>65.22</td>\n",
       "    </tr>\n",
       "    <tr>\n",
       "      <th>3</th>\n",
       "      <td>Andorra</td>\n",
       "      <td>10.17</td>\n",
       "      <td>21943.339900</td>\n",
       "      <td>5.362179</td>\n",
       "      <td>NaN</td>\n",
       "      <td>88.92</td>\n",
       "    </tr>\n",
       "    <tr>\n",
       "      <th>4</th>\n",
       "      <td>Angola</td>\n",
       "      <td>5.57</td>\n",
       "      <td>1381.004268</td>\n",
       "      <td>14.554677</td>\n",
       "      <td>75.699997</td>\n",
       "      <td>56.70</td>\n",
       "    </tr>\n",
       "  </tbody>\n",
       "</table>\n",
       "</div>"
      ],
      "text/plain": [
       "       country  alcconsumption  ...  employrate  urbanrate\n",
       "0  Afghanistan            0.03  ...   55.700001      24.04\n",
       "1      Albania            7.29  ...   51.400002      46.72\n",
       "2      Algeria            0.69  ...   50.500000      65.22\n",
       "3      Andorra           10.17  ...         NaN      88.92\n",
       "4       Angola            5.57  ...   75.699997      56.70\n",
       "\n",
       "[5 rows x 6 columns]"
      ]
     },
     "metadata": {},
     "output_type": "display_data"
    },
    {
     "data": {
      "text/plain": [
       "None"
      ]
     },
     "metadata": {},
     "output_type": "display_data"
    },
    {
     "data": {
      "text/html": [
       "<div>\n",
       "<style scoped>\n",
       "    .dataframe tbody tr th:only-of-type {\n",
       "        vertical-align: middle;\n",
       "    }\n",
       "\n",
       "    .dataframe tbody tr th {\n",
       "        vertical-align: top;\n",
       "    }\n",
       "\n",
       "    .dataframe thead th {\n",
       "        text-align: right;\n",
       "    }\n",
       "</style>\n",
       "<table border=\"1\" class=\"dataframe\">\n",
       "  <thead>\n",
       "    <tr style=\"text-align: right;\">\n",
       "      <th></th>\n",
       "      <th>alcconsumption</th>\n",
       "      <th>incomeperperson</th>\n",
       "      <th>suicideper100th</th>\n",
       "      <th>employrate</th>\n",
       "      <th>urbanrate</th>\n",
       "    </tr>\n",
       "  </thead>\n",
       "  <tbody>\n",
       "    <tr>\n",
       "      <th>count</th>\n",
       "      <td>187.000000</td>\n",
       "      <td>190.000000</td>\n",
       "      <td>191.000000</td>\n",
       "      <td>178.000000</td>\n",
       "      <td>203.000000</td>\n",
       "    </tr>\n",
       "    <tr>\n",
       "      <th>mean</th>\n",
       "      <td>6.689412</td>\n",
       "      <td>8740.966076</td>\n",
       "      <td>9.640839</td>\n",
       "      <td>58.635955</td>\n",
       "      <td>56.769360</td>\n",
       "    </tr>\n",
       "    <tr>\n",
       "      <th>std</th>\n",
       "      <td>4.899617</td>\n",
       "      <td>14262.809083</td>\n",
       "      <td>6.300178</td>\n",
       "      <td>10.519454</td>\n",
       "      <td>23.844933</td>\n",
       "    </tr>\n",
       "    <tr>\n",
       "      <th>min</th>\n",
       "      <td>0.030000</td>\n",
       "      <td>103.775857</td>\n",
       "      <td>0.201449</td>\n",
       "      <td>32.000000</td>\n",
       "      <td>10.400000</td>\n",
       "    </tr>\n",
       "    <tr>\n",
       "      <th>25%</th>\n",
       "      <td>2.625000</td>\n",
       "      <td>748.245151</td>\n",
       "      <td>4.988449</td>\n",
       "      <td>51.225000</td>\n",
       "      <td>36.830000</td>\n",
       "    </tr>\n",
       "    <tr>\n",
       "      <th>50%</th>\n",
       "      <td>5.920000</td>\n",
       "      <td>2553.496056</td>\n",
       "      <td>8.262893</td>\n",
       "      <td>58.699999</td>\n",
       "      <td>57.940000</td>\n",
       "    </tr>\n",
       "    <tr>\n",
       "      <th>75%</th>\n",
       "      <td>9.925000</td>\n",
       "      <td>9379.891166</td>\n",
       "      <td>12.328551</td>\n",
       "      <td>64.975000</td>\n",
       "      <td>74.210000</td>\n",
       "    </tr>\n",
       "    <tr>\n",
       "      <th>max</th>\n",
       "      <td>23.010000</td>\n",
       "      <td>105147.437700</td>\n",
       "      <td>35.752872</td>\n",
       "      <td>83.199997</td>\n",
       "      <td>100.000000</td>\n",
       "    </tr>\n",
       "  </tbody>\n",
       "</table>\n",
       "</div>"
      ],
      "text/plain": [
       "       alcconsumption  incomeperperson  suicideper100th  employrate   urbanrate\n",
       "count      187.000000       190.000000       191.000000  178.000000  203.000000\n",
       "mean         6.689412      8740.966076         9.640839   58.635955   56.769360\n",
       "std          4.899617     14262.809083         6.300178   10.519454   23.844933\n",
       "min          0.030000       103.775857         0.201449   32.000000   10.400000\n",
       "25%          2.625000       748.245151         4.988449   51.225000   36.830000\n",
       "50%          5.920000      2553.496056         8.262893   58.699999   57.940000\n",
       "75%          9.925000      9379.891166        12.328551   64.975000   74.210000\n",
       "max         23.010000    105147.437700        35.752872   83.199997  100.000000"
      ]
     },
     "metadata": {},
     "output_type": "display_data"
    },
    {
     "name": "stdout",
     "output_type": "stream",
     "text": [
      "\n",
      " ['country', 'alcconsumption', 'incomeperperson', 'suicideper100th', 'employrate', 'urbanrate']\n"
     ]
    }
   ],
   "source": [
    "df_alcohol_2020 = pd.read_csv(path+'alcohol_consumption.csv')\n",
    "display(df_alcohol_2020.head(),df_alcohol_2020.info(),df_alcohol_2020.describe())\n",
    "print('\\n', list(df_alcohol_2020))"
   ]
  },
  {
   "cell_type": "code",
   "execution_count": null,
   "metadata": {
    "colab": {
     "base_uri": "https://localhost:8080/"
    },
    "id": "OsrrwoWanANS",
    "outputId": "bb61cee4-1ab2-4b8a-cf3a-afc00c77fd77"
   },
   "outputs": [
    {
     "data": {
      "text/plain": [
       "country             0\n",
       "urbanrate          10\n",
       "suicideper100th    22\n",
       "incomeperperson    23\n",
       "alcconsumption     26\n",
       "employrate         35\n",
       "dtype: int64"
      ]
     },
     "execution_count": 70,
     "metadata": {},
     "output_type": "execute_result"
    }
   ],
   "source": [
    "# numbers of missing values in each column\n",
    "df_alcohol_2020.isna().sum().sort_values()"
   ]
  },
  {
   "cell_type": "code",
   "execution_count": null,
   "metadata": {
    "colab": {
     "base_uri": "https://localhost:8080/"
    },
    "id": "rUhPJollxPa3",
    "outputId": "09b48c2f-0878-48e3-d7db-57730a2279f0"
   },
   "outputs": [
    {
     "name": "stderr",
     "output_type": "stream",
     "text": [
      "/usr/local/lib/python3.7/dist-packages/numpy/core/_asarray.py:83: VisibleDeprecationWarning:\n",
      "\n",
      "Creating an ndarray from ragged nested sequences (which is a list-or-tuple of lists-or-tuples-or ndarrays with different lengths or shapes) is deprecated. If you meant to do this, you must specify 'dtype=object' when creating the ndarray\n",
      "\n"
     ]
    },
    {
     "data": {
      "text/plain": [
       "<matplotlib.axes._subplots.AxesSubplot at 0x7f1e96cde190>"
      ]
     },
     "execution_count": 71,
     "metadata": {},
     "output_type": "execute_result"
    },
    {
     "data": {
      "image/png": "[encoded data removed]",
      "text/plain": [
       "<Figure size 1080x720 with 1 Axes>"
      ]
     },
     "metadata": {
      "needs_background": "light"
     },
     "output_type": "display_data"
    }
   ],
   "source": [
    "df_alcohol_2020.plot.box(title='Box plot of Alcohol ', figsize = (15,10))"
   ]
  },
  {
   "cell_type": "markdown",
   "metadata": {
    "id": "gUrQfuj1PjFY"
   },
   "source": [
    "From the graph above, we can see that the 'income_per_person' variable has many obvious outliers. In our case, we will be keeping the outliers as we know income varies between different job and industries and they should all be taken into consideration for our analysis."
   ]
  },
  {
   "cell_type": "markdown",
   "metadata": {
    "id": "JHGMcvSunANU"
   },
   "source": [
    "#### **3.   World Fertility 2020**\n",
    "\n",
    "\n"
   ]
  },
  {
   "cell_type": "markdown",
   "metadata": {
    "id": "uZ7PUIqXnANU"
   },
   "source": [
    "**Variable Name & Description of Indicator:**\n",
    "    \n",
    "*Total fertility rate (TFR)* of a population is the average number of children that would be born to a woman over her lifetime if:\n",
    "\n",
    "\n",
    "> She was to experience the exact current age-specific fertility rates (ASFRs) through her lifetime, and\n",
    "She was to survive from childbirth until the end of her reproductive life.\n",
    "\n",
    "\n"
   ]
  },
  {
   "cell_type": "code",
   "execution_count": null,
   "metadata": {
    "colab": {
     "base_uri": "https://localhost:8080/"
    },
    "id": "WdOdOwPmnANU",
    "outputId": "2940a751-0ce6-46e4-b1e7-ce2a9774e7dc"
   },
   "outputs": [
    {
     "name": "stdout",
     "output_type": "stream",
     "text": [
      "<class 'pandas.core.frame.DataFrame'>\n",
      "RangeIndex: 201 entries, 0 to 200\n",
      "Data columns (total 3 columns):\n",
      " #   Column     Non-Null Count  Dtype  \n",
      "---  ------     --------------  -----  \n",
      " 0   Country    201 non-null    object \n",
      " 1   Fertility  201 non-null    float64\n",
      " 2   ISO-code   201 non-null    object \n",
      "dtypes: float64(1), object(2)\n",
      "memory usage: 4.8+ KB\n"
     ]
    },
    {
     "data": {
      "text/html": [
       "<div>\n",
       "<style scoped>\n",
       "    .dataframe tbody tr th:only-of-type {\n",
       "        vertical-align: middle;\n",
       "    }\n",
       "\n",
       "    .dataframe tbody tr th {\n",
       "        vertical-align: top;\n",
       "    }\n",
       "\n",
       "    .dataframe thead th {\n",
       "        text-align: right;\n",
       "    }\n",
       "</style>\n",
       "<table border=\"1\" class=\"dataframe\">\n",
       "  <thead>\n",
       "    <tr style=\"text-align: right;\">\n",
       "      <th></th>\n",
       "      <th>Country</th>\n",
       "      <th>Fertility</th>\n",
       "      <th>ISO-code</th>\n",
       "    </tr>\n",
       "  </thead>\n",
       "  <tbody>\n",
       "    <tr>\n",
       "      <th>0</th>\n",
       "      <td>Afghanistan</td>\n",
       "      <td>4.5</td>\n",
       "      <td>AFG</td>\n",
       "    </tr>\n",
       "    <tr>\n",
       "      <th>1</th>\n",
       "      <td>Albania</td>\n",
       "      <td>1.6</td>\n",
       "      <td>ALB</td>\n",
       "    </tr>\n",
       "    <tr>\n",
       "      <th>2</th>\n",
       "      <td>Algeria</td>\n",
       "      <td>3.0</td>\n",
       "      <td>DZA</td>\n",
       "    </tr>\n",
       "    <tr>\n",
       "      <th>3</th>\n",
       "      <td>Andorra</td>\n",
       "      <td>1.3</td>\n",
       "      <td>AND</td>\n",
       "    </tr>\n",
       "    <tr>\n",
       "      <th>4</th>\n",
       "      <td>Angola</td>\n",
       "      <td>5.5</td>\n",
       "      <td>AGO</td>\n",
       "    </tr>\n",
       "  </tbody>\n",
       "</table>\n",
       "</div>"
      ],
      "text/plain": [
       "       Country  Fertility ISO-code\n",
       "0  Afghanistan        4.5      AFG\n",
       "1      Albania        1.6      ALB\n",
       "2      Algeria        3.0      DZA\n",
       "3      Andorra        1.3      AND\n",
       "4       Angola        5.5      AGO"
      ]
     },
     "metadata": {},
     "output_type": "display_data"
    },
    {
     "data": {
      "text/plain": [
       "None"
      ]
     },
     "metadata": {},
     "output_type": "display_data"
    },
    {
     "data": {
      "text/html": [
       "<div>\n",
       "<style scoped>\n",
       "    .dataframe tbody tr th:only-of-type {\n",
       "        vertical-align: middle;\n",
       "    }\n",
       "\n",
       "    .dataframe tbody tr th {\n",
       "        vertical-align: top;\n",
       "    }\n",
       "\n",
       "    .dataframe thead th {\n",
       "        text-align: right;\n",
       "    }\n",
       "</style>\n",
       "<table border=\"1\" class=\"dataframe\">\n",
       "  <thead>\n",
       "    <tr style=\"text-align: right;\">\n",
       "      <th></th>\n",
       "      <th>Fertility</th>\n",
       "    </tr>\n",
       "  </thead>\n",
       "  <tbody>\n",
       "    <tr>\n",
       "      <th>count</th>\n",
       "      <td>201.000000</td>\n",
       "    </tr>\n",
       "    <tr>\n",
       "      <th>mean</th>\n",
       "      <td>2.650846</td>\n",
       "    </tr>\n",
       "    <tr>\n",
       "      <th>std</th>\n",
       "      <td>1.231034</td>\n",
       "    </tr>\n",
       "    <tr>\n",
       "      <th>min</th>\n",
       "      <td>1.100000</td>\n",
       "    </tr>\n",
       "    <tr>\n",
       "      <th>25%</th>\n",
       "      <td>1.700000</td>\n",
       "    </tr>\n",
       "    <tr>\n",
       "      <th>50%</th>\n",
       "      <td>2.200000</td>\n",
       "    </tr>\n",
       "    <tr>\n",
       "      <th>75%</th>\n",
       "      <td>3.600000</td>\n",
       "    </tr>\n",
       "    <tr>\n",
       "      <th>max</th>\n",
       "      <td>6.100000</td>\n",
       "    </tr>\n",
       "  </tbody>\n",
       "</table>\n",
       "</div>"
      ],
      "text/plain": [
       "        Fertility\n",
       "count  201.000000\n",
       "mean     2.650846\n",
       "std      1.231034\n",
       "min      1.100000\n",
       "25%      1.700000\n",
       "50%      2.200000\n",
       "75%      3.600000\n",
       "max      6.100000"
      ]
     },
     "metadata": {},
     "output_type": "display_data"
    },
    {
     "name": "stdout",
     "output_type": "stream",
     "text": [
      "\n",
      " ['Country', 'Fertility', 'ISO-code']\n"
     ]
    }
   ],
   "source": [
    "df_fertility_2020 = pd.read_csv(path+'Fertility.csv')\n",
    "display(df_fertility_2020.head(),df_fertility_2020.info(),df_fertility_2020.describe())\n",
    "print('\\n', list(df_fertility_2020))"
   ]
  },
  {
   "cell_type": "code",
   "execution_count": null,
   "metadata": {
    "colab": {
     "base_uri": "https://localhost:8080/"
    },
    "id": "BjSE31tInANW",
    "outputId": "47bfc964-5d98-4b06-a66b-a378f0d9655d"
   },
   "outputs": [
    {
     "data": {
      "text/plain": [
       "Country      0\n",
       "Fertility    0\n",
       "ISO-code     0\n",
       "dtype: int64"
      ]
     },
     "execution_count": 73,
     "metadata": {},
     "output_type": "execute_result"
    }
   ],
   "source": [
    "# check missing data\n",
    "df_fertility_2020.isnull().sum()  # no missing data"
   ]
  },
  {
   "cell_type": "markdown",
   "metadata": {
    "id": "Prj1NhiSPnux"
   },
   "source": [
    "This dataset shows the fertility rate of each country over the world in 2020. There is no missing value in this dataset."
   ]
  },
  {
   "cell_type": "markdown",
   "metadata": {
    "id": "_umdc3ACnANW"
   },
   "source": [
    "\n",
    "\n",
    "---\n",
    "\n",
    "\n",
    "\n",
    "\n",
    "\n",
    "## **Data Preperation**\n",
    "\n",
    "\n",
    "\n",
    "\n",
    "Before combining all datasets and analyse, we will look into each datasets, select and rename necessary columns."
   ]
  },
  {
   "cell_type": "markdown",
   "metadata": {
    "id": "NN7bl6CPnANW"
   },
   "source": [
    "### ***World Happiness Report***\n",
    "\n",
    "For all factors, we will only consider the following\\:\n",
    "\n",
    "*Ladder score, Logged GDP per capita, Social support, Healthy life expectancy, freedom to make life choices*."
   ]
  },
  {
   "cell_type": "code",
   "execution_count": null,
   "metadata": {
    "id": "n-ESTXZBnANX"
   },
   "outputs": [],
   "source": [
    "df_happiness_2020_prep = df_happiness_2020.iloc[:,[0,2,6,7,8,9,10]]"
   ]
  },
  {
   "cell_type": "markdown",
   "metadata": {
    "id": "pByyT7wRT5JA"
   },
   "source": [
    "We will be renmaing the selected columns as follow\\:"
   ]
  },
  {
   "cell_type": "code",
   "execution_count": null,
   "metadata": {
    "colab": {
     "base_uri": "https://localhost:8080/",
     "height": 550
    },
    "id": "dzGM6vCCnANX",
    "outputId": "0e0ae6ad-943d-491c-8bc7-80b03e15ad1a"
   },
   "outputs": [
    {
     "name": "stderr",
     "output_type": "stream",
     "text": [
      "/usr/local/lib/python3.7/dist-packages/pandas/core/frame.py:4308: SettingWithCopyWarning:\n",
      "\n",
      "\n",
      "A value is trying to be set on a copy of a slice from a DataFrame\n",
      "\n",
      "See the caveats in the documentation: https://pandas.pydata.org/pandas-docs/stable/user_guide/indexing.html#returning-a-view-versus-a-copy\n",
      "\n"
     ]
    },
    {
     "data": {
      "text/html": [
       "<div>\n",
       "<style scoped>\n",
       "    .dataframe tbody tr th:only-of-type {\n",
       "        vertical-align: middle;\n",
       "    }\n",
       "\n",
       "    .dataframe tbody tr th {\n",
       "        vertical-align: top;\n",
       "    }\n",
       "\n",
       "    .dataframe thead th {\n",
       "        text-align: right;\n",
       "    }\n",
       "</style>\n",
       "<table border=\"1\" class=\"dataframe\">\n",
       "  <thead>\n",
       "    <tr style=\"text-align: right;\">\n",
       "      <th></th>\n",
       "      <th>Country_name</th>\n",
       "      <th>Happniess_score</th>\n",
       "      <th>Logged_GDP_per_capita</th>\n",
       "      <th>Social_support</th>\n",
       "      <th>Healthy_life_expectancy</th>\n",
       "      <th>Freedom_to_make_life_choices</th>\n",
       "      <th>Generosity</th>\n",
       "    </tr>\n",
       "  </thead>\n",
       "  <tbody>\n",
       "    <tr>\n",
       "      <th>0</th>\n",
       "      <td>Finland</td>\n",
       "      <td>7.8087</td>\n",
       "      <td>10.639267</td>\n",
       "      <td>0.954330</td>\n",
       "      <td>71.900825</td>\n",
       "      <td>0.949172</td>\n",
       "      <td>-0.059482</td>\n",
       "    </tr>\n",
       "    <tr>\n",
       "      <th>1</th>\n",
       "      <td>Denmark</td>\n",
       "      <td>7.6456</td>\n",
       "      <td>10.774001</td>\n",
       "      <td>0.955991</td>\n",
       "      <td>72.402504</td>\n",
       "      <td>0.951444</td>\n",
       "      <td>0.066202</td>\n",
       "    </tr>\n",
       "    <tr>\n",
       "      <th>2</th>\n",
       "      <td>Switzerland</td>\n",
       "      <td>7.5599</td>\n",
       "      <td>10.979933</td>\n",
       "      <td>0.942847</td>\n",
       "      <td>74.102448</td>\n",
       "      <td>0.921337</td>\n",
       "      <td>0.105911</td>\n",
       "    </tr>\n",
       "    <tr>\n",
       "      <th>3</th>\n",
       "      <td>Iceland</td>\n",
       "      <td>7.5045</td>\n",
       "      <td>10.772559</td>\n",
       "      <td>0.974670</td>\n",
       "      <td>73.000000</td>\n",
       "      <td>0.948892</td>\n",
       "      <td>0.246944</td>\n",
       "    </tr>\n",
       "    <tr>\n",
       "      <th>4</th>\n",
       "      <td>Norway</td>\n",
       "      <td>7.4880</td>\n",
       "      <td>11.087804</td>\n",
       "      <td>0.952487</td>\n",
       "      <td>73.200783</td>\n",
       "      <td>0.955750</td>\n",
       "      <td>0.134533</td>\n",
       "    </tr>\n",
       "    <tr>\n",
       "      <th>...</th>\n",
       "      <td>...</td>\n",
       "      <td>...</td>\n",
       "      <td>...</td>\n",
       "      <td>...</td>\n",
       "      <td>...</td>\n",
       "      <td>...</td>\n",
       "      <td>...</td>\n",
       "    </tr>\n",
       "    <tr>\n",
       "      <th>148</th>\n",
       "      <td>Central African Republic</td>\n",
       "      <td>3.4759</td>\n",
       "      <td>6.625160</td>\n",
       "      <td>0.319460</td>\n",
       "      <td>45.200001</td>\n",
       "      <td>0.640881</td>\n",
       "      <td>0.082410</td>\n",
       "    </tr>\n",
       "    <tr>\n",
       "      <th>149</th>\n",
       "      <td>Rwanda</td>\n",
       "      <td>3.3123</td>\n",
       "      <td>7.600104</td>\n",
       "      <td>0.540835</td>\n",
       "      <td>61.098846</td>\n",
       "      <td>0.900589</td>\n",
       "      <td>0.055484</td>\n",
       "    </tr>\n",
       "    <tr>\n",
       "      <th>150</th>\n",
       "      <td>Zimbabwe</td>\n",
       "      <td>3.2992</td>\n",
       "      <td>7.865712</td>\n",
       "      <td>0.763093</td>\n",
       "      <td>55.617260</td>\n",
       "      <td>0.711458</td>\n",
       "      <td>-0.072064</td>\n",
       "    </tr>\n",
       "    <tr>\n",
       "      <th>151</th>\n",
       "      <td>South Sudan</td>\n",
       "      <td>2.8166</td>\n",
       "      <td>7.425360</td>\n",
       "      <td>0.553707</td>\n",
       "      <td>51.000000</td>\n",
       "      <td>0.451314</td>\n",
       "      <td>0.016519</td>\n",
       "    </tr>\n",
       "    <tr>\n",
       "      <th>152</th>\n",
       "      <td>Afghanistan</td>\n",
       "      <td>2.5669</td>\n",
       "      <td>7.462861</td>\n",
       "      <td>0.470367</td>\n",
       "      <td>52.590000</td>\n",
       "      <td>0.396573</td>\n",
       "      <td>-0.096429</td>\n",
       "    </tr>\n",
       "  </tbody>\n",
       "</table>\n",
       "<p>153 rows × 7 columns</p>\n",
       "</div>"
      ],
      "text/plain": [
       "                 Country_name  ...  Generosity\n",
       "0                     Finland  ...   -0.059482\n",
       "1                     Denmark  ...    0.066202\n",
       "2                 Switzerland  ...    0.105911\n",
       "3                     Iceland  ...    0.246944\n",
       "4                      Norway  ...    0.134533\n",
       "..                        ...  ...         ...\n",
       "148  Central African Republic  ...    0.082410\n",
       "149                    Rwanda  ...    0.055484\n",
       "150                  Zimbabwe  ...   -0.072064\n",
       "151               South Sudan  ...    0.016519\n",
       "152               Afghanistan  ...   -0.096429\n",
       "\n",
       "[153 rows x 7 columns]"
      ]
     },
     "execution_count": 75,
     "metadata": {},
     "output_type": "execute_result"
    }
   ],
   "source": [
    "df_happiness_2020_prep.rename(columns = {'Country name':'Country_name','Ladder score':'Happniess_score','Logged GDP per capita':'Logged_GDP_per_capita','Social support':'Social_support','Healthy life expectancy':'Healthy_life_expectancy','Freedom to make life choices':'Freedom_to_make_life_choices'},inplace = True)\n",
    "df_happiness_2020_prep"
   ]
  },
  {
   "cell_type": "markdown",
   "metadata": {
    "id": "lGqBbLxhnANX"
   },
   "source": [
    "### ***World Population***\n",
    "For all factors, we will only consider the following\\:\n",
    "\n",
    "*Population(2020), Population Density, Land Area*."
   ]
  },
  {
   "cell_type": "code",
   "execution_count": null,
   "metadata": {
    "id": "n4tW7wl2nANX"
   },
   "outputs": [],
   "source": [
    "df_population_2020_prep = df_population_2020.iloc[:,[0,1,4,5]]"
   ]
  },
  {
   "cell_type": "markdown",
   "metadata": {
    "id": "bvQ2Pdl5U72W"
   },
   "source": [
    "We will be renmaing the selected columns as follow\\:"
   ]
  },
  {
   "cell_type": "code",
   "execution_count": null,
   "metadata": {
    "colab": {
     "base_uri": "https://localhost:8080/",
     "height": 550
    },
    "id": "omuRfD-CnANY",
    "outputId": "a1096408-43ec-4868-c813-5c7b7745a06b"
   },
   "outputs": [
    {
     "name": "stderr",
     "output_type": "stream",
     "text": [
      "/usr/local/lib/python3.7/dist-packages/pandas/core/frame.py:4308: SettingWithCopyWarning:\n",
      "\n",
      "\n",
      "A value is trying to be set on a copy of a slice from a DataFrame\n",
      "\n",
      "See the caveats in the documentation: https://pandas.pydata.org/pandas-docs/stable/user_guide/indexing.html#returning-a-view-versus-a-copy\n",
      "\n"
     ]
    },
    {
     "data": {
      "text/html": [
       "<div>\n",
       "<style scoped>\n",
       "    .dataframe tbody tr th:only-of-type {\n",
       "        vertical-align: middle;\n",
       "    }\n",
       "\n",
       "    .dataframe tbody tr th {\n",
       "        vertical-align: top;\n",
       "    }\n",
       "\n",
       "    .dataframe thead th {\n",
       "        text-align: right;\n",
       "    }\n",
       "</style>\n",
       "<table border=\"1\" class=\"dataframe\">\n",
       "  <thead>\n",
       "    <tr style=\"text-align: right;\">\n",
       "      <th></th>\n",
       "      <th>Country_name</th>\n",
       "      <th>Population (2020)</th>\n",
       "      <th>Population_Density</th>\n",
       "      <th>Land_Area(Km²)</th>\n",
       "    </tr>\n",
       "  </thead>\n",
       "  <tbody>\n",
       "    <tr>\n",
       "      <th>0</th>\n",
       "      <td>China</td>\n",
       "      <td>1440297825</td>\n",
       "      <td>153</td>\n",
       "      <td>9388211</td>\n",
       "    </tr>\n",
       "    <tr>\n",
       "      <th>1</th>\n",
       "      <td>India</td>\n",
       "      <td>1382345085</td>\n",
       "      <td>464</td>\n",
       "      <td>2973190</td>\n",
       "    </tr>\n",
       "    <tr>\n",
       "      <th>2</th>\n",
       "      <td>United States</td>\n",
       "      <td>331341050</td>\n",
       "      <td>36</td>\n",
       "      <td>9147420</td>\n",
       "    </tr>\n",
       "    <tr>\n",
       "      <th>3</th>\n",
       "      <td>Indonesia</td>\n",
       "      <td>274021604</td>\n",
       "      <td>151</td>\n",
       "      <td>1811570</td>\n",
       "    </tr>\n",
       "    <tr>\n",
       "      <th>4</th>\n",
       "      <td>Pakistan</td>\n",
       "      <td>221612785</td>\n",
       "      <td>287</td>\n",
       "      <td>770880</td>\n",
       "    </tr>\n",
       "    <tr>\n",
       "      <th>...</th>\n",
       "      <td>...</td>\n",
       "      <td>...</td>\n",
       "      <td>...</td>\n",
       "      <td>...</td>\n",
       "    </tr>\n",
       "    <tr>\n",
       "      <th>230</th>\n",
       "      <td>Montserrat</td>\n",
       "      <td>4993</td>\n",
       "      <td>50</td>\n",
       "      <td>100</td>\n",
       "    </tr>\n",
       "    <tr>\n",
       "      <th>231</th>\n",
       "      <td>Falkland Islands</td>\n",
       "      <td>3497</td>\n",
       "      <td>0</td>\n",
       "      <td>12170</td>\n",
       "    </tr>\n",
       "    <tr>\n",
       "      <th>232</th>\n",
       "      <td>Niue</td>\n",
       "      <td>1628</td>\n",
       "      <td>6</td>\n",
       "      <td>260</td>\n",
       "    </tr>\n",
       "    <tr>\n",
       "      <th>233</th>\n",
       "      <td>Tokelau</td>\n",
       "      <td>1360</td>\n",
       "      <td>136</td>\n",
       "      <td>10</td>\n",
       "    </tr>\n",
       "    <tr>\n",
       "      <th>234</th>\n",
       "      <td>Holy See</td>\n",
       "      <td>801</td>\n",
       "      <td>2003</td>\n",
       "      <td>0</td>\n",
       "    </tr>\n",
       "  </tbody>\n",
       "</table>\n",
       "<p>235 rows × 4 columns</p>\n",
       "</div>"
      ],
      "text/plain": [
       "         Country_name  Population (2020)  Population_Density  Land_Area(Km²)\n",
       "0               China         1440297825                 153         9388211\n",
       "1               India         1382345085                 464         2973190\n",
       "2       United States          331341050                  36         9147420\n",
       "3           Indonesia          274021604                 151         1811570\n",
       "4            Pakistan          221612785                 287          770880\n",
       "..                ...                ...                 ...             ...\n",
       "230        Montserrat               4993                  50             100\n",
       "231  Falkland Islands               3497                   0           12170\n",
       "232              Niue               1628                   6             260\n",
       "233           Tokelau               1360                 136              10\n",
       "234          Holy See                801                2003               0\n",
       "\n",
       "[235 rows x 4 columns]"
      ]
     },
     "execution_count": 77,
     "metadata": {},
     "output_type": "execute_result"
    }
   ],
   "source": [
    "# rename columns\n",
    "df_population_2020_prep.rename(columns={'Country (or dependency)':'Country_name','Density (P/Km²)':'Population_Density','Land Area (Km²)':'Land_Area(Km²)'},inplace=True)\n",
    "df_population_2020_prep"
   ]
  },
  {
   "cell_type": "markdown",
   "metadata": {
    "id": "qruw1wHUnANY"
   },
   "source": [
    "### ***Alcohol Consumption***\n",
    "\n",
    "All factors in this dataset will be use and we will be renaming the columns."
   ]
  },
  {
   "cell_type": "code",
   "execution_count": null,
   "metadata": {
    "colab": {
     "base_uri": "https://localhost:8080/",
     "height": 424
    },
    "id": "4EGopCuSnANY",
    "outputId": "f78cb8fd-c02c-4b46-b9b9-36bc793fa586"
   },
   "outputs": [
    {
     "data": {
      "text/html": [
       "<div>\n",
       "<style scoped>\n",
       "    .dataframe tbody tr th:only-of-type {\n",
       "        vertical-align: middle;\n",
       "    }\n",
       "\n",
       "    .dataframe tbody tr th {\n",
       "        vertical-align: top;\n",
       "    }\n",
       "\n",
       "    .dataframe thead th {\n",
       "        text-align: right;\n",
       "    }\n",
       "</style>\n",
       "<table border=\"1\" class=\"dataframe\">\n",
       "  <thead>\n",
       "    <tr style=\"text-align: right;\">\n",
       "      <th></th>\n",
       "      <th>Country_name</th>\n",
       "      <th>alc_consumption</th>\n",
       "      <th>income_per_person</th>\n",
       "      <th>suicide_per_100th</th>\n",
       "      <th>employ_rate</th>\n",
       "      <th>urban_rate</th>\n",
       "    </tr>\n",
       "  </thead>\n",
       "  <tbody>\n",
       "    <tr>\n",
       "      <th>0</th>\n",
       "      <td>Afghanistan</td>\n",
       "      <td>0.03</td>\n",
       "      <td>NaN</td>\n",
       "      <td>6.684385</td>\n",
       "      <td>55.700001</td>\n",
       "      <td>24.04</td>\n",
       "    </tr>\n",
       "    <tr>\n",
       "      <th>1</th>\n",
       "      <td>Albania</td>\n",
       "      <td>7.29</td>\n",
       "      <td>1914.996551</td>\n",
       "      <td>7.699330</td>\n",
       "      <td>51.400002</td>\n",
       "      <td>46.72</td>\n",
       "    </tr>\n",
       "    <tr>\n",
       "      <th>2</th>\n",
       "      <td>Algeria</td>\n",
       "      <td>0.69</td>\n",
       "      <td>2231.993335</td>\n",
       "      <td>4.848770</td>\n",
       "      <td>50.500000</td>\n",
       "      <td>65.22</td>\n",
       "    </tr>\n",
       "    <tr>\n",
       "      <th>3</th>\n",
       "      <td>Andorra</td>\n",
       "      <td>10.17</td>\n",
       "      <td>21943.339900</td>\n",
       "      <td>5.362179</td>\n",
       "      <td>NaN</td>\n",
       "      <td>88.92</td>\n",
       "    </tr>\n",
       "    <tr>\n",
       "      <th>4</th>\n",
       "      <td>Angola</td>\n",
       "      <td>5.57</td>\n",
       "      <td>1381.004268</td>\n",
       "      <td>14.554677</td>\n",
       "      <td>75.699997</td>\n",
       "      <td>56.70</td>\n",
       "    </tr>\n",
       "    <tr>\n",
       "      <th>...</th>\n",
       "      <td>...</td>\n",
       "      <td>...</td>\n",
       "      <td>...</td>\n",
       "      <td>...</td>\n",
       "      <td>...</td>\n",
       "      <td>...</td>\n",
       "    </tr>\n",
       "    <tr>\n",
       "      <th>208</th>\n",
       "      <td>Vietnam</td>\n",
       "      <td>3.91</td>\n",
       "      <td>722.807559</td>\n",
       "      <td>11.653322</td>\n",
       "      <td>71.000000</td>\n",
       "      <td>27.84</td>\n",
       "    </tr>\n",
       "    <tr>\n",
       "      <th>209</th>\n",
       "      <td>West Bank and Gaza</td>\n",
       "      <td>NaN</td>\n",
       "      <td>NaN</td>\n",
       "      <td>NaN</td>\n",
       "      <td>32.000000</td>\n",
       "      <td>71.90</td>\n",
       "    </tr>\n",
       "    <tr>\n",
       "      <th>210</th>\n",
       "      <td>Yemen, Rep.</td>\n",
       "      <td>0.20</td>\n",
       "      <td>610.357367</td>\n",
       "      <td>6.265789</td>\n",
       "      <td>39.000000</td>\n",
       "      <td>30.64</td>\n",
       "    </tr>\n",
       "    <tr>\n",
       "      <th>211</th>\n",
       "      <td>Zambia</td>\n",
       "      <td>3.56</td>\n",
       "      <td>432.226337</td>\n",
       "      <td>12.019036</td>\n",
       "      <td>61.000000</td>\n",
       "      <td>35.42</td>\n",
       "    </tr>\n",
       "    <tr>\n",
       "      <th>212</th>\n",
       "      <td>Zimbabwe</td>\n",
       "      <td>4.96</td>\n",
       "      <td>320.771890</td>\n",
       "      <td>13.905267</td>\n",
       "      <td>66.800003</td>\n",
       "      <td>37.34</td>\n",
       "    </tr>\n",
       "  </tbody>\n",
       "</table>\n",
       "<p>213 rows × 6 columns</p>\n",
       "</div>"
      ],
      "text/plain": [
       "           Country_name  alc_consumption  ...  employ_rate  urban_rate\n",
       "0           Afghanistan             0.03  ...    55.700001       24.04\n",
       "1               Albania             7.29  ...    51.400002       46.72\n",
       "2               Algeria             0.69  ...    50.500000       65.22\n",
       "3               Andorra            10.17  ...          NaN       88.92\n",
       "4                Angola             5.57  ...    75.699997       56.70\n",
       "..                  ...              ...  ...          ...         ...\n",
       "208             Vietnam             3.91  ...    71.000000       27.84\n",
       "209  West Bank and Gaza              NaN  ...    32.000000       71.90\n",
       "210         Yemen, Rep.             0.20  ...    39.000000       30.64\n",
       "211              Zambia             3.56  ...    61.000000       35.42\n",
       "212            Zimbabwe             4.96  ...    66.800003       37.34\n",
       "\n",
       "[213 rows x 6 columns]"
      ]
     },
     "execution_count": 78,
     "metadata": {},
     "output_type": "execute_result"
    }
   ],
   "source": [
    "# select all columns\n",
    "df_alcohol_2020_prep = df_alcohol_2020\n",
    "# rename columns\n",
    "df_alcohol_2020_prep.rename(columns={'country':'Country_name','alcconsumption':'alc_consumption','incomeperperson':'income_per_person','suicideper100th':'suicide_per_100th','employrate':'employ_rate','urbanrate':'urban_rate'},inplace=True)\n",
    "df_alcohol_2020_prep\n"
   ]
  },
  {
   "cell_type": "markdown",
   "metadata": {
    "id": "-UmjDDAGnANZ"
   },
   "source": [
    "### ***World Fertility***\n",
    "\n",
    "Since we are only looking at fertility rate, only the *'Fertility'* column will be selected and we will be renaming the *'Country'* column to *'Country_name'*."
   ]
  },
  {
   "cell_type": "code",
   "execution_count": null,
   "metadata": {
    "colab": {
     "base_uri": "https://localhost:8080/",
     "height": 424
    },
    "id": "URVcEBTHnANZ",
    "outputId": "43744403-5137-448a-edbd-db5b0ff55fad"
   },
   "outputs": [
    {
     "data": {
      "text/html": [
       "<div>\n",
       "<style scoped>\n",
       "    .dataframe tbody tr th:only-of-type {\n",
       "        vertical-align: middle;\n",
       "    }\n",
       "\n",
       "    .dataframe tbody tr th {\n",
       "        vertical-align: top;\n",
       "    }\n",
       "\n",
       "    .dataframe thead th {\n",
       "        text-align: right;\n",
       "    }\n",
       "</style>\n",
       "<table border=\"1\" class=\"dataframe\">\n",
       "  <thead>\n",
       "    <tr style=\"text-align: right;\">\n",
       "      <th></th>\n",
       "      <th>Country_name</th>\n",
       "      <th>Fertility</th>\n",
       "    </tr>\n",
       "  </thead>\n",
       "  <tbody>\n",
       "    <tr>\n",
       "      <th>0</th>\n",
       "      <td>Afghanistan</td>\n",
       "      <td>4.5</td>\n",
       "    </tr>\n",
       "    <tr>\n",
       "      <th>1</th>\n",
       "      <td>Albania</td>\n",
       "      <td>1.6</td>\n",
       "    </tr>\n",
       "    <tr>\n",
       "      <th>2</th>\n",
       "      <td>Algeria</td>\n",
       "      <td>3.0</td>\n",
       "    </tr>\n",
       "    <tr>\n",
       "      <th>3</th>\n",
       "      <td>Andorra</td>\n",
       "      <td>1.3</td>\n",
       "    </tr>\n",
       "    <tr>\n",
       "      <th>4</th>\n",
       "      <td>Angola</td>\n",
       "      <td>5.5</td>\n",
       "    </tr>\n",
       "    <tr>\n",
       "      <th>...</th>\n",
       "      <td>...</td>\n",
       "      <td>...</td>\n",
       "    </tr>\n",
       "    <tr>\n",
       "      <th>196</th>\n",
       "      <td>Vietnam</td>\n",
       "      <td>2.0</td>\n",
       "    </tr>\n",
       "    <tr>\n",
       "      <th>197</th>\n",
       "      <td>Virgin Islands</td>\n",
       "      <td>2.1</td>\n",
       "    </tr>\n",
       "    <tr>\n",
       "      <th>198</th>\n",
       "      <td>Yemen</td>\n",
       "      <td>3.8</td>\n",
       "    </tr>\n",
       "    <tr>\n",
       "      <th>199</th>\n",
       "      <td>Zambia</td>\n",
       "      <td>4.6</td>\n",
       "    </tr>\n",
       "    <tr>\n",
       "      <th>200</th>\n",
       "      <td>Zimbabwe</td>\n",
       "      <td>3.6</td>\n",
       "    </tr>\n",
       "  </tbody>\n",
       "</table>\n",
       "<p>201 rows × 2 columns</p>\n",
       "</div>"
      ],
      "text/plain": [
       "       Country_name  Fertility\n",
       "0       Afghanistan        4.5\n",
       "1           Albania        1.6\n",
       "2           Algeria        3.0\n",
       "3           Andorra        1.3\n",
       "4            Angola        5.5\n",
       "..              ...        ...\n",
       "196         Vietnam        2.0\n",
       "197  Virgin Islands        2.1\n",
       "198           Yemen        3.8\n",
       "199          Zambia        4.6\n",
       "200        Zimbabwe        3.6\n",
       "\n",
       "[201 rows x 2 columns]"
      ]
     },
     "execution_count": 79,
     "metadata": {},
     "output_type": "execute_result"
    }
   ],
   "source": [
    "# select all columns\n",
    "df_fertility_2020_prep = df_fertility_2020.iloc[:,0:2]\n",
    "# rename columns\n",
    "df_fertility_2020_prep.rename(columns={'Country':'Country_name'},inplace=True)\n",
    "df_fertility_2020_prep"
   ]
  },
  {
   "cell_type": "code",
   "execution_count": null,
   "metadata": {
    "colab": {
     "base_uri": "https://localhost:8080/"
    },
    "id": "J2jYuBWtnANa",
    "outputId": "535e4e4a-01c0-49a1-d97a-1f18168b8d85"
   },
   "outputs": [
    {
     "data": {
      "text/plain": [
       "2"
      ]
     },
     "execution_count": 80,
     "metadata": {},
     "output_type": "execute_result"
    }
   ],
   "source": [
    "# check duplicated country name\n",
    "df_fertility_2020_prep.duplicated(subset=['Country_name']).sum()"
   ]
  },
  {
   "cell_type": "code",
   "execution_count": null,
   "metadata": {
    "colab": {
     "base_uri": "https://localhost:8080/",
     "height": 112
    },
    "id": "hUvAePS4nANb",
    "outputId": "f0bec23c-43b7-4bc5-e777-b204a547d1a3"
   },
   "outputs": [
    {
     "data": {
      "text/html": [
       "<div>\n",
       "<style scoped>\n",
       "    .dataframe tbody tr th:only-of-type {\n",
       "        vertical-align: middle;\n",
       "    }\n",
       "\n",
       "    .dataframe tbody tr th {\n",
       "        vertical-align: top;\n",
       "    }\n",
       "\n",
       "    .dataframe thead th {\n",
       "        text-align: right;\n",
       "    }\n",
       "</style>\n",
       "<table border=\"1\" class=\"dataframe\">\n",
       "  <thead>\n",
       "    <tr style=\"text-align: right;\">\n",
       "      <th></th>\n",
       "      <th>Country_name</th>\n",
       "      <th>Fertility</th>\n",
       "    </tr>\n",
       "  </thead>\n",
       "  <tbody>\n",
       "    <tr>\n",
       "      <th>74</th>\n",
       "      <td>Guinea</td>\n",
       "      <td>4.5</td>\n",
       "    </tr>\n",
       "    <tr>\n",
       "      <th>150</th>\n",
       "      <td>Russia</td>\n",
       "      <td>1.6</td>\n",
       "    </tr>\n",
       "  </tbody>\n",
       "</table>\n",
       "</div>"
      ],
      "text/plain": [
       "    Country_name  Fertility\n",
       "74        Guinea        4.5\n",
       "150       Russia        1.6"
      ]
     },
     "execution_count": 81,
     "metadata": {},
     "output_type": "execute_result"
    }
   ],
   "source": [
    "df_fertility_2020_prep[df_fertility_2020_prep.duplicated(['Country_name'])]\n"
   ]
  },
  {
   "cell_type": "code",
   "execution_count": null,
   "metadata": {
    "colab": {
     "base_uri": "https://localhost:8080/",
     "height": 112
    },
    "id": "FKDdO7ZxnANb",
    "outputId": "9b61990d-b83f-4be8-b64a-b5d59a1123d4"
   },
   "outputs": [
    {
     "data": {
      "text/html": [
       "<div>\n",
       "<style scoped>\n",
       "    .dataframe tbody tr th:only-of-type {\n",
       "        vertical-align: middle;\n",
       "    }\n",
       "\n",
       "    .dataframe tbody tr th {\n",
       "        vertical-align: top;\n",
       "    }\n",
       "\n",
       "    .dataframe thead th {\n",
       "        text-align: right;\n",
       "    }\n",
       "</style>\n",
       "<table border=\"1\" class=\"dataframe\">\n",
       "  <thead>\n",
       "    <tr style=\"text-align: right;\">\n",
       "      <th></th>\n",
       "      <th>Country_name</th>\n",
       "      <th>Fertility</th>\n",
       "    </tr>\n",
       "  </thead>\n",
       "  <tbody>\n",
       "    <tr>\n",
       "      <th>73</th>\n",
       "      <td>Guinea</td>\n",
       "      <td>4.7</td>\n",
       "    </tr>\n",
       "    <tr>\n",
       "      <th>74</th>\n",
       "      <td>Guinea</td>\n",
       "      <td>4.5</td>\n",
       "    </tr>\n",
       "  </tbody>\n",
       "</table>\n",
       "</div>"
      ],
      "text/plain": [
       "   Country_name  Fertility\n",
       "73       Guinea        4.7\n",
       "74       Guinea        4.5"
      ]
     },
     "execution_count": 82,
     "metadata": {},
     "output_type": "execute_result"
    }
   ],
   "source": [
    "df_fertility_2020_prep[df_fertility_2020_prep['Country_name'] == 'Guinea']"
   ]
  },
  {
   "cell_type": "code",
   "execution_count": null,
   "metadata": {
    "colab": {
     "base_uri": "https://localhost:8080/",
     "height": 112
    },
    "id": "Lcsb_UnPnANb",
    "outputId": "7c845112-1710-49cc-878f-1df5073e0c4c"
   },
   "outputs": [
    {
     "data": {
      "text/html": [
       "<div>\n",
       "<style scoped>\n",
       "    .dataframe tbody tr th:only-of-type {\n",
       "        vertical-align: middle;\n",
       "    }\n",
       "\n",
       "    .dataframe tbody tr th {\n",
       "        vertical-align: top;\n",
       "    }\n",
       "\n",
       "    .dataframe thead th {\n",
       "        text-align: right;\n",
       "    }\n",
       "</style>\n",
       "<table border=\"1\" class=\"dataframe\">\n",
       "  <thead>\n",
       "    <tr style=\"text-align: right;\">\n",
       "      <th></th>\n",
       "      <th>Country_name</th>\n",
       "      <th>Fertility</th>\n",
       "    </tr>\n",
       "  </thead>\n",
       "  <tbody>\n",
       "    <tr>\n",
       "      <th>149</th>\n",
       "      <td>Russia</td>\n",
       "      <td>1.82</td>\n",
       "    </tr>\n",
       "    <tr>\n",
       "      <th>150</th>\n",
       "      <td>Russia</td>\n",
       "      <td>1.60</td>\n",
       "    </tr>\n",
       "  </tbody>\n",
       "</table>\n",
       "</div>"
      ],
      "text/plain": [
       "    Country_name  Fertility\n",
       "149       Russia       1.82\n",
       "150       Russia       1.60"
      ]
     },
     "execution_count": 83,
     "metadata": {},
     "output_type": "execute_result"
    }
   ],
   "source": [
    "df_fertility_2020_prep[df_fertility_2020_prep['Country_name'] == 'Russia']"
   ]
  },
  {
   "cell_type": "code",
   "execution_count": null,
   "metadata": {
    "colab": {
     "base_uri": "https://localhost:8080/",
     "height": 424
    },
    "id": "KARueG-YnANc",
    "outputId": "47e35359-e721-4370-ef81-1c40dcf11eed"
   },
   "outputs": [
    {
     "data": {
      "text/html": [
       "<div>\n",
       "<style scoped>\n",
       "    .dataframe tbody tr th:only-of-type {\n",
       "        vertical-align: middle;\n",
       "    }\n",
       "\n",
       "    .dataframe tbody tr th {\n",
       "        vertical-align: top;\n",
       "    }\n",
       "\n",
       "    .dataframe thead th {\n",
       "        text-align: right;\n",
       "    }\n",
       "</style>\n",
       "<table border=\"1\" class=\"dataframe\">\n",
       "  <thead>\n",
       "    <tr style=\"text-align: right;\">\n",
       "      <th></th>\n",
       "      <th>Country_name</th>\n",
       "      <th>Fertility</th>\n",
       "    </tr>\n",
       "  </thead>\n",
       "  <tbody>\n",
       "    <tr>\n",
       "      <th>0</th>\n",
       "      <td>Afghanistan</td>\n",
       "      <td>4.5</td>\n",
       "    </tr>\n",
       "    <tr>\n",
       "      <th>1</th>\n",
       "      <td>Albania</td>\n",
       "      <td>1.6</td>\n",
       "    </tr>\n",
       "    <tr>\n",
       "      <th>2</th>\n",
       "      <td>Algeria</td>\n",
       "      <td>3.0</td>\n",
       "    </tr>\n",
       "    <tr>\n",
       "      <th>3</th>\n",
       "      <td>Andorra</td>\n",
       "      <td>1.3</td>\n",
       "    </tr>\n",
       "    <tr>\n",
       "      <th>4</th>\n",
       "      <td>Angola</td>\n",
       "      <td>5.5</td>\n",
       "    </tr>\n",
       "    <tr>\n",
       "      <th>...</th>\n",
       "      <td>...</td>\n",
       "      <td>...</td>\n",
       "    </tr>\n",
       "    <tr>\n",
       "      <th>196</th>\n",
       "      <td>Vietnam</td>\n",
       "      <td>2.0</td>\n",
       "    </tr>\n",
       "    <tr>\n",
       "      <th>197</th>\n",
       "      <td>Virgin Islands</td>\n",
       "      <td>2.1</td>\n",
       "    </tr>\n",
       "    <tr>\n",
       "      <th>198</th>\n",
       "      <td>Yemen</td>\n",
       "      <td>3.8</td>\n",
       "    </tr>\n",
       "    <tr>\n",
       "      <th>199</th>\n",
       "      <td>Zambia</td>\n",
       "      <td>4.6</td>\n",
       "    </tr>\n",
       "    <tr>\n",
       "      <th>200</th>\n",
       "      <td>Zimbabwe</td>\n",
       "      <td>3.6</td>\n",
       "    </tr>\n",
       "  </tbody>\n",
       "</table>\n",
       "<p>199 rows × 2 columns</p>\n",
       "</div>"
      ],
      "text/plain": [
       "       Country_name  Fertility\n",
       "0       Afghanistan        4.5\n",
       "1           Albania        1.6\n",
       "2           Algeria        3.0\n",
       "3           Andorra        1.3\n",
       "4            Angola        5.5\n",
       "..              ...        ...\n",
       "196         Vietnam        2.0\n",
       "197  Virgin Islands        2.1\n",
       "198           Yemen        3.8\n",
       "199          Zambia        4.6\n",
       "200        Zimbabwe        3.6\n",
       "\n",
       "[199 rows x 2 columns]"
      ]
     },
     "execution_count": 84,
     "metadata": {},
     "output_type": "execute_result"
    }
   ],
   "source": [
    "# drop duplicate rows\n",
    "df_fertility_2020_prep = df_fertility_2020_prep.drop_duplicates(subset=['Country_name'])\n",
    "df_fertility_2020_prep"
   ]
  },
  {
   "cell_type": "markdown",
   "metadata": {
    "id": "f3JKd96fnANc"
   },
   "source": [
    "\n",
    "---\n",
    "\n",
    "\n",
    "## **Combine the datasets**\n",
    "\n",
    "\n",
    "\n",
    "We will be combining the 4 datasets to do further analyse. \n",
    "\n",
    "Before starting the merge, we will verify the combine key *'Country_name'* to make sure each row has a unique value for the *'Country_name'* column.\n",
    "\n"
   ]
  },
  {
   "cell_type": "code",
   "execution_count": null,
   "metadata": {
    "id": "6KI-wpA1nANc"
   },
   "outputs": [],
   "source": [
    "def can_serve_as_key(df, col_name):\n",
    "    number_unique_values = len(df.loc[:,col_name].unique())\n",
    "    number_rows = df.shape[0]\n",
    "\n",
    "    if number_unique_values == number_rows:\n",
    "        print(\"YES:\", number_unique_values, \"unique\", col_name, \"values,\", number_rows, \"rows\", \"\\n\")\n",
    "    else:\n",
    "        print(\"NO:\", number_unique_values, \"unique\", col_name, \"values,\", number_rows, \"rows\", \"\\n\")"
   ]
  },
  {
   "cell_type": "code",
   "execution_count": null,
   "metadata": {
    "colab": {
     "base_uri": "https://localhost:8080/"
    },
    "id": "D86t0kv6nANc",
    "outputId": "bbeda9ea-03cd-423b-bb62-2c2f97960335"
   },
   "outputs": [
    {
     "name": "stdout",
     "output_type": "stream",
     "text": [
      "YES: 153 unique Country_name values, 153 rows \n",
      "\n"
     ]
    }
   ],
   "source": [
    "can_serve_as_key(df_happiness_2020_prep,'Country_name')"
   ]
  },
  {
   "cell_type": "code",
   "execution_count": null,
   "metadata": {
    "colab": {
     "base_uri": "https://localhost:8080/"
    },
    "id": "aHvjpFnEnANd",
    "outputId": "f258eb18-a1a4-4817-f5f0-9a48903a43ca"
   },
   "outputs": [
    {
     "name": "stdout",
     "output_type": "stream",
     "text": [
      "YES: 235 unique Country_name values, 235 rows \n",
      "\n"
     ]
    }
   ],
   "source": [
    "can_serve_as_key(df_population_2020_prep,'Country_name')"
   ]
  },
  {
   "cell_type": "code",
   "execution_count": null,
   "metadata": {
    "colab": {
     "base_uri": "https://localhost:8080/"
    },
    "id": "svDj3kivnANd",
    "outputId": "0bb8de57-7495-4189-8e72-a6cdbee78c06"
   },
   "outputs": [
    {
     "name": "stdout",
     "output_type": "stream",
     "text": [
      "YES: 213 unique Country_name values, 213 rows \n",
      "\n"
     ]
    }
   ],
   "source": [
    "can_serve_as_key(df_alcohol_2020_prep,'Country_name')"
   ]
  },
  {
   "cell_type": "code",
   "execution_count": null,
   "metadata": {
    "colab": {
     "base_uri": "https://localhost:8080/"
    },
    "id": "70wjDYXunANd",
    "outputId": "d48d792b-8ff2-48c2-f791-b255d598a2c0"
   },
   "outputs": [
    {
     "name": "stdout",
     "output_type": "stream",
     "text": [
      "YES: 199 unique Country_name values, 199 rows \n",
      "\n"
     ]
    }
   ],
   "source": [
    "can_serve_as_key(df_fertility_2020_prep,'Country_name')"
   ]
  },
  {
   "cell_type": "markdown",
   "metadata": {
    "id": "1cUA6fQ2Miv7"
   },
   "source": [
    "From the above results, we observe that each dataset are proven to have unique *'Country_name'* for all rows. \n",
    "\n",
    "\n",
    "\n",
    "We can also visulaize the number of *'Country_name'* values (rows) in each datasets."
   ]
  },
  {
   "cell_type": "code",
   "execution_count": null,
   "metadata": {
    "colab": {
     "base_uri": "https://localhost:8080/",
     "height": 296
    },
    "id": "k2WUyotLH-Hf",
    "outputId": "6734ed78-c8a5-424a-fb98-2fb384caad66"
   },
   "outputs": [
    {
     "data": {
      "text/plain": [
       "<matplotlib.axes._subplots.AxesSubplot at 0x7f1e98397fd0>"
      ]
     },
     "execution_count": 90,
     "metadata": {},
     "output_type": "execute_result"
    },
    {
     "data": {
      "image/png": "[encoded data removed]",
      "text/plain": [
       "<Figure size 432x288 with 1 Axes>"
      ]
     },
     "metadata": {
      "needs_background": "light"
     },
     "output_type": "display_data"
    }
   ],
   "source": [
    "data_list = [df_population_2020_prep,df_happiness_2020_prep,df_fertility_2020_prep,df_alcohol_2020_prep]\n",
    "data_name_list = ['population','happniess','fertility','alcohol']\n",
    "country_count ={}\n",
    "for i, data in enumerate(data_list):\n",
    "  country_count[data_name_list[i]] = data['Country_name'].value_counts().sum()\n",
    "country_df = pd.DataFrame(country_count, index = [0])\n",
    "country_df.plot.bar(title = \"Numbers of 'Country_name' in each dataset\")\n"
   ]
  },
  {
   "cell_type": "markdown",
   "metadata": {
    "id": "Q3ihzhKZFzKY"
   },
   "source": [
    "We will then merge *'World Happiness Report'* with dataframes *'World Population'*, *'Alcohol Consumption'*, and *'World Fertility'*.\n",
    "\n",
    "we will be inner joinning all the datasets "
   ]
  },
  {
   "cell_type": "code",
   "execution_count": null,
   "metadata": {
    "colab": {
     "base_uri": "https://localhost:8080/",
     "height": 978
    },
    "id": "G_JaTEl4nANd",
    "outputId": "edff7692-ea4f-44e2-f681-8f3630696a3d"
   },
   "outputs": [
    {
     "name": "stdout",
     "output_type": "stream",
     "text": [
      "<class 'pandas.core.frame.DataFrame'>\n",
      "Int64Index: 135 entries, 0 to 134\n",
      "Data columns (total 16 columns):\n",
      " #   Column                        Non-Null Count  Dtype  \n",
      "---  ------                        --------------  -----  \n",
      " 0   Country_name                  135 non-null    object \n",
      " 1   Happniess_score               135 non-null    float64\n",
      " 2   Logged_GDP_per_capita         135 non-null    float64\n",
      " 3   Social_support                135 non-null    float64\n",
      " 4   Healthy_life_expectancy       135 non-null    float64\n",
      " 5   Freedom_to_make_life_choices  135 non-null    float64\n",
      " 6   Generosity                    135 non-null    float64\n",
      " 7   Population (2020)             135 non-null    int64  \n",
      " 8   Population_Density            135 non-null    int64  \n",
      " 9   Land_Area(Km²)                135 non-null    int64  \n",
      " 10  alc_consumption               133 non-null    float64\n",
      " 11  income_per_person             132 non-null    float64\n",
      " 12  suicide_per_100th             134 non-null    float64\n",
      " 13  employ_rate                   133 non-null    float64\n",
      " 14  urban_rate                    135 non-null    float64\n",
      " 15  Fertility                     135 non-null    float64\n",
      "dtypes: float64(12), int64(3), object(1)\n",
      "memory usage: 17.9+ KB\n"
     ]
    },
    {
     "data": {
      "text/html": [
       "<div>\n",
       "<style scoped>\n",
       "    .dataframe tbody tr th:only-of-type {\n",
       "        vertical-align: middle;\n",
       "    }\n",
       "\n",
       "    .dataframe tbody tr th {\n",
       "        vertical-align: top;\n",
       "    }\n",
       "\n",
       "    .dataframe thead th {\n",
       "        text-align: right;\n",
       "    }\n",
       "</style>\n",
       "<table border=\"1\" class=\"dataframe\">\n",
       "  <thead>\n",
       "    <tr style=\"text-align: right;\">\n",
       "      <th></th>\n",
       "      <th>Country_name</th>\n",
       "      <th>Happniess_score</th>\n",
       "      <th>Logged_GDP_per_capita</th>\n",
       "      <th>Social_support</th>\n",
       "      <th>Healthy_life_expectancy</th>\n",
       "      <th>Freedom_to_make_life_choices</th>\n",
       "      <th>Generosity</th>\n",
       "      <th>Population (2020)</th>\n",
       "      <th>Population_Density</th>\n",
       "      <th>Land_Area(Km²)</th>\n",
       "      <th>alc_consumption</th>\n",
       "      <th>income_per_person</th>\n",
       "      <th>suicide_per_100th</th>\n",
       "      <th>employ_rate</th>\n",
       "      <th>urban_rate</th>\n",
       "      <th>Fertility</th>\n",
       "    </tr>\n",
       "  </thead>\n",
       "  <tbody>\n",
       "    <tr>\n",
       "      <th>0</th>\n",
       "      <td>Finland</td>\n",
       "      <td>7.8087</td>\n",
       "      <td>10.639267</td>\n",
       "      <td>0.954330</td>\n",
       "      <td>71.900825</td>\n",
       "      <td>0.949172</td>\n",
       "      <td>-0.059482</td>\n",
       "      <td>5542237</td>\n",
       "      <td>18</td>\n",
       "      <td>303890</td>\n",
       "      <td>13.10</td>\n",
       "      <td>27110.73159</td>\n",
       "      <td>16.234370</td>\n",
       "      <td>57.200001</td>\n",
       "      <td>63.30</td>\n",
       "      <td>1.4</td>\n",
       "    </tr>\n",
       "    <tr>\n",
       "      <th>1</th>\n",
       "      <td>Denmark</td>\n",
       "      <td>7.6456</td>\n",
       "      <td>10.774001</td>\n",
       "      <td>0.955991</td>\n",
       "      <td>72.402504</td>\n",
       "      <td>0.951444</td>\n",
       "      <td>0.066202</td>\n",
       "      <td>5795780</td>\n",
       "      <td>137</td>\n",
       "      <td>42430</td>\n",
       "      <td>12.02</td>\n",
       "      <td>30532.27704</td>\n",
       "      <td>8.973104</td>\n",
       "      <td>63.099998</td>\n",
       "      <td>86.68</td>\n",
       "      <td>1.7</td>\n",
       "    </tr>\n",
       "    <tr>\n",
       "      <th>2</th>\n",
       "      <td>Switzerland</td>\n",
       "      <td>7.5599</td>\n",
       "      <td>10.979933</td>\n",
       "      <td>0.942847</td>\n",
       "      <td>74.102448</td>\n",
       "      <td>0.921337</td>\n",
       "      <td>0.105911</td>\n",
       "      <td>8665615</td>\n",
       "      <td>219</td>\n",
       "      <td>39516</td>\n",
       "      <td>11.41</td>\n",
       "      <td>37662.75125</td>\n",
       "      <td>13.239810</td>\n",
       "      <td>64.300003</td>\n",
       "      <td>73.48</td>\n",
       "      <td>1.5</td>\n",
       "    </tr>\n",
       "    <tr>\n",
       "      <th>3</th>\n",
       "      <td>Iceland</td>\n",
       "      <td>7.5045</td>\n",
       "      <td>10.772559</td>\n",
       "      <td>0.974670</td>\n",
       "      <td>73.000000</td>\n",
       "      <td>0.948892</td>\n",
       "      <td>0.246944</td>\n",
       "      <td>341628</td>\n",
       "      <td>3</td>\n",
       "      <td>100250</td>\n",
       "      <td>7.38</td>\n",
       "      <td>33945.31442</td>\n",
       "      <td>11.426181</td>\n",
       "      <td>73.599998</td>\n",
       "      <td>92.26</td>\n",
       "      <td>1.7</td>\n",
       "    </tr>\n",
       "    <tr>\n",
       "      <th>4</th>\n",
       "      <td>Norway</td>\n",
       "      <td>7.4880</td>\n",
       "      <td>11.087804</td>\n",
       "      <td>0.952487</td>\n",
       "      <td>73.200783</td>\n",
       "      <td>0.955750</td>\n",
       "      <td>0.134533</td>\n",
       "      <td>5428594</td>\n",
       "      <td>15</td>\n",
       "      <td>365268</td>\n",
       "      <td>8.35</td>\n",
       "      <td>39972.35277</td>\n",
       "      <td>10.823000</td>\n",
       "      <td>65.000000</td>\n",
       "      <td>77.48</td>\n",
       "      <td>1.6</td>\n",
       "    </tr>\n",
       "  </tbody>\n",
       "</table>\n",
       "</div>"
      ],
      "text/plain": [
       "  Country_name  Happniess_score  ...  urban_rate  Fertility\n",
       "0      Finland           7.8087  ...       63.30        1.4\n",
       "1      Denmark           7.6456  ...       86.68        1.7\n",
       "2  Switzerland           7.5599  ...       73.48        1.5\n",
       "3      Iceland           7.5045  ...       92.26        1.7\n",
       "4       Norway           7.4880  ...       77.48        1.6\n",
       "\n",
       "[5 rows x 16 columns]"
      ]
     },
     "metadata": {},
     "output_type": "display_data"
    },
    {
     "data": {
      "text/plain": [
       "None"
      ]
     },
     "metadata": {},
     "output_type": "display_data"
    },
    {
     "data": {
      "text/html": [
       "<div>\n",
       "<style scoped>\n",
       "    .dataframe tbody tr th:only-of-type {\n",
       "        vertical-align: middle;\n",
       "    }\n",
       "\n",
       "    .dataframe tbody tr th {\n",
       "        vertical-align: top;\n",
       "    }\n",
       "\n",
       "    .dataframe thead th {\n",
       "        text-align: right;\n",
       "    }\n",
       "</style>\n",
       "<table border=\"1\" class=\"dataframe\">\n",
       "  <thead>\n",
       "    <tr style=\"text-align: right;\">\n",
       "      <th></th>\n",
       "      <th>Happniess_score</th>\n",
       "      <th>Logged_GDP_per_capita</th>\n",
       "      <th>Social_support</th>\n",
       "      <th>Healthy_life_expectancy</th>\n",
       "      <th>Freedom_to_make_life_choices</th>\n",
       "      <th>Generosity</th>\n",
       "      <th>Population (2020)</th>\n",
       "      <th>Population_Density</th>\n",
       "      <th>Land_Area(Km²)</th>\n",
       "      <th>alc_consumption</th>\n",
       "      <th>income_per_person</th>\n",
       "      <th>suicide_per_100th</th>\n",
       "      <th>employ_rate</th>\n",
       "      <th>urban_rate</th>\n",
       "      <th>Fertility</th>\n",
       "    </tr>\n",
       "  </thead>\n",
       "  <tbody>\n",
       "    <tr>\n",
       "      <th>count</th>\n",
       "      <td>135.000000</td>\n",
       "      <td>135.000000</td>\n",
       "      <td>135.000000</td>\n",
       "      <td>135.000000</td>\n",
       "      <td>135.000000</td>\n",
       "      <td>135.000000</td>\n",
       "      <td>1.350000e+02</td>\n",
       "      <td>135.000000</td>\n",
       "      <td>1.350000e+02</td>\n",
       "      <td>133.000000</td>\n",
       "      <td>132.000000</td>\n",
       "      <td>134.000000</td>\n",
       "      <td>133.000000</td>\n",
       "      <td>135.000000</td>\n",
       "      <td>135.000000</td>\n",
       "    </tr>\n",
       "    <tr>\n",
       "      <th>mean</th>\n",
       "      <td>5.522194</td>\n",
       "      <td>9.335880</td>\n",
       "      <td>0.815288</td>\n",
       "      <td>64.804680</td>\n",
       "      <td>0.792546</td>\n",
       "      <td>-0.013120</td>\n",
       "      <td>5.429464e+07</td>\n",
       "      <td>232.096296</td>\n",
       "      <td>8.792848e+05</td>\n",
       "      <td>7.107594</td>\n",
       "      <td>7681.110204</td>\n",
       "      <td>9.889506</td>\n",
       "      <td>59.172180</td>\n",
       "      <td>56.750370</td>\n",
       "      <td>2.567556</td>\n",
       "    </tr>\n",
       "    <tr>\n",
       "      <th>std</th>\n",
       "      <td>1.106148</td>\n",
       "      <td>1.168356</td>\n",
       "      <td>0.116166</td>\n",
       "      <td>6.615196</td>\n",
       "      <td>0.116940</td>\n",
       "      <td>0.152687</td>\n",
       "      <td>1.755027e+08</td>\n",
       "      <td>766.791842</td>\n",
       "      <td>2.154587e+06</td>\n",
       "      <td>5.123653</td>\n",
       "      <td>10999.966391</td>\n",
       "      <td>6.173366</td>\n",
       "      <td>10.445605</td>\n",
       "      <td>22.848248</td>\n",
       "      <td>1.201573</td>\n",
       "    </tr>\n",
       "    <tr>\n",
       "      <th>min</th>\n",
       "      <td>2.566900</td>\n",
       "      <td>6.492642</td>\n",
       "      <td>0.468671</td>\n",
       "      <td>48.003624</td>\n",
       "      <td>0.396573</td>\n",
       "      <td>-0.300907</td>\n",
       "      <td>3.416280e+05</td>\n",
       "      <td>2.000000</td>\n",
       "      <td>3.000000e+02</td>\n",
       "      <td>0.030000</td>\n",
       "      <td>115.305996</td>\n",
       "      <td>0.201449</td>\n",
       "      <td>37.400002</td>\n",
       "      <td>10.400000</td>\n",
       "      <td>1.100000</td>\n",
       "    </tr>\n",
       "    <tr>\n",
       "      <th>25%</th>\n",
       "      <td>4.749000</td>\n",
       "      <td>8.453631</td>\n",
       "      <td>0.740405</td>\n",
       "      <td>59.809444</td>\n",
       "      <td>0.720287</td>\n",
       "      <td>-0.126061</td>\n",
       "      <td>5.265376e+06</td>\n",
       "      <td>35.000000</td>\n",
       "      <td>6.269200e+04</td>\n",
       "      <td>2.690000</td>\n",
       "      <td>605.817038</td>\n",
       "      <td>5.850856</td>\n",
       "      <td>51.400002</td>\n",
       "      <td>37.550000</td>\n",
       "      <td>1.650000</td>\n",
       "    </tr>\n",
       "    <tr>\n",
       "      <th>50%</th>\n",
       "      <td>5.541500</td>\n",
       "      <td>9.500369</td>\n",
       "      <td>0.838665</td>\n",
       "      <td>66.480164</td>\n",
       "      <td>0.813582</td>\n",
       "      <td>-0.030934</td>\n",
       "      <td>1.194845e+07</td>\n",
       "      <td>84.000000</td>\n",
       "      <td>2.308000e+05</td>\n",
       "      <td>6.970000</td>\n",
       "      <td>2541.779427</td>\n",
       "      <td>8.738894</td>\n",
       "      <td>58.799999</td>\n",
       "      <td>60.140000</td>\n",
       "      <td>2.100000</td>\n",
       "    </tr>\n",
       "    <tr>\n",
       "      <th>75%</th>\n",
       "      <td>6.243050</td>\n",
       "      <td>10.263131</td>\n",
       "      <td>0.910313</td>\n",
       "      <td>69.145870</td>\n",
       "      <td>0.887865</td>\n",
       "      <td>0.087815</td>\n",
       "      <td>3.845677e+07</td>\n",
       "      <td>160.000000</td>\n",
       "      <td>7.434610e+05</td>\n",
       "      <td>10.210000</td>\n",
       "      <td>9186.076893</td>\n",
       "      <td>12.755157</td>\n",
       "      <td>64.500000</td>\n",
       "      <td>73.470000</td>\n",
       "      <td>3.200000</td>\n",
       "    </tr>\n",
       "    <tr>\n",
       "      <th>max</th>\n",
       "      <td>7.808700</td>\n",
       "      <td>11.450681</td>\n",
       "      <td>0.974670</td>\n",
       "      <td>76.804581</td>\n",
       "      <td>0.974998</td>\n",
       "      <td>0.560664</td>\n",
       "      <td>1.440298e+09</td>\n",
       "      <td>8358.000000</td>\n",
       "      <td>1.637687e+07</td>\n",
       "      <td>23.010000</td>\n",
       "      <td>52301.587180</td>\n",
       "      <td>33.341860</td>\n",
       "      <td>83.199997</td>\n",
       "      <td>100.000000</td>\n",
       "      <td>5.900000</td>\n",
       "    </tr>\n",
       "  </tbody>\n",
       "</table>\n",
       "</div>"
      ],
      "text/plain": [
       "       Happniess_score  Logged_GDP_per_capita  ...  urban_rate   Fertility\n",
       "count       135.000000             135.000000  ...  135.000000  135.000000\n",
       "mean          5.522194               9.335880  ...   56.750370    2.567556\n",
       "std           1.106148               1.168356  ...   22.848248    1.201573\n",
       "min           2.566900               6.492642  ...   10.400000    1.100000\n",
       "25%           4.749000               8.453631  ...   37.550000    1.650000\n",
       "50%           5.541500               9.500369  ...   60.140000    2.100000\n",
       "75%           6.243050              10.263131  ...   73.470000    3.200000\n",
       "max           7.808700              11.450681  ...  100.000000    5.900000\n",
       "\n",
       "[8 rows x 15 columns]"
      ]
     },
     "metadata": {},
     "output_type": "display_data"
    }
   ],
   "source": [
    "df_combined_2020 = df_happiness_2020_prep\n",
    "df_combined_2020 = pd.merge(df_combined_2020,df_population_2020_prep, on='Country_name')\n",
    "df_combined_2020 = pd.merge(df_combined_2020,df_alcohol_2020_prep, on='Country_name')\n",
    "df_combined_2020 = pd.merge(df_combined_2020,df_fertility_2020_prep, on='Country_name')\n",
    "display(df_combined_2020.head(),df_combined_2020.info(),df_combined_2020.describe())"
   ]
  },
  {
   "cell_type": "markdown",
   "metadata": {
    "id": "U2F-ZqNznANe"
   },
   "source": [
    "\n",
    "\n",
    "---\n",
    "\n",
    "\n",
    "\n",
    "\n",
    "\n",
    "##  **Missing Data**\n",
    "\n",
    "We will be checking the missing data after combining all the datasets."
   ]
  },
  {
   "cell_type": "code",
   "execution_count": null,
   "metadata": {
    "colab": {
     "base_uri": "https://localhost:8080/"
    },
    "id": "zFFdRLho4-Gt",
    "outputId": "60567370-467d-4a10-cf47-32803aa36a3a"
   },
   "outputs": [
    {
     "data": {
      "text/plain": [
       "Country_name                    0\n",
       "Happniess_score                 0\n",
       "Logged_GDP_per_capita           0\n",
       "Social_support                  0\n",
       "Healthy_life_expectancy         0\n",
       "Freedom_to_make_life_choices    0\n",
       "Generosity                      0\n",
       "Population (2020)               0\n",
       "Population_Density              0\n",
       "Land_Area(Km²)                  0\n",
       "urban_rate                      0\n",
       "Fertility                       0\n",
       "suicide_per_100th               1\n",
       "alc_consumption                 2\n",
       "employ_rate                     2\n",
       "income_per_person               3\n",
       "dtype: int64"
      ]
     },
     "execution_count": 92,
     "metadata": {},
     "output_type": "execute_result"
    }
   ],
   "source": [
    "missing_counts = df_combined_2020.isna().sum().sort_values()\n",
    "missing_counts"
   ]
  },
  {
   "cell_type": "markdown",
   "metadata": {
    "id": "SqiPfIjk4-Ki"
   },
   "source": [
    "Since only last four columns have missing value and each column's  missing value is only few, we can replace the missing value for a particular column with the mean value for that column."
   ]
  },
  {
   "cell_type": "code",
   "execution_count": null,
   "metadata": {
    "colab": {
     "base_uri": "https://localhost:8080/"
    },
    "id": "WlsCTPwe4-Ot",
    "outputId": "d49285fe-8568-40a2-84f9-cf1dc6ba7a78"
   },
   "outputs": [
    {
     "data": {
      "text/plain": [
       "Country_name                    0\n",
       "Happniess_score                 0\n",
       "Logged_GDP_per_capita           0\n",
       "Social_support                  0\n",
       "Healthy_life_expectancy         0\n",
       "Freedom_to_make_life_choices    0\n",
       "Generosity                      0\n",
       "Population (2020)               0\n",
       "Population_Density              0\n",
       "Land_Area(Km²)                  0\n",
       "alc_consumption                 0\n",
       "income_per_person               0\n",
       "suicide_per_100th               0\n",
       "employ_rate                     0\n",
       "urban_rate                      0\n",
       "Fertility                       0\n",
       "dtype: int64"
      ]
     },
     "execution_count": 93,
     "metadata": {},
     "output_type": "execute_result"
    }
   ],
   "source": [
    "df_combined_2020 = df_combined_2020.fillna(df_combined_2020.mean())\n",
    "df_combined_2020.isna().sum().sort_values()"
   ]
  },
  {
   "cell_type": "markdown",
   "metadata": {
    "id": "vIGYS8YinANe"
   },
   "source": [
    "\n",
    "\n",
    "---\n",
    "\n",
    "\n",
    "## **Final Data Conversion**\n",
    "\n",
    "\n",
    "Now that we have dealt with missing data, and we see that all our data has stored in the right type. We will round off the float type data with less decimals."
   ]
  },
  {
   "cell_type": "code",
   "execution_count": null,
   "metadata": {
    "colab": {
     "base_uri": "https://localhost:8080/"
    },
    "id": "Kx6KZQmhBGeC",
    "outputId": "62f084b4-2239-4995-cc7e-94d4e6952dbf"
   },
   "outputs": [
    {
     "name": "stdout",
     "output_type": "stream",
     "text": [
      "<class 'pandas.core.frame.DataFrame'>\n",
      "Int64Index: 135 entries, 0 to 134\n",
      "Data columns (total 16 columns):\n",
      " #   Column                        Non-Null Count  Dtype  \n",
      "---  ------                        --------------  -----  \n",
      " 0   Country_name                  135 non-null    object \n",
      " 1   Happniess_score               135 non-null    float64\n",
      " 2   Logged_GDP_per_capita         135 non-null    float64\n",
      " 3   Social_support                135 non-null    float64\n",
      " 4   Healthy_life_expectancy       135 non-null    float64\n",
      " 5   Freedom_to_make_life_choices  135 non-null    float64\n",
      " 6   Generosity                    135 non-null    float64\n",
      " 7   Population (2020)             135 non-null    int64  \n",
      " 8   Population_Density            135 non-null    int64  \n",
      " 9   Land_Area(Km²)                135 non-null    int64  \n",
      " 10  alc_consumption               135 non-null    float64\n",
      " 11  income_per_person             135 non-null    float64\n",
      " 12  suicide_per_100th             135 non-null    float64\n",
      " 13  employ_rate                   135 non-null    float64\n",
      " 14  urban_rate                    135 non-null    float64\n",
      " 15  Fertility                     135 non-null    float64\n",
      "dtypes: float64(12), int64(3), object(1)\n",
      "memory usage: 17.9+ KB\n"
     ]
    }
   ],
   "source": [
    "df_combined_2020.info()"
   ]
  },
  {
   "cell_type": "code",
   "execution_count": null,
   "metadata": {
    "colab": {
     "base_uri": "https://localhost:8080/",
     "height": 444
    },
    "id": "YFTimYe6FgPu",
    "outputId": "5a198228-32a1-4a69-dd1a-c7f101489cbb"
   },
   "outputs": [
    {
     "data": {
      "text/html": [
       "<div>\n",
       "<style scoped>\n",
       "    .dataframe tbody tr th:only-of-type {\n",
       "        vertical-align: middle;\n",
       "    }\n",
       "\n",
       "    .dataframe tbody tr th {\n",
       "        vertical-align: top;\n",
       "    }\n",
       "\n",
       "    .dataframe thead th {\n",
       "        text-align: right;\n",
       "    }\n",
       "</style>\n",
       "<table border=\"1\" class=\"dataframe\">\n",
       "  <thead>\n",
       "    <tr style=\"text-align: right;\">\n",
       "      <th></th>\n",
       "      <th>Happniess_score</th>\n",
       "      <th>Logged_GDP_per_capita</th>\n",
       "      <th>Social_support</th>\n",
       "      <th>Healthy_life_expectancy</th>\n",
       "      <th>Freedom_to_make_life_choices</th>\n",
       "      <th>Generosity</th>\n",
       "      <th>alc_consumption</th>\n",
       "      <th>income_per_person</th>\n",
       "      <th>suicide_per_100th</th>\n",
       "      <th>employ_rate</th>\n",
       "      <th>urban_rate</th>\n",
       "      <th>Fertility</th>\n",
       "    </tr>\n",
       "  </thead>\n",
       "  <tbody>\n",
       "    <tr>\n",
       "      <th>0</th>\n",
       "      <td>7.8087</td>\n",
       "      <td>10.639267</td>\n",
       "      <td>0.954330</td>\n",
       "      <td>71.900825</td>\n",
       "      <td>0.949172</td>\n",
       "      <td>-0.059482</td>\n",
       "      <td>13.10</td>\n",
       "      <td>27110.731590</td>\n",
       "      <td>16.234370</td>\n",
       "      <td>57.200001</td>\n",
       "      <td>63.30</td>\n",
       "      <td>1.4</td>\n",
       "    </tr>\n",
       "    <tr>\n",
       "      <th>1</th>\n",
       "      <td>7.6456</td>\n",
       "      <td>10.774001</td>\n",
       "      <td>0.955991</td>\n",
       "      <td>72.402504</td>\n",
       "      <td>0.951444</td>\n",
       "      <td>0.066202</td>\n",
       "      <td>12.02</td>\n",
       "      <td>30532.277040</td>\n",
       "      <td>8.973104</td>\n",
       "      <td>63.099998</td>\n",
       "      <td>86.68</td>\n",
       "      <td>1.7</td>\n",
       "    </tr>\n",
       "    <tr>\n",
       "      <th>2</th>\n",
       "      <td>7.5599</td>\n",
       "      <td>10.979933</td>\n",
       "      <td>0.942847</td>\n",
       "      <td>74.102448</td>\n",
       "      <td>0.921337</td>\n",
       "      <td>0.105911</td>\n",
       "      <td>11.41</td>\n",
       "      <td>37662.751250</td>\n",
       "      <td>13.239810</td>\n",
       "      <td>64.300003</td>\n",
       "      <td>73.48</td>\n",
       "      <td>1.5</td>\n",
       "    </tr>\n",
       "    <tr>\n",
       "      <th>3</th>\n",
       "      <td>7.5045</td>\n",
       "      <td>10.772559</td>\n",
       "      <td>0.974670</td>\n",
       "      <td>73.000000</td>\n",
       "      <td>0.948892</td>\n",
       "      <td>0.246944</td>\n",
       "      <td>7.38</td>\n",
       "      <td>33945.314420</td>\n",
       "      <td>11.426181</td>\n",
       "      <td>73.599998</td>\n",
       "      <td>92.26</td>\n",
       "      <td>1.7</td>\n",
       "    </tr>\n",
       "    <tr>\n",
       "      <th>4</th>\n",
       "      <td>7.4880</td>\n",
       "      <td>11.087804</td>\n",
       "      <td>0.952487</td>\n",
       "      <td>73.200783</td>\n",
       "      <td>0.955750</td>\n",
       "      <td>0.134533</td>\n",
       "      <td>8.35</td>\n",
       "      <td>39972.352770</td>\n",
       "      <td>10.823000</td>\n",
       "      <td>65.000000</td>\n",
       "      <td>77.48</td>\n",
       "      <td>1.6</td>\n",
       "    </tr>\n",
       "    <tr>\n",
       "      <th>...</th>\n",
       "      <td>...</td>\n",
       "      <td>...</td>\n",
       "      <td>...</td>\n",
       "      <td>...</td>\n",
       "      <td>...</td>\n",
       "      <td>...</td>\n",
       "      <td>...</td>\n",
       "      <td>...</td>\n",
       "      <td>...</td>\n",
       "      <td>...</td>\n",
       "      <td>...</td>\n",
       "      <td>...</td>\n",
       "    </tr>\n",
       "    <tr>\n",
       "      <th>130</th>\n",
       "      <td>3.4789</td>\n",
       "      <td>9.711204</td>\n",
       "      <td>0.779122</td>\n",
       "      <td>58.924454</td>\n",
       "      <td>0.821328</td>\n",
       "      <td>-0.250394</td>\n",
       "      <td>6.97</td>\n",
       "      <td>4189.436587</td>\n",
       "      <td>11.213970</td>\n",
       "      <td>46.000000</td>\n",
       "      <td>59.58</td>\n",
       "      <td>2.9</td>\n",
       "    </tr>\n",
       "    <tr>\n",
       "      <th>131</th>\n",
       "      <td>3.4762</td>\n",
       "      <td>7.967665</td>\n",
       "      <td>0.688933</td>\n",
       "      <td>57.496075</td>\n",
       "      <td>0.821540</td>\n",
       "      <td>0.109669</td>\n",
       "      <td>7.86</td>\n",
       "      <td>456.385712</td>\n",
       "      <td>12.411181</td>\n",
       "      <td>78.199997</td>\n",
       "      <td>25.52</td>\n",
       "      <td>4.9</td>\n",
       "    </tr>\n",
       "    <tr>\n",
       "      <th>132</th>\n",
       "      <td>3.3123</td>\n",
       "      <td>7.600104</td>\n",
       "      <td>0.540835</td>\n",
       "      <td>61.098846</td>\n",
       "      <td>0.900589</td>\n",
       "      <td>0.055484</td>\n",
       "      <td>9.99</td>\n",
       "      <td>338.266391</td>\n",
       "      <td>13.117949</td>\n",
       "      <td>79.800003</td>\n",
       "      <td>18.34</td>\n",
       "      <td>4.0</td>\n",
       "    </tr>\n",
       "    <tr>\n",
       "      <th>133</th>\n",
       "      <td>3.2992</td>\n",
       "      <td>7.865712</td>\n",
       "      <td>0.763093</td>\n",
       "      <td>55.617260</td>\n",
       "      <td>0.711458</td>\n",
       "      <td>-0.072064</td>\n",
       "      <td>4.96</td>\n",
       "      <td>320.771890</td>\n",
       "      <td>13.905267</td>\n",
       "      <td>66.800003</td>\n",
       "      <td>37.34</td>\n",
       "      <td>3.6</td>\n",
       "    </tr>\n",
       "    <tr>\n",
       "      <th>134</th>\n",
       "      <td>2.5669</td>\n",
       "      <td>7.462861</td>\n",
       "      <td>0.470367</td>\n",
       "      <td>52.590000</td>\n",
       "      <td>0.396573</td>\n",
       "      <td>-0.096429</td>\n",
       "      <td>0.03</td>\n",
       "      <td>7681.110204</td>\n",
       "      <td>6.684385</td>\n",
       "      <td>55.700001</td>\n",
       "      <td>24.04</td>\n",
       "      <td>4.5</td>\n",
       "    </tr>\n",
       "  </tbody>\n",
       "</table>\n",
       "<p>135 rows × 12 columns</p>\n",
       "</div>"
      ],
      "text/plain": [
       "     Happniess_score  Logged_GDP_per_capita  ...  urban_rate  Fertility\n",
       "0             7.8087              10.639267  ...       63.30        1.4\n",
       "1             7.6456              10.774001  ...       86.68        1.7\n",
       "2             7.5599              10.979933  ...       73.48        1.5\n",
       "3             7.5045              10.772559  ...       92.26        1.7\n",
       "4             7.4880              11.087804  ...       77.48        1.6\n",
       "..               ...                    ...  ...         ...        ...\n",
       "130           3.4789               9.711204  ...       59.58        2.9\n",
       "131           3.4762               7.967665  ...       25.52        4.9\n",
       "132           3.3123               7.600104  ...       18.34        4.0\n",
       "133           3.2992               7.865712  ...       37.34        3.6\n",
       "134           2.5669               7.462861  ...       24.04        4.5\n",
       "\n",
       "[135 rows x 12 columns]"
      ]
     },
     "execution_count": 95,
     "metadata": {},
     "output_type": "execute_result"
    }
   ],
   "source": [
    "df_num = df_combined_2020.select_dtypes(include=[np.float])\n",
    "df_num"
   ]
  },
  {
   "cell_type": "code",
   "execution_count": null,
   "metadata": {
    "colab": {
     "base_uri": "https://localhost:8080/",
     "height": 226
    },
    "id": "3RoAL302GImi",
    "outputId": "c0834350-04aa-495e-ffca-586da0106b79"
   },
   "outputs": [
    {
     "data": {
      "text/html": [
       "<div>\n",
       "<style scoped>\n",
       "    .dataframe tbody tr th:only-of-type {\n",
       "        vertical-align: middle;\n",
       "    }\n",
       "\n",
       "    .dataframe tbody tr th {\n",
       "        vertical-align: top;\n",
       "    }\n",
       "\n",
       "    .dataframe thead th {\n",
       "        text-align: right;\n",
       "    }\n",
       "</style>\n",
       "<table border=\"1\" class=\"dataframe\">\n",
       "  <thead>\n",
       "    <tr style=\"text-align: right;\">\n",
       "      <th></th>\n",
       "      <th>Happniess_score</th>\n",
       "      <th>Logged_GDP_per_capita</th>\n",
       "      <th>Social_support</th>\n",
       "      <th>Healthy_life_expectancy</th>\n",
       "      <th>Freedom_to_make_life_choices</th>\n",
       "      <th>Generosity</th>\n",
       "      <th>alc_consumption</th>\n",
       "      <th>income_per_person</th>\n",
       "      <th>suicide_per_100th</th>\n",
       "      <th>employ_rate</th>\n",
       "      <th>urban_rate</th>\n",
       "      <th>Fertility</th>\n",
       "    </tr>\n",
       "  </thead>\n",
       "  <tbody>\n",
       "    <tr>\n",
       "      <th>0</th>\n",
       "      <td>7</td>\n",
       "      <td>10</td>\n",
       "      <td>0</td>\n",
       "      <td>71</td>\n",
       "      <td>0</td>\n",
       "      <td>0</td>\n",
       "      <td>13</td>\n",
       "      <td>27110</td>\n",
       "      <td>16</td>\n",
       "      <td>57</td>\n",
       "      <td>63</td>\n",
       "      <td>1</td>\n",
       "    </tr>\n",
       "    <tr>\n",
       "      <th>1</th>\n",
       "      <td>7</td>\n",
       "      <td>10</td>\n",
       "      <td>0</td>\n",
       "      <td>72</td>\n",
       "      <td>0</td>\n",
       "      <td>0</td>\n",
       "      <td>12</td>\n",
       "      <td>30532</td>\n",
       "      <td>8</td>\n",
       "      <td>63</td>\n",
       "      <td>86</td>\n",
       "      <td>1</td>\n",
       "    </tr>\n",
       "    <tr>\n",
       "      <th>2</th>\n",
       "      <td>7</td>\n",
       "      <td>10</td>\n",
       "      <td>0</td>\n",
       "      <td>74</td>\n",
       "      <td>0</td>\n",
       "      <td>0</td>\n",
       "      <td>11</td>\n",
       "      <td>37662</td>\n",
       "      <td>13</td>\n",
       "      <td>64</td>\n",
       "      <td>73</td>\n",
       "      <td>1</td>\n",
       "    </tr>\n",
       "    <tr>\n",
       "      <th>3</th>\n",
       "      <td>7</td>\n",
       "      <td>10</td>\n",
       "      <td>0</td>\n",
       "      <td>73</td>\n",
       "      <td>0</td>\n",
       "      <td>0</td>\n",
       "      <td>7</td>\n",
       "      <td>33945</td>\n",
       "      <td>11</td>\n",
       "      <td>73</td>\n",
       "      <td>92</td>\n",
       "      <td>1</td>\n",
       "    </tr>\n",
       "    <tr>\n",
       "      <th>4</th>\n",
       "      <td>7</td>\n",
       "      <td>11</td>\n",
       "      <td>0</td>\n",
       "      <td>73</td>\n",
       "      <td>0</td>\n",
       "      <td>0</td>\n",
       "      <td>8</td>\n",
       "      <td>39972</td>\n",
       "      <td>10</td>\n",
       "      <td>65</td>\n",
       "      <td>77</td>\n",
       "      <td>1</td>\n",
       "    </tr>\n",
       "  </tbody>\n",
       "</table>\n",
       "</div>"
      ],
      "text/plain": [
       "   Happniess_score  Logged_GDP_per_capita  ...  urban_rate  Fertility\n",
       "0                7                     10  ...          63          1\n",
       "1                7                     10  ...          86          1\n",
       "2                7                     10  ...          73          1\n",
       "3                7                     10  ...          92          1\n",
       "4                7                     11  ...          77          1\n",
       "\n",
       "[5 rows x 12 columns]"
      ]
     },
     "execution_count": 96,
     "metadata": {},
     "output_type": "execute_result"
    }
   ],
   "source": [
    "integer_cols=['Happniess_score', 'Logged_GDP_per_capita', 'Social_support', 'Healthy_life_expectancy', 'Freedom_to_make_life_choices', 'Generosity',\n",
    "              'alc_consumption', 'income_per_person', 'suicide_per_100th', 'employ_rate', 'urban_rate', 'Fertility']\n",
    "df_combined_int=df_combined_2020.copy()\n",
    "df_combined_int.loc[:,integer_cols] = np.int64(df_combined_int.loc[:,integer_cols])\n",
    "df_combined_int[integer_cols].head()"
   ]
  },
  {
   "cell_type": "code",
   "execution_count": null,
   "metadata": {
    "colab": {
     "base_uri": "https://localhost:8080/",
     "height": 226
    },
    "id": "rqbxb24VLCIu",
    "outputId": "57c21536-e2a0-40c1-bbc4-6f6b275ac06f"
   },
   "outputs": [
    {
     "data": {
      "text/html": [
       "<div>\n",
       "<style scoped>\n",
       "    .dataframe tbody tr th:only-of-type {\n",
       "        vertical-align: middle;\n",
       "    }\n",
       "\n",
       "    .dataframe tbody tr th {\n",
       "        vertical-align: top;\n",
       "    }\n",
       "\n",
       "    .dataframe thead th {\n",
       "        text-align: right;\n",
       "    }\n",
       "</style>\n",
       "<table border=\"1\" class=\"dataframe\">\n",
       "  <thead>\n",
       "    <tr style=\"text-align: right;\">\n",
       "      <th></th>\n",
       "      <th>Happniess_score</th>\n",
       "      <th>Logged_GDP_per_capita</th>\n",
       "      <th>Social_support</th>\n",
       "      <th>Healthy_life_expectancy</th>\n",
       "      <th>Freedom_to_make_life_choices</th>\n",
       "      <th>Generosity</th>\n",
       "      <th>alc_consumption</th>\n",
       "      <th>income_per_person</th>\n",
       "      <th>suicide_per_100th</th>\n",
       "      <th>employ_rate</th>\n",
       "      <th>urban_rate</th>\n",
       "      <th>Fertility</th>\n",
       "    </tr>\n",
       "  </thead>\n",
       "  <tbody>\n",
       "    <tr>\n",
       "      <th>0</th>\n",
       "      <td>7.8</td>\n",
       "      <td>10.6</td>\n",
       "      <td>0.954</td>\n",
       "      <td>71.9</td>\n",
       "      <td>0.949</td>\n",
       "      <td>-0.059</td>\n",
       "      <td>13.1</td>\n",
       "      <td>27110.7</td>\n",
       "      <td>16.2</td>\n",
       "      <td>57.2</td>\n",
       "      <td>63.3</td>\n",
       "      <td>1.4</td>\n",
       "    </tr>\n",
       "    <tr>\n",
       "      <th>1</th>\n",
       "      <td>7.6</td>\n",
       "      <td>10.8</td>\n",
       "      <td>0.956</td>\n",
       "      <td>72.4</td>\n",
       "      <td>0.951</td>\n",
       "      <td>0.066</td>\n",
       "      <td>12.0</td>\n",
       "      <td>30532.3</td>\n",
       "      <td>9.0</td>\n",
       "      <td>63.1</td>\n",
       "      <td>86.7</td>\n",
       "      <td>1.7</td>\n",
       "    </tr>\n",
       "    <tr>\n",
       "      <th>2</th>\n",
       "      <td>7.6</td>\n",
       "      <td>11.0</td>\n",
       "      <td>0.943</td>\n",
       "      <td>74.1</td>\n",
       "      <td>0.921</td>\n",
       "      <td>0.106</td>\n",
       "      <td>11.4</td>\n",
       "      <td>37662.8</td>\n",
       "      <td>13.2</td>\n",
       "      <td>64.3</td>\n",
       "      <td>73.5</td>\n",
       "      <td>1.5</td>\n",
       "    </tr>\n",
       "    <tr>\n",
       "      <th>3</th>\n",
       "      <td>7.5</td>\n",
       "      <td>10.8</td>\n",
       "      <td>0.975</td>\n",
       "      <td>73.0</td>\n",
       "      <td>0.949</td>\n",
       "      <td>0.247</td>\n",
       "      <td>7.4</td>\n",
       "      <td>33945.3</td>\n",
       "      <td>11.4</td>\n",
       "      <td>73.6</td>\n",
       "      <td>92.3</td>\n",
       "      <td>1.7</td>\n",
       "    </tr>\n",
       "    <tr>\n",
       "      <th>4</th>\n",
       "      <td>7.5</td>\n",
       "      <td>11.1</td>\n",
       "      <td>0.952</td>\n",
       "      <td>73.2</td>\n",
       "      <td>0.956</td>\n",
       "      <td>0.135</td>\n",
       "      <td>8.4</td>\n",
       "      <td>39972.4</td>\n",
       "      <td>10.8</td>\n",
       "      <td>65.0</td>\n",
       "      <td>77.5</td>\n",
       "      <td>1.6</td>\n",
       "    </tr>\n",
       "  </tbody>\n",
       "</table>\n",
       "</div>"
      ],
      "text/plain": [
       "   Happniess_score  Logged_GDP_per_capita  ...  urban_rate  Fertility\n",
       "0              7.8                   10.6  ...        63.3        1.4\n",
       "1              7.6                   10.8  ...        86.7        1.7\n",
       "2              7.6                   11.0  ...        73.5        1.5\n",
       "3              7.5                   10.8  ...        92.3        1.7\n",
       "4              7.5                   11.1  ...        77.5        1.6\n",
       "\n",
       "[5 rows x 12 columns]"
      ]
     },
     "execution_count": 97,
     "metadata": {},
     "output_type": "execute_result"
    }
   ],
   "source": [
    "df_combined_float=df_combined_2020.copy()\n",
    "for col in integer_cols:\n",
    "    if ((col == 'Generosity') | (col == 'Freedom_to_make_life_choices') | (col == 'Social_support')):\n",
    "        df_combined_float[col] = df_combined_float[col].round(3)\n",
    "    else:\n",
    "        df_combined_float[col] = df_combined_float[col].round(1)\n",
    "df_combined_float[integer_cols].head() "
   ]
  },
  {
   "cell_type": "code",
   "execution_count": null,
   "metadata": {
    "colab": {
     "base_uri": "https://localhost:8080/",
     "height": 244
    },
    "id": "KfRnHk3HR_Kl",
    "outputId": "dc7e6fa2-a2b5-4a89-da64-0057072fa2db"
   },
   "outputs": [
    {
     "data": {
      "text/html": [
       "<div>\n",
       "<style scoped>\n",
       "    .dataframe tbody tr th:only-of-type {\n",
       "        vertical-align: middle;\n",
       "    }\n",
       "\n",
       "    .dataframe tbody tr th {\n",
       "        vertical-align: top;\n",
       "    }\n",
       "\n",
       "    .dataframe thead th {\n",
       "        text-align: right;\n",
       "    }\n",
       "</style>\n",
       "<table border=\"1\" class=\"dataframe\">\n",
       "  <thead>\n",
       "    <tr style=\"text-align: right;\">\n",
       "      <th></th>\n",
       "      <th>Country_name</th>\n",
       "      <th>Happniess_score</th>\n",
       "      <th>Logged_GDP_per_capita</th>\n",
       "      <th>Social_support</th>\n",
       "      <th>Healthy_life_expectancy</th>\n",
       "      <th>Freedom_to_make_life_choices</th>\n",
       "      <th>Generosity</th>\n",
       "      <th>Population (2020)</th>\n",
       "      <th>Population_Density</th>\n",
       "      <th>Land_Area(Km²)</th>\n",
       "      <th>alc_consumption</th>\n",
       "      <th>income_per_person</th>\n",
       "      <th>suicide_per_100th</th>\n",
       "      <th>employ_rate</th>\n",
       "      <th>urban_rate</th>\n",
       "      <th>Fertility</th>\n",
       "    </tr>\n",
       "  </thead>\n",
       "  <tbody>\n",
       "    <tr>\n",
       "      <th>0</th>\n",
       "      <td>Finland</td>\n",
       "      <td>7.809</td>\n",
       "      <td>10.639</td>\n",
       "      <td>0.954</td>\n",
       "      <td>71.901</td>\n",
       "      <td>0.949</td>\n",
       "      <td>-0.059</td>\n",
       "      <td>5542237</td>\n",
       "      <td>18</td>\n",
       "      <td>303890</td>\n",
       "      <td>13.10</td>\n",
       "      <td>27110.732</td>\n",
       "      <td>16.234</td>\n",
       "      <td>57.2</td>\n",
       "      <td>63.30</td>\n",
       "      <td>1.4</td>\n",
       "    </tr>\n",
       "    <tr>\n",
       "      <th>1</th>\n",
       "      <td>Denmark</td>\n",
       "      <td>7.646</td>\n",
       "      <td>10.774</td>\n",
       "      <td>0.956</td>\n",
       "      <td>72.403</td>\n",
       "      <td>0.951</td>\n",
       "      <td>0.066</td>\n",
       "      <td>5795780</td>\n",
       "      <td>137</td>\n",
       "      <td>42430</td>\n",
       "      <td>12.02</td>\n",
       "      <td>30532.277</td>\n",
       "      <td>8.973</td>\n",
       "      <td>63.1</td>\n",
       "      <td>86.68</td>\n",
       "      <td>1.7</td>\n",
       "    </tr>\n",
       "    <tr>\n",
       "      <th>2</th>\n",
       "      <td>Switzerland</td>\n",
       "      <td>7.560</td>\n",
       "      <td>10.980</td>\n",
       "      <td>0.943</td>\n",
       "      <td>74.102</td>\n",
       "      <td>0.921</td>\n",
       "      <td>0.106</td>\n",
       "      <td>8665615</td>\n",
       "      <td>219</td>\n",
       "      <td>39516</td>\n",
       "      <td>11.41</td>\n",
       "      <td>37662.751</td>\n",
       "      <td>13.240</td>\n",
       "      <td>64.3</td>\n",
       "      <td>73.48</td>\n",
       "      <td>1.5</td>\n",
       "    </tr>\n",
       "    <tr>\n",
       "      <th>3</th>\n",
       "      <td>Iceland</td>\n",
       "      <td>7.504</td>\n",
       "      <td>10.773</td>\n",
       "      <td>0.975</td>\n",
       "      <td>73.000</td>\n",
       "      <td>0.949</td>\n",
       "      <td>0.247</td>\n",
       "      <td>341628</td>\n",
       "      <td>3</td>\n",
       "      <td>100250</td>\n",
       "      <td>7.38</td>\n",
       "      <td>33945.314</td>\n",
       "      <td>11.426</td>\n",
       "      <td>73.6</td>\n",
       "      <td>92.26</td>\n",
       "      <td>1.7</td>\n",
       "    </tr>\n",
       "    <tr>\n",
       "      <th>4</th>\n",
       "      <td>Norway</td>\n",
       "      <td>7.488</td>\n",
       "      <td>11.088</td>\n",
       "      <td>0.952</td>\n",
       "      <td>73.201</td>\n",
       "      <td>0.956</td>\n",
       "      <td>0.135</td>\n",
       "      <td>5428594</td>\n",
       "      <td>15</td>\n",
       "      <td>365268</td>\n",
       "      <td>8.35</td>\n",
       "      <td>39972.353</td>\n",
       "      <td>10.823</td>\n",
       "      <td>65.0</td>\n",
       "      <td>77.48</td>\n",
       "      <td>1.6</td>\n",
       "    </tr>\n",
       "  </tbody>\n",
       "</table>\n",
       "</div>"
      ],
      "text/plain": [
       "  Country_name  Happniess_score  ...  urban_rate  Fertility\n",
       "0      Finland            7.809  ...       63.30        1.4\n",
       "1      Denmark            7.646  ...       86.68        1.7\n",
       "2  Switzerland            7.560  ...       73.48        1.5\n",
       "3      Iceland            7.504  ...       92.26        1.7\n",
       "4       Norway            7.488  ...       77.48        1.6\n",
       "\n",
       "[5 rows x 16 columns]"
      ]
     },
     "execution_count": 98,
     "metadata": {},
     "output_type": "execute_result"
    }
   ],
   "source": [
    "df_combined_float=df_combined_2020.copy()\n",
    "for col in list(df_combined_float.columns):\n",
    "    if ((col == 'Population (2020)') | (col == 'Population_Density') | (col == 'Land_Area(Km²)')| (col == 'Country_name')):\n",
    "        df_combined_float[col] = df_combined_float[col]\n",
    "    else:\n",
    "        df_combined_float[col]= df_combined_float[col].round(3)\n",
    "df_combined_float.head() "
   ]
  },
  {
   "cell_type": "code",
   "execution_count": null,
   "metadata": {
    "id": "ugkrFSrlUdwg"
   },
   "outputs": [],
   "source": [
    "df_combined_2020 = df_combined_float\n",
    "df_combined_2020['suicide_per_100th'] = df_combined_2020['suicide_per_100th'].astype(int).round()\n",
    "df_combined_2020['Fertility'] = df_combined_2020['Fertility'].astype(int).round()"
   ]
  },
  {
   "cell_type": "code",
   "execution_count": null,
   "metadata": {
    "colab": {
     "base_uri": "https://localhost:8080/",
     "height": 244
    },
    "id": "Iigm3z9LTGOm",
    "outputId": "91e75b27-09bd-4f58-e234-a4b659dd0b5f"
   },
   "outputs": [
    {
     "data": {
      "text/html": [
       "<div>\n",
       "<style scoped>\n",
       "    .dataframe tbody tr th:only-of-type {\n",
       "        vertical-align: middle;\n",
       "    }\n",
       "\n",
       "    .dataframe tbody tr th {\n",
       "        vertical-align: top;\n",
       "    }\n",
       "\n",
       "    .dataframe thead th {\n",
       "        text-align: right;\n",
       "    }\n",
       "</style>\n",
       "<table border=\"1\" class=\"dataframe\">\n",
       "  <thead>\n",
       "    <tr style=\"text-align: right;\">\n",
       "      <th></th>\n",
       "      <th>Country_name</th>\n",
       "      <th>Happniess_score</th>\n",
       "      <th>Logged_GDP_per_capita</th>\n",
       "      <th>Social_support</th>\n",
       "      <th>Healthy_life_expectancy</th>\n",
       "      <th>Freedom_to_make_life_choices</th>\n",
       "      <th>Generosity</th>\n",
       "      <th>Population (2020)</th>\n",
       "      <th>Population_Density</th>\n",
       "      <th>Land_Area(Km²)</th>\n",
       "      <th>alc_consumption</th>\n",
       "      <th>income_per_person</th>\n",
       "      <th>suicide_per_100th</th>\n",
       "      <th>employ_rate</th>\n",
       "      <th>urban_rate</th>\n",
       "      <th>Fertility</th>\n",
       "    </tr>\n",
       "  </thead>\n",
       "  <tbody>\n",
       "    <tr>\n",
       "      <th>0</th>\n",
       "      <td>Finland</td>\n",
       "      <td>7.809</td>\n",
       "      <td>10.639</td>\n",
       "      <td>0.954</td>\n",
       "      <td>71.901</td>\n",
       "      <td>0.949</td>\n",
       "      <td>-0.059</td>\n",
       "      <td>5542237</td>\n",
       "      <td>18</td>\n",
       "      <td>303890</td>\n",
       "      <td>13.10</td>\n",
       "      <td>27110.732</td>\n",
       "      <td>16</td>\n",
       "      <td>57.2</td>\n",
       "      <td>63.30</td>\n",
       "      <td>1</td>\n",
       "    </tr>\n",
       "    <tr>\n",
       "      <th>1</th>\n",
       "      <td>Denmark</td>\n",
       "      <td>7.646</td>\n",
       "      <td>10.774</td>\n",
       "      <td>0.956</td>\n",
       "      <td>72.403</td>\n",
       "      <td>0.951</td>\n",
       "      <td>0.066</td>\n",
       "      <td>5795780</td>\n",
       "      <td>137</td>\n",
       "      <td>42430</td>\n",
       "      <td>12.02</td>\n",
       "      <td>30532.277</td>\n",
       "      <td>8</td>\n",
       "      <td>63.1</td>\n",
       "      <td>86.68</td>\n",
       "      <td>1</td>\n",
       "    </tr>\n",
       "    <tr>\n",
       "      <th>2</th>\n",
       "      <td>Switzerland</td>\n",
       "      <td>7.560</td>\n",
       "      <td>10.980</td>\n",
       "      <td>0.943</td>\n",
       "      <td>74.102</td>\n",
       "      <td>0.921</td>\n",
       "      <td>0.106</td>\n",
       "      <td>8665615</td>\n",
       "      <td>219</td>\n",
       "      <td>39516</td>\n",
       "      <td>11.41</td>\n",
       "      <td>37662.751</td>\n",
       "      <td>13</td>\n",
       "      <td>64.3</td>\n",
       "      <td>73.48</td>\n",
       "      <td>1</td>\n",
       "    </tr>\n",
       "    <tr>\n",
       "      <th>3</th>\n",
       "      <td>Iceland</td>\n",
       "      <td>7.504</td>\n",
       "      <td>10.773</td>\n",
       "      <td>0.975</td>\n",
       "      <td>73.000</td>\n",
       "      <td>0.949</td>\n",
       "      <td>0.247</td>\n",
       "      <td>341628</td>\n",
       "      <td>3</td>\n",
       "      <td>100250</td>\n",
       "      <td>7.38</td>\n",
       "      <td>33945.314</td>\n",
       "      <td>11</td>\n",
       "      <td>73.6</td>\n",
       "      <td>92.26</td>\n",
       "      <td>1</td>\n",
       "    </tr>\n",
       "    <tr>\n",
       "      <th>4</th>\n",
       "      <td>Norway</td>\n",
       "      <td>7.488</td>\n",
       "      <td>11.088</td>\n",
       "      <td>0.952</td>\n",
       "      <td>73.201</td>\n",
       "      <td>0.956</td>\n",
       "      <td>0.135</td>\n",
       "      <td>5428594</td>\n",
       "      <td>15</td>\n",
       "      <td>365268</td>\n",
       "      <td>8.35</td>\n",
       "      <td>39972.353</td>\n",
       "      <td>10</td>\n",
       "      <td>65.0</td>\n",
       "      <td>77.48</td>\n",
       "      <td>1</td>\n",
       "    </tr>\n",
       "  </tbody>\n",
       "</table>\n",
       "</div>"
      ],
      "text/plain": [
       "  Country_name  Happniess_score  ...  urban_rate  Fertility\n",
       "0      Finland            7.809  ...       63.30          1\n",
       "1      Denmark            7.646  ...       86.68          1\n",
       "2  Switzerland            7.560  ...       73.48          1\n",
       "3      Iceland            7.504  ...       92.26          1\n",
       "4       Norway            7.488  ...       77.48          1\n",
       "\n",
       "[5 rows x 16 columns]"
      ]
     },
     "execution_count": 100,
     "metadata": {},
     "output_type": "execute_result"
    }
   ],
   "source": [
    "\n",
    "df_combined_2020.head(5)"
   ]
  },
  {
   "cell_type": "markdown",
   "metadata": {
    "id": "B2OFy7HiivYU"
   },
   "source": [
    "\n",
    "\n",
    "---\n",
    "\n",
    "\n",
    "\n",
    "## **Data Analysis - Correlations and linear Regression**\n",
    "\n",
    "In this section, we will first look at the correlation relationships between *Happiness Score* and other factors. Also, from the results, we can conclude that which factor(s) have contribute the most or have the most impact on the *Happiness Score*."
   ]
  },
  {
   "cell_type": "markdown",
   "metadata": {
    "id": "gr3Smiv1dmqA"
   },
   "source": [
    "### **Find Correlations**\n",
    "\n",
    "We will find correlations between each factor, and most importantly the correlations between *'Happiness_score'* and other factors.\n",
    "\n",
    "Before start finding correlations, we need to know that in statistics the correlation coefficient, *r*, is always between +1 and -1. And its values are usually based on the following:\n",
    "\n",
    "*   **weak** correlation \\: 0 < |r| <= 0.3\n",
    "*   **moderate** correlation\\:   0.3 < |r| < 0.7\n",
    "*   **strong** correlation\\:   |r| => 0.7\n",
    "\n",
    "            \n",
    "  \n",
    "                   "
   ]
  },
  {
   "cell_type": "code",
   "execution_count": null,
   "metadata": {
    "colab": {
     "base_uri": "https://localhost:8080/",
     "height": 847
    },
    "id": "GBc5bQZPdmqB",
    "outputId": "0b35d55e-bda8-4134-eac4-8bc04283ecd4"
   },
   "outputs": [
    {
     "data": {
      "text/html": [
       "<div>\n",
       "<style scoped>\n",
       "    .dataframe tbody tr th:only-of-type {\n",
       "        vertical-align: middle;\n",
       "    }\n",
       "\n",
       "    .dataframe tbody tr th {\n",
       "        vertical-align: top;\n",
       "    }\n",
       "\n",
       "    .dataframe thead th {\n",
       "        text-align: right;\n",
       "    }\n",
       "</style>\n",
       "<table border=\"1\" class=\"dataframe\">\n",
       "  <thead>\n",
       "    <tr style=\"text-align: right;\">\n",
       "      <th></th>\n",
       "      <th>Happniess_score</th>\n",
       "      <th>Logged_GDP_per_capita</th>\n",
       "      <th>Social_support</th>\n",
       "      <th>Healthy_life_expectancy</th>\n",
       "      <th>Freedom_to_make_life_choices</th>\n",
       "      <th>Generosity</th>\n",
       "      <th>Population (2020)</th>\n",
       "      <th>Population_Density</th>\n",
       "      <th>Land_Area(Km²)</th>\n",
       "      <th>alc_consumption</th>\n",
       "      <th>income_per_person</th>\n",
       "      <th>suicide_per_100th</th>\n",
       "      <th>employ_rate</th>\n",
       "      <th>urban_rate</th>\n",
       "      <th>Fertility</th>\n",
       "    </tr>\n",
       "  </thead>\n",
       "  <tbody>\n",
       "    <tr>\n",
       "      <th>Happniess_score</th>\n",
       "      <td>1.000000</td>\n",
       "      <td>0.771463</td>\n",
       "      <td>0.774020</td>\n",
       "      <td>0.779419</td>\n",
       "      <td>0.558586</td>\n",
       "      <td>0.090879</td>\n",
       "      <td>-0.122636</td>\n",
       "      <td>0.069454</td>\n",
       "      <td>0.089317</td>\n",
       "      <td>0.357067</td>\n",
       "      <td>0.701148</td>\n",
       "      <td>0.020095</td>\n",
       "      <td>-0.106151</td>\n",
       "      <td>0.658291</td>\n",
       "      <td>-0.662773</td>\n",
       "    </tr>\n",
       "    <tr>\n",
       "      <th>Logged_GDP_per_capita</th>\n",
       "      <td>0.771463</td>\n",
       "      <td>1.000000</td>\n",
       "      <td>0.781943</td>\n",
       "      <td>0.838754</td>\n",
       "      <td>0.399390</td>\n",
       "      <td>-0.092896</td>\n",
       "      <td>-0.005060</td>\n",
       "      <td>0.161625</td>\n",
       "      <td>0.139609</td>\n",
       "      <td>0.372536</td>\n",
       "      <td>0.704777</td>\n",
       "      <td>0.121740</td>\n",
       "      <td>-0.365374</td>\n",
       "      <td>0.764542</td>\n",
       "      <td>-0.810994</td>\n",
       "    </tr>\n",
       "    <tr>\n",
       "      <th>Social_support</th>\n",
       "      <td>0.774020</td>\n",
       "      <td>0.781943</td>\n",
       "      <td>1.000000</td>\n",
       "      <td>0.728910</td>\n",
       "      <td>0.458318</td>\n",
       "      <td>-0.015116</td>\n",
       "      <td>-0.128619</td>\n",
       "      <td>0.062568</td>\n",
       "      <td>0.116325</td>\n",
       "      <td>0.452358</td>\n",
       "      <td>0.515390</td>\n",
       "      <td>0.203550</td>\n",
       "      <td>-0.251604</td>\n",
       "      <td>0.609510</td>\n",
       "      <td>-0.733766</td>\n",
       "    </tr>\n",
       "    <tr>\n",
       "      <th>Healthy_life_expectancy</th>\n",
       "      <td>0.779419</td>\n",
       "      <td>0.838754</td>\n",
       "      <td>0.728910</td>\n",
       "      <td>1.000000</td>\n",
       "      <td>0.428631</td>\n",
       "      <td>-0.069654</td>\n",
       "      <td>-0.020702</td>\n",
       "      <td>0.192341</td>\n",
       "      <td>0.054433</td>\n",
       "      <td>0.343766</td>\n",
       "      <td>0.642550</td>\n",
       "      <td>0.050184</td>\n",
       "      <td>-0.252607</td>\n",
       "      <td>0.664360</td>\n",
       "      <td>-0.846699</td>\n",
       "    </tr>\n",
       "    <tr>\n",
       "      <th>Freedom_to_make_life_choices</th>\n",
       "      <td>0.558586</td>\n",
       "      <td>0.399390</td>\n",
       "      <td>0.458318</td>\n",
       "      <td>0.428631</td>\n",
       "      <td>1.000000</td>\n",
       "      <td>0.271750</td>\n",
       "      <td>0.104062</td>\n",
       "      <td>0.145552</td>\n",
       "      <td>0.041376</td>\n",
       "      <td>0.123935</td>\n",
       "      <td>0.372925</td>\n",
       "      <td>0.102146</td>\n",
       "      <td>0.259647</td>\n",
       "      <td>0.178925</td>\n",
       "      <td>-0.398102</td>\n",
       "    </tr>\n",
       "    <tr>\n",
       "      <th>Generosity</th>\n",
       "      <td>0.090879</td>\n",
       "      <td>-0.092896</td>\n",
       "      <td>-0.015116</td>\n",
       "      <td>-0.069654</td>\n",
       "      <td>0.271750</td>\n",
       "      <td>1.000000</td>\n",
       "      <td>0.004213</td>\n",
       "      <td>0.090580</td>\n",
       "      <td>-0.018914</td>\n",
       "      <td>-0.213853</td>\n",
       "      <td>0.170372</td>\n",
       "      <td>0.005849</td>\n",
       "      <td>0.373469</td>\n",
       "      <td>-0.156636</td>\n",
       "      <td>0.054248</td>\n",
       "    </tr>\n",
       "    <tr>\n",
       "      <th>Population (2020)</th>\n",
       "      <td>-0.122636</td>\n",
       "      <td>-0.005060</td>\n",
       "      <td>-0.128619</td>\n",
       "      <td>-0.020702</td>\n",
       "      <td>0.104062</td>\n",
       "      <td>0.004213</td>\n",
       "      <td>1.000000</td>\n",
       "      <td>-0.000452</td>\n",
       "      <td>0.430763</td>\n",
       "      <td>-0.088785</td>\n",
       "      <td>-0.053859</td>\n",
       "      <td>0.145056</td>\n",
       "      <td>0.068052</td>\n",
       "      <td>-0.106431</td>\n",
       "      <td>-0.047434</td>\n",
       "    </tr>\n",
       "    <tr>\n",
       "      <th>Population_Density</th>\n",
       "      <td>0.069454</td>\n",
       "      <td>0.161625</td>\n",
       "      <td>0.062568</td>\n",
       "      <td>0.192341</td>\n",
       "      <td>0.145552</td>\n",
       "      <td>0.090580</td>\n",
       "      <td>-0.000452</td>\n",
       "      <td>1.000000</td>\n",
       "      <td>-0.091428</td>\n",
       "      <td>-0.139132</td>\n",
       "      <td>0.198069</td>\n",
       "      <td>0.003031</td>\n",
       "      <td>0.025666</td>\n",
       "      <td>0.150081</td>\n",
       "      <td>-0.099909</td>\n",
       "    </tr>\n",
       "    <tr>\n",
       "      <th>Land_Area(Km²)</th>\n",
       "      <td>0.089317</td>\n",
       "      <td>0.139609</td>\n",
       "      <td>0.116325</td>\n",
       "      <td>0.054433</td>\n",
       "      <td>0.041376</td>\n",
       "      <td>-0.018914</td>\n",
       "      <td>0.430763</td>\n",
       "      <td>-0.091428</td>\n",
       "      <td>1.000000</td>\n",
       "      <td>0.091051</td>\n",
       "      <td>0.078283</td>\n",
       "      <td>0.160003</td>\n",
       "      <td>0.059357</td>\n",
       "      <td>0.154673</td>\n",
       "      <td>-0.121387</td>\n",
       "    </tr>\n",
       "    <tr>\n",
       "      <th>alc_consumption</th>\n",
       "      <td>0.357067</td>\n",
       "      <td>0.372536</td>\n",
       "      <td>0.452358</td>\n",
       "      <td>0.343766</td>\n",
       "      <td>0.123935</td>\n",
       "      <td>-0.213853</td>\n",
       "      <td>-0.088785</td>\n",
       "      <td>-0.139132</td>\n",
       "      <td>0.091051</td>\n",
       "      <td>1.000000</td>\n",
       "      <td>0.274408</td>\n",
       "      <td>0.404353</td>\n",
       "      <td>-0.131993</td>\n",
       "      <td>0.251750</td>\n",
       "      <td>-0.438182</td>\n",
       "    </tr>\n",
       "    <tr>\n",
       "      <th>income_per_person</th>\n",
       "      <td>0.701148</td>\n",
       "      <td>0.704777</td>\n",
       "      <td>0.515390</td>\n",
       "      <td>0.642550</td>\n",
       "      <td>0.372925</td>\n",
       "      <td>0.170372</td>\n",
       "      <td>-0.053859</td>\n",
       "      <td>0.198069</td>\n",
       "      <td>0.078283</td>\n",
       "      <td>0.274408</td>\n",
       "      <td>1.000000</td>\n",
       "      <td>0.048926</td>\n",
       "      <td>-0.049699</td>\n",
       "      <td>0.566928</td>\n",
       "      <td>-0.491686</td>\n",
       "    </tr>\n",
       "    <tr>\n",
       "      <th>suicide_per_100th</th>\n",
       "      <td>0.020095</td>\n",
       "      <td>0.121740</td>\n",
       "      <td>0.203550</td>\n",
       "      <td>0.050184</td>\n",
       "      <td>0.102146</td>\n",
       "      <td>0.005849</td>\n",
       "      <td>0.145056</td>\n",
       "      <td>0.003031</td>\n",
       "      <td>0.160003</td>\n",
       "      <td>0.404353</td>\n",
       "      <td>0.048926</td>\n",
       "      <td>1.000000</td>\n",
       "      <td>0.021244</td>\n",
       "      <td>-0.137026</td>\n",
       "      <td>-0.177363</td>\n",
       "    </tr>\n",
       "    <tr>\n",
       "      <th>employ_rate</th>\n",
       "      <td>-0.106151</td>\n",
       "      <td>-0.365374</td>\n",
       "      <td>-0.251604</td>\n",
       "      <td>-0.252607</td>\n",
       "      <td>0.259647</td>\n",
       "      <td>0.373469</td>\n",
       "      <td>0.068052</td>\n",
       "      <td>0.025666</td>\n",
       "      <td>0.059357</td>\n",
       "      <td>-0.131993</td>\n",
       "      <td>-0.049699</td>\n",
       "      <td>0.021244</td>\n",
       "      <td>1.000000</td>\n",
       "      <td>-0.367528</td>\n",
       "      <td>0.335453</td>\n",
       "    </tr>\n",
       "    <tr>\n",
       "      <th>urban_rate</th>\n",
       "      <td>0.658291</td>\n",
       "      <td>0.764542</td>\n",
       "      <td>0.609510</td>\n",
       "      <td>0.664360</td>\n",
       "      <td>0.178925</td>\n",
       "      <td>-0.156636</td>\n",
       "      <td>-0.106431</td>\n",
       "      <td>0.150081</td>\n",
       "      <td>0.154673</td>\n",
       "      <td>0.251750</td>\n",
       "      <td>0.566928</td>\n",
       "      <td>-0.137026</td>\n",
       "      <td>-0.367528</td>\n",
       "      <td>1.000000</td>\n",
       "      <td>-0.572448</td>\n",
       "    </tr>\n",
       "    <tr>\n",
       "      <th>Fertility</th>\n",
       "      <td>-0.662773</td>\n",
       "      <td>-0.810994</td>\n",
       "      <td>-0.733766</td>\n",
       "      <td>-0.846699</td>\n",
       "      <td>-0.398102</td>\n",
       "      <td>0.054248</td>\n",
       "      <td>-0.047434</td>\n",
       "      <td>-0.099909</td>\n",
       "      <td>-0.121387</td>\n",
       "      <td>-0.438182</td>\n",
       "      <td>-0.491686</td>\n",
       "      <td>-0.177363</td>\n",
       "      <td>0.335453</td>\n",
       "      <td>-0.572448</td>\n",
       "      <td>1.000000</td>\n",
       "    </tr>\n",
       "  </tbody>\n",
       "</table>\n",
       "</div>"
      ],
      "text/plain": [
       "                              Happniess_score  ...  Fertility\n",
       "Happniess_score                      1.000000  ...  -0.662773\n",
       "Logged_GDP_per_capita                0.771463  ...  -0.810994\n",
       "Social_support                       0.774020  ...  -0.733766\n",
       "Healthy_life_expectancy              0.779419  ...  -0.846699\n",
       "Freedom_to_make_life_choices         0.558586  ...  -0.398102\n",
       "Generosity                           0.090879  ...   0.054248\n",
       "Population (2020)                   -0.122636  ...  -0.047434\n",
       "Population_Density                   0.069454  ...  -0.099909\n",
       "Land_Area(Km²)                       0.089317  ...  -0.121387\n",
       "alc_consumption                      0.357067  ...  -0.438182\n",
       "income_per_person                    0.701148  ...  -0.491686\n",
       "suicide_per_100th                    0.020095  ...  -0.177363\n",
       "employ_rate                         -0.106151  ...   0.335453\n",
       "urban_rate                           0.658291  ...  -0.572448\n",
       "Fertility                           -0.662773  ...   1.000000\n",
       "\n",
       "[15 rows x 15 columns]"
      ]
     },
     "metadata": {},
     "output_type": "display_data"
    },
    {
     "data": {
      "text/plain": [
       "Fertility                      -0.662773\n",
       "Population (2020)              -0.122636\n",
       "employ_rate                    -0.106151\n",
       "suicide_per_100th               0.020095\n",
       "Population_Density              0.069454\n",
       "Land_Area(Km²)                  0.089317\n",
       "Generosity                      0.090879\n",
       "alc_consumption                 0.357067\n",
       "Freedom_to_make_life_choices    0.558586\n",
       "urban_rate                      0.658291\n",
       "income_per_person               0.701148\n",
       "Logged_GDP_per_capita           0.771463\n",
       "Social_support                  0.774020\n",
       "Healthy_life_expectancy         0.779419\n",
       "Happniess_score                 1.000000\n",
       "Name: Happniess_score, dtype: float64"
      ]
     },
     "metadata": {},
     "output_type": "display_data"
    }
   ],
   "source": [
    "corr_combined_2020 = df_combined_2020.corr()\n",
    "#filter and sory only the correlation with 'Happiness_score'\n",
    "corr_happiness_2020 = corr_combined_2020['Happniess_score'].sort_values()\n",
    "display(corr_combined_2020,corr_happiness_2020)"
   ]
  },
  {
   "cell_type": "markdown",
   "metadata": {
    "id": "e-MneAGLdmqB"
   },
   "source": [
    "### **Correlations Plots**\n",
    "\n",
    "We will first plot the heat map for correlation over all the factors, then we will be looking into the correlation relationship with the factor *'Happiness_Score'*.\n"
   ]
  },
  {
   "cell_type": "markdown",
   "metadata": {
    "id": "mIOz9KqOdmqB"
   },
   "source": [
    "#### ***Heatmap***\n",
    "\n",
    "Heatmap for correlations between all factors"
   ]
  },
  {
   "cell_type": "code",
   "execution_count": null,
   "metadata": {
    "colab": {
     "base_uri": "https://localhost:8080/",
     "height": 731
    },
    "id": "tXdEk1zRdmqC",
    "outputId": "93cb601c-5d13-42ac-9189-8ac5c9f43cf2"
   },
   "outputs": [
    {
     "data": {
      "image/png": "[encoded data removed]",
      "text/plain": [
       "<Figure size 864x720 with 2 Axes>"
      ]
     },
     "metadata": {},
     "output_type": "display_data"
    }
   ],
   "source": [
    "mask = np.zeros_like(corr_combined_2020)\n",
    "mask[np.triu_indices_from(mask)] = True\n",
    "with sns.axes_style(\"white\"):\n",
    "    f, ax = plt.subplots(figsize=(12,10))\n",
    "    ax = sns.heatmap(corr_combined_2020, annot=True, mask=mask, vmax=.3, square=True)\n",
    "\n",
    "plt.show()"
   ]
  },
  {
   "cell_type": "markdown",
   "metadata": {
    "id": "HkboNnSPdmqC"
   },
   "source": [
    "#### ***Positive Correlations Plot***"
   ]
  },
  {
   "cell_type": "code",
   "execution_count": null,
   "metadata": {
    "colab": {
     "base_uri": "https://localhost:8080/",
     "height": 863
    },
    "id": "IRqHtCQIdmqC",
    "outputId": "d0d62d91-168d-44a6-9095-4e3c930627d8"
   },
   "outputs": [
    {
     "data": {
      "image/png": "[encoded data removed]",
      "text/plain": [
       "<Figure size 1080x1080 with 1 Axes>"
      ]
     },
     "metadata": {
      "needs_background": "light"
     },
     "output_type": "display_data"
    }
   ],
   "source": [
    "pos_corr = corr_happiness_2020[corr_happiness_2020>=0]\n",
    "ax = pos_corr.plot.barh(figsize=(15,15), xticks=[0,0.3,0.7,1])\n",
    "for bar in ax.patches:\n",
    "     ax.text(bar.get_width()+.01, bar.get_y()+.2, str(round(bar.get_width(), 2)), fontsize=11, color='black')\n",
    "plt.grid(axis='x')"
   ]
  },
  {
   "cell_type": "markdown",
   "metadata": {
    "id": "LcIDd_TldmqC"
   },
   "source": [
    "#### ***Negative Correlations Plot***"
   ]
  },
  {
   "cell_type": "code",
   "execution_count": null,
   "metadata": {
    "colab": {
     "base_uri": "https://localhost:8080/",
     "height": 592
    },
    "id": "_VKyI6zndmqD",
    "outputId": "9cf1f196-232c-41ad-a2c3-b877be38ec3b"
   },
   "outputs": [
    {
     "data": {
      "image/png": "[encoded data removed]",
      "text/plain": [
       "<Figure size 720x720 with 1 Axes>"
      ]
     },
     "metadata": {
      "needs_background": "light"
     },
     "output_type": "display_data"
    }
   ],
   "source": [
    "neg_corr = corr_happiness_2020[corr_happiness_2020<0]\n",
    "ax = neg_corr.plot.barh(figsize=(10,10), xticks=[0,-0.3,-0.7,-1])\n",
    "for bar in ax.patches:\n",
    "     ax.text(bar.get_width()-.01, bar.get_y()+.2, str(round(bar.get_width(), 2)), fontsize=11, color='black')\n",
    "plt.grid(axis='x')\n",
    "plt.gca().invert_xaxis()\n",
    "plt.gca().invert_yaxis()"
   ]
  },
  {
   "cell_type": "markdown",
   "metadata": {
    "id": "BK7ZNowjdmqD"
   },
   "source": [
    "### **Correlation Analysis**\n"
   ]
  },
  {
   "cell_type": "markdown",
   "metadata": {
    "id": "6ViMUacPdmqD"
   },
   "source": [
    "From the above correlation plots, we can conclude the following:"
   ]
  },
  {
   "cell_type": "markdown",
   "metadata": {
    "id": "fNxjgA3zdmqD"
   },
   "source": [
    "1.Happiness score has strong positive correlation with GDP , social  support,healthy life expectancy and income per person "
   ]
  },
  {
   "cell_type": "markdown",
   "metadata": {
    "id": "lOYa09sIdmqD"
   },
   "source": [
    "2.Happiness score has moderate positive correlation with the freedom to make life choices, alcohol comsumption, and urbanrate\n"
   ]
  },
  {
   "cell_type": "markdown",
   "metadata": {
    "id": "8ainAJohdmqE"
   },
   "source": [
    "3.Happiness score has moderate negative correlation with numbers of children per family have(fertility level)"
   ]
  },
  {
   "cell_type": "markdown",
   "metadata": {
    "id": "FCfVF_76dmqE"
   },
   "source": [
    "### **Linear Regression to Predict Happniess Score** "
   ]
  },
  {
   "cell_type": "code",
   "execution_count": null,
   "metadata": {
    "id": "8FqC6iCZdmqG"
   },
   "outputs": [],
   "source": [
    "df= df_combined_2020"
   ]
  },
  {
   "cell_type": "code",
   "execution_count": null,
   "metadata": {
    "colab": {
     "base_uri": "https://localhost:8080/",
     "height": 244
    },
    "id": "B4XmQRkRVzHT",
    "outputId": "0ee085d1-99c6-4693-852f-0fca77b6a854"
   },
   "outputs": [
    {
     "data": {
      "text/html": [
       "<div>\n",
       "<style scoped>\n",
       "    .dataframe tbody tr th:only-of-type {\n",
       "        vertical-align: middle;\n",
       "    }\n",
       "\n",
       "    .dataframe tbody tr th {\n",
       "        vertical-align: top;\n",
       "    }\n",
       "\n",
       "    .dataframe thead th {\n",
       "        text-align: right;\n",
       "    }\n",
       "</style>\n",
       "<table border=\"1\" class=\"dataframe\">\n",
       "  <thead>\n",
       "    <tr style=\"text-align: right;\">\n",
       "      <th></th>\n",
       "      <th>Country_name</th>\n",
       "      <th>Happniess_score</th>\n",
       "      <th>Logged_GDP_per_capita</th>\n",
       "      <th>Social_support</th>\n",
       "      <th>Healthy_life_expectancy</th>\n",
       "      <th>Freedom_to_make_life_choices</th>\n",
       "      <th>Generosity</th>\n",
       "      <th>Population (2020)</th>\n",
       "      <th>Population_Density</th>\n",
       "      <th>Land_Area(Km²)</th>\n",
       "      <th>alc_consumption</th>\n",
       "      <th>income_per_person</th>\n",
       "      <th>suicide_per_100th</th>\n",
       "      <th>employ_rate</th>\n",
       "      <th>urban_rate</th>\n",
       "      <th>Fertility</th>\n",
       "    </tr>\n",
       "  </thead>\n",
       "  <tbody>\n",
       "    <tr>\n",
       "      <th>0</th>\n",
       "      <td>Finland</td>\n",
       "      <td>7.809</td>\n",
       "      <td>10.639</td>\n",
       "      <td>0.954</td>\n",
       "      <td>71.901</td>\n",
       "      <td>0.949</td>\n",
       "      <td>-0.059</td>\n",
       "      <td>5542237</td>\n",
       "      <td>18</td>\n",
       "      <td>303890</td>\n",
       "      <td>13.10</td>\n",
       "      <td>27110.732</td>\n",
       "      <td>16</td>\n",
       "      <td>57.2</td>\n",
       "      <td>63.30</td>\n",
       "      <td>1</td>\n",
       "    </tr>\n",
       "    <tr>\n",
       "      <th>1</th>\n",
       "      <td>Denmark</td>\n",
       "      <td>7.646</td>\n",
       "      <td>10.774</td>\n",
       "      <td>0.956</td>\n",
       "      <td>72.403</td>\n",
       "      <td>0.951</td>\n",
       "      <td>0.066</td>\n",
       "      <td>5795780</td>\n",
       "      <td>137</td>\n",
       "      <td>42430</td>\n",
       "      <td>12.02</td>\n",
       "      <td>30532.277</td>\n",
       "      <td>8</td>\n",
       "      <td>63.1</td>\n",
       "      <td>86.68</td>\n",
       "      <td>1</td>\n",
       "    </tr>\n",
       "    <tr>\n",
       "      <th>2</th>\n",
       "      <td>Switzerland</td>\n",
       "      <td>7.560</td>\n",
       "      <td>10.980</td>\n",
       "      <td>0.943</td>\n",
       "      <td>74.102</td>\n",
       "      <td>0.921</td>\n",
       "      <td>0.106</td>\n",
       "      <td>8665615</td>\n",
       "      <td>219</td>\n",
       "      <td>39516</td>\n",
       "      <td>11.41</td>\n",
       "      <td>37662.751</td>\n",
       "      <td>13</td>\n",
       "      <td>64.3</td>\n",
       "      <td>73.48</td>\n",
       "      <td>1</td>\n",
       "    </tr>\n",
       "    <tr>\n",
       "      <th>3</th>\n",
       "      <td>Iceland</td>\n",
       "      <td>7.504</td>\n",
       "      <td>10.773</td>\n",
       "      <td>0.975</td>\n",
       "      <td>73.000</td>\n",
       "      <td>0.949</td>\n",
       "      <td>0.247</td>\n",
       "      <td>341628</td>\n",
       "      <td>3</td>\n",
       "      <td>100250</td>\n",
       "      <td>7.38</td>\n",
       "      <td>33945.314</td>\n",
       "      <td>11</td>\n",
       "      <td>73.6</td>\n",
       "      <td>92.26</td>\n",
       "      <td>1</td>\n",
       "    </tr>\n",
       "    <tr>\n",
       "      <th>4</th>\n",
       "      <td>Norway</td>\n",
       "      <td>7.488</td>\n",
       "      <td>11.088</td>\n",
       "      <td>0.952</td>\n",
       "      <td>73.201</td>\n",
       "      <td>0.956</td>\n",
       "      <td>0.135</td>\n",
       "      <td>5428594</td>\n",
       "      <td>15</td>\n",
       "      <td>365268</td>\n",
       "      <td>8.35</td>\n",
       "      <td>39972.353</td>\n",
       "      <td>10</td>\n",
       "      <td>65.0</td>\n",
       "      <td>77.48</td>\n",
       "      <td>1</td>\n",
       "    </tr>\n",
       "  </tbody>\n",
       "</table>\n",
       "</div>"
      ],
      "text/plain": [
       "  Country_name  Happniess_score  ...  urban_rate  Fertility\n",
       "0      Finland            7.809  ...       63.30          1\n",
       "1      Denmark            7.646  ...       86.68          1\n",
       "2  Switzerland            7.560  ...       73.48          1\n",
       "3      Iceland            7.504  ...       92.26          1\n",
       "4       Norway            7.488  ...       77.48          1\n",
       "\n",
       "[5 rows x 16 columns]"
      ]
     },
     "execution_count": 106,
     "metadata": {},
     "output_type": "execute_result"
    }
   ],
   "source": [
    "df.head(5)"
   ]
  },
  {
   "cell_type": "code",
   "execution_count": null,
   "metadata": {
    "colab": {
     "base_uri": "https://localhost:8080/"
    },
    "id": "vTK_g96hQY-O",
    "outputId": "ed9eab19-6599-43f7-8553-176d254cc835"
   },
   "outputs": [
    {
     "name": "stdout",
     "output_type": "stream",
     "text": [
      "<class 'pandas.core.frame.DataFrame'>\n",
      "Int64Index: 135 entries, 0 to 134\n",
      "Data columns (total 16 columns):\n",
      " #   Column                        Non-Null Count  Dtype  \n",
      "---  ------                        --------------  -----  \n",
      " 0   Country_name                  135 non-null    object \n",
      " 1   Happniess_score               135 non-null    float64\n",
      " 2   Logged_GDP_per_capita         135 non-null    float64\n",
      " 3   Social_support                135 non-null    float64\n",
      " 4   Healthy_life_expectancy       135 non-null    float64\n",
      " 5   Freedom_to_make_life_choices  135 non-null    float64\n",
      " 6   Generosity                    135 non-null    float64\n",
      " 7   Population (2020)             135 non-null    int64  \n",
      " 8   Population_Density            135 non-null    int64  \n",
      " 9   Land_Area(Km²)                135 non-null    int64  \n",
      " 10  alc_consumption               135 non-null    float64\n",
      " 11  income_per_person             135 non-null    float64\n",
      " 12  suicide_per_100th             135 non-null    int64  \n",
      " 13  employ_rate                   135 non-null    float64\n",
      " 14  urban_rate                    135 non-null    float64\n",
      " 15  Fertility                     135 non-null    int64  \n",
      "dtypes: float64(10), int64(5), object(1)\n",
      "memory usage: 17.9+ KB\n"
     ]
    }
   ],
   "source": [
    "df.info()"
   ]
  },
  {
   "cell_type": "code",
   "execution_count": null,
   "metadata": {
    "colab": {
     "base_uri": "https://localhost:8080/"
    },
    "id": "y2p4aEblQZAN",
    "outputId": "ba61048b-918d-46c5-9c4c-c653e901f0a6"
   },
   "outputs": [
    {
     "data": {
      "text/plain": [
       "Index(['Country_name', 'Happniess_score', 'Logged_GDP_per_capita',\n",
       "       'Social_support', 'Healthy_life_expectancy',\n",
       "       'Freedom_to_make_life_choices', 'Generosity', 'Population (2020)',\n",
       "       'Population_Density', 'Land_Area(Km²)', 'alc_consumption',\n",
       "       'income_per_person', 'suicide_per_100th', 'employ_rate', 'urban_rate',\n",
       "       'Fertility'],\n",
       "      dtype='object')"
      ]
     },
     "execution_count": 108,
     "metadata": {},
     "output_type": "execute_result"
    }
   ],
   "source": [
    "df.columns"
   ]
  },
  {
   "cell_type": "code",
   "execution_count": null,
   "metadata": {
    "id": "-Liw4ZA1QZEY"
   },
   "outputs": [],
   "source": [
    "#Firstly, dropped Country column from dataset as it is categorical data type and linear regression\n",
    "#only need numerical data type to run linear regression"
   ]
  },
  {
   "cell_type": "code",
   "execution_count": null,
   "metadata": {
    "id": "G1B8_6_fQZHO"
   },
   "outputs": [],
   "source": [
    "df.drop('Country_name',inplace = True,axis='columns')"
   ]
  },
  {
   "cell_type": "markdown",
   "metadata": {
    "id": "tp2wveItchIV"
   },
   "source": [
    "#### **Training a Linear Regression Model**\n",
    "\n",
    "Let's now begin to train out regression model! We will need to first split up our data into an X array that contains the features to train on, and a y array with the target variable, in this case the Happiness Score column. We will toss out the Address column because it only has text info that the linear regression model can't use."
   ]
  },
  {
   "cell_type": "code",
   "execution_count": null,
   "metadata": {
    "id": "ksfmTm2abOBn"
   },
   "outputs": [],
   "source": [
    "X = df[['Logged_GDP_per_capita',\n",
    "       'Social_support', 'Healthy_life_expectancy',\n",
    "       'income_per_person']]\n",
    "y = df['Happniess_score']"
   ]
  },
  {
   "cell_type": "markdown",
   "metadata": {
    "id": "a7ukJdWvcZZo"
   },
   "source": [
    "**Train Test Split**\n",
    "\n",
    "Now let's split the data into a training set and a testing set. We will train out model on the training set and then use the test set to evaluate the model. We assigned 60% of the dataset to the train set and 40% to a test set."
   ]
  },
  {
   "cell_type": "code",
   "execution_count": null,
   "metadata": {
    "id": "CYs58vL6cHUE"
   },
   "outputs": [],
   "source": [
    "from sklearn.model_selection import train_test_split"
   ]
  },
  {
   "cell_type": "code",
   "execution_count": null,
   "metadata": {
    "id": "L7aD6s8AcHXY"
   },
   "outputs": [],
   "source": [
    "X_train, X_test, y_train, y_test = train_test_split(X, y, test_size=0.4, random_state=101)"
   ]
  },
  {
   "cell_type": "code",
   "execution_count": null,
   "metadata": {
    "id": "zhPKh6gJcHaA"
   },
   "outputs": [],
   "source": []
  },
  {
   "cell_type": "markdown",
   "metadata": {
    "id": "O8YaL86Acw-G"
   },
   "source": [
    "**Creating and Training the Model**\n",
    "\n"
   ]
  },
  {
   "cell_type": "code",
   "execution_count": null,
   "metadata": {
    "id": "8TCF1x6IcHdc"
   },
   "outputs": [],
   "source": [
    "from sklearn.linear_model import LinearRegression"
   ]
  },
  {
   "cell_type": "code",
   "execution_count": null,
   "metadata": {
    "id": "eEVPB13AcHfx"
   },
   "outputs": [],
   "source": [
    "lm = LinearRegression()"
   ]
  },
  {
   "cell_type": "code",
   "execution_count": null,
   "metadata": {
    "colab": {
     "base_uri": "https://localhost:8080/"
    },
    "id": "M96oQMqpcHkU",
    "outputId": "11509d7e-6e47-40c9-fd56-4f4c23ffd9d1"
   },
   "outputs": [
    {
     "data": {
      "text/plain": [
       "LinearRegression()"
      ]
     },
     "execution_count": 116,
     "metadata": {},
     "output_type": "execute_result"
    }
   ],
   "source": [
    "lm.fit(X_train,y_train)\n",
    "#A linear regression model is created and trained at (in sklearn, the train is equal to fit)."
   ]
  },
  {
   "cell_type": "code",
   "execution_count": null,
   "metadata": {
    "colab": {
     "base_uri": "https://localhost:8080/"
    },
    "id": "oDac-ixKdGxN",
    "outputId": "b6419611-d1e2-4cd4-b7cf-8e04ad4a1d81"
   },
   "outputs": [
    {
     "data": {
      "text/plain": [
       "0.7436112839343918"
      ]
     },
     "execution_count": 117,
     "metadata": {},
     "output_type": "execute_result"
    }
   ],
   "source": [
    "lm.score(X_train,y_train)\n",
    "#model is good as score of linear regression is more than 0 "
   ]
  },
  {
   "cell_type": "markdown",
   "metadata": {
    "id": "b928OchWdO7R"
   },
   "source": [
    "#### ***Model Evaluation***"
   ]
  },
  {
   "cell_type": "code",
   "execution_count": null,
   "metadata": {
    "colab": {
     "base_uri": "https://localhost:8080/"
    },
    "id": "7DQjEjVDdG3a",
    "outputId": "df74de26-b990-4fc9-b9f2-11181737061f"
   },
   "outputs": [
    {
     "name": "stdout",
     "output_type": "stream",
     "text": [
      "-0.54655143586983\n"
     ]
    }
   ],
   "source": [
    "# print the intercept\n",
    "print(lm.intercept_)"
   ]
  },
  {
   "cell_type": "markdown",
   "metadata": {
    "id": "S5k6oT1NdZ_8"
   },
   "source": [
    "We imported sklearn linear regression to create a best fit line for our variables.\n",
    "So, to make a best fit line need intercept and coefficients/"
   ]
  },
  {
   "cell_type": "code",
   "execution_count": null,
   "metadata": {
    "colab": {
     "base_uri": "https://localhost:8080/",
     "height": 175
    },
    "id": "9zuureyEdG9W",
    "outputId": "74800665-204a-4485-beab-a8c7cf386743"
   },
   "outputs": [
    {
     "data": {
      "text/html": [
       "<div>\n",
       "<style scoped>\n",
       "    .dataframe tbody tr th:only-of-type {\n",
       "        vertical-align: middle;\n",
       "    }\n",
       "\n",
       "    .dataframe tbody tr th {\n",
       "        vertical-align: top;\n",
       "    }\n",
       "\n",
       "    .dataframe thead th {\n",
       "        text-align: right;\n",
       "    }\n",
       "</style>\n",
       "<table border=\"1\" class=\"dataframe\">\n",
       "  <thead>\n",
       "    <tr style=\"text-align: right;\">\n",
       "      <th></th>\n",
       "      <th>Coefficient</th>\n",
       "    </tr>\n",
       "  </thead>\n",
       "  <tbody>\n",
       "    <tr>\n",
       "      <th>Logged_GDP_per_capita</th>\n",
       "      <td>-0.067144</td>\n",
       "    </tr>\n",
       "    <tr>\n",
       "      <th>Social_support</th>\n",
       "      <td>4.379316</td>\n",
       "    </tr>\n",
       "    <tr>\n",
       "      <th>Healthy_life_expectancy</th>\n",
       "      <td>0.044472</td>\n",
       "    </tr>\n",
       "    <tr>\n",
       "      <th>income_per_person</th>\n",
       "      <td>0.000032</td>\n",
       "    </tr>\n",
       "  </tbody>\n",
       "</table>\n",
       "</div>"
      ],
      "text/plain": [
       "                         Coefficient\n",
       "Logged_GDP_per_capita      -0.067144\n",
       "Social_support              4.379316\n",
       "Healthy_life_expectancy     0.044472\n",
       "income_per_person           0.000032"
      ]
     },
     "execution_count": 119,
     "metadata": {},
     "output_type": "execute_result"
    }
   ],
   "source": [
    "coeff_df = pd.DataFrame(lm.coef_,X.columns,columns=['Coefficient'])\n",
    "coeff_df"
   ]
  },
  {
   "cell_type": "markdown",
   "metadata": {
    "id": "2OGyKNjCdirG"
   },
   "source": [
    "To get better visual on coefficients, I used Dataframe.\n",
    "To check which variable is affection our dependendent variable Happiness score.\n",
    "By using intercept and coefficients can build linear regression model\n",
    "Happiness_score = intercept + Logged_gdp_per_capita&*x + Social_support* x^2 +................."
   ]
  },
  {
   "cell_type": "markdown",
   "metadata": {
    "id": "bR97mvCadufd"
   },
   "source": [
    "#### ***Predictions from our Model***\n",
    "\n",
    "Let's grab predictions off our test set and see how well it did!"
   ]
  },
  {
   "cell_type": "code",
   "execution_count": null,
   "metadata": {
    "id": "RHqmdoDSbOKS"
   },
   "outputs": [],
   "source": [
    "predictions = lm.predict(X_test)"
   ]
  },
  {
   "cell_type": "code",
   "execution_count": null,
   "metadata": {
    "colab": {
     "base_uri": "https://localhost:8080/",
     "height": 287
    },
    "id": "xsZoYubCbONx",
    "outputId": "e280dfce-9d83-43ee-ddbd-d6bf35a4ac0a"
   },
   "outputs": [
    {
     "data": {
      "text/plain": [
       "<matplotlib.collections.PathCollection at 0x7f1e897c1850>"
      ]
     },
     "execution_count": 121,
     "metadata": {},
     "output_type": "execute_result"
    },
    {
     "data": {
      "image/png": "[encoded data removed]",
      "text/plain": [
       "<Figure size 432x288 with 1 Axes>"
      ]
     },
     "metadata": {
      "needs_background": "light"
     },
     "output_type": "display_data"
    }
   ],
   "source": [
    "import matplotlib.pyplot as plt\n",
    "%matplotlib inline\n",
    "plt.scatter(y_test,predictions)"
   ]
  },
  {
   "cell_type": "markdown",
   "metadata": {
    "id": "Dq8MbNknd8zR"
   },
   "source": [
    "Our predicted values are very close to the actual values for the observations in the data set. A kind of straight diagonal line with some outliers in this scatterplot would indicate that our model perfectly predicted the y-array values"
   ]
  },
  {
   "cell_type": "markdown",
   "metadata": {
    "id": "uFUIxy1eeAXQ"
   },
   "source": [
    "#### ***Regression Evaluation Metrics***\n",
    "\n",
    "MAE is the easiest to understand, because it's the average error. MSE is more popular than MAE, because MSE \"punishes\" larger errors, which tends to be useful in the real world. RMSE is even more popular than MSE, because RMSE is interpretable in the \"y\" units. All of these are loss functions, because we want to minimize them."
   ]
  },
  {
   "cell_type": "code",
   "execution_count": null,
   "metadata": {
    "id": "ejEU5GV0d2SQ"
   },
   "outputs": [],
   "source": [
    "from sklearn import metrics\n",
    "import numpy as np"
   ]
  },
  {
   "cell_type": "code",
   "execution_count": null,
   "metadata": {
    "colab": {
     "base_uri": "https://localhost:8080/"
    },
    "id": "TQWKxGUpd2Uf",
    "outputId": "37acd6a3-a474-4735-8be6-b9bc248e19af"
   },
   "outputs": [
    {
     "name": "stdout",
     "output_type": "stream",
     "text": [
      "MAE: 0.42013890272832083\n",
      "MSE: 0.2754206361251612\n",
      "RMSE: 0.5248053316470415\n"
     ]
    }
   ],
   "source": [
    "print('MAE:', metrics.mean_absolute_error(y_test, predictions))\n",
    "print('MSE:', metrics.mean_squared_error(y_test, predictions))\n",
    "print('RMSE:', np.sqrt(metrics.mean_squared_error(y_test, predictions)))"
   ]
  },
  {
   "cell_type": "markdown",
   "metadata": {
    "id": "g2qPs__FB8Xa"
   },
   "source": [
    "# **CONCLUSION**"
   ]
  },
  {
   "cell_type": "markdown",
   "metadata": {
    "id": "w26jemPadxZZ"
   },
   "source": [
    "**_In part one of our report, we analyzed the change of the Global Happiness Scores over the years between 2015 and 2020. From the results, we observed that \\:_**  \n",
    "\n",
    "*   Out of all the different regions in the world, Australia and New Zealand has the highest Happiness Score of 7.29 and North America with 7.16, where Sub- Saharan Africa has the lowest score of 4.24\n",
    "\n",
    "*   With the top 10 happiest countries, Switzerland has the highest Happiness Score out of all the selected countries in the world. Canada has ranked the fifth happiest country with the average Happiness Score of 7.43\n",
    "\n",
    "* By identifying Happiness Score as high if the score is greater or equal to 6.5, Western Europe has the most countries with high happiness Score of 54.5% out of all the High Happiness Score Region\n",
    "\n",
    "*   Over the 6 years, the average Happiness Score has slowly increase from 5.375 to 5.497\n",
    "\n",
    "\n",
    "\n",
    "***With the increase Happiness Score over the years, in part 2 of our study, we explored different datasets relating the happiness of a country and compare different factors. We conclude that\\:***\n",
    "\n",
    "* Healthy life expectancy of a country has the strongest positive correlation with Happiness score, where Social support and GDP are also strongly positive correlated with only 0.01 less than Healthy life expectancy. This means that the increase of Health life expectancy, social support or GDP will lead to an increase in Happiness Score.\n",
    "\n",
    "* Fertility rate has the strongest negative correlation with the Happiness Scores, meaning that if fertility rate decrease, Happiness Score will eventually increase.\n",
    "\n",
    "* With the linear regression prediction, we have conclude that 'Logged_GDP_per_capita','Social_support', 'Healthy_life_expectancy' and 'income_per_person' variables can be used to predict the 'Happiness Score'.\n",
    "\n",
    "***With our study over the Global Happiness Scores, it is recommended for a country to focus on more of the strong correlation factors in order to increase a country's Happiness Score.***\n",
    "\n"
   ]
  }
 ],
 "metadata": {
  "colab": {
   "collapsed_sections": [],
   "name": "World_happiniess_combined.ipynb",
   "provenance": []
  },
  "kernelspec": {
   "display_name": "Python 3",
   "language": "python",
   "name": "python3"
  },
  "language_info": {
   "codemirror_mode": {
    "name": "ipython",
    "version": 3
   },
   "file_extension": ".py",
   "mimetype": "text/x-python",
   "name": "python",
   "nbconvert_exporter": "python",
   "pygments_lexer": "ipython3",
   "version": "3.8.5"
  }
 },
 "nbformat": 4,
 "nbformat_minor": 1
}
